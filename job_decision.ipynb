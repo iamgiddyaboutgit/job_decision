{
 "cells": [
  {
   "cell_type": "markdown",
   "metadata": {},
   "source": [
    "# Job Decision Analysis"
   ]
  },
  {
   "cell_type": "code",
   "execution_count": 799,
   "metadata": {},
   "outputs": [],
   "source": [
    "import util as ut\n",
    "from util import JustinDistribution\n",
    "import trimmed_hd_quantile_estimator as hd\n",
    "\n",
    "import importlib\n",
    "from datetime import date, timedelta\n",
    "\n",
    "import numpyro\n",
    "import numpyro.distributions as dist\n",
    "import numpyro.distributions.util as util\n",
    "from numpyro.infer import DiscreteHMCGibbs, MCMC, NUTS, MixedHMC, HMC\n",
    "from jax import random\n",
    "import jax.numpy as jnp\n",
    "import plotly.express as px\n",
    "import plotly.io as pio\n",
    "import numpy as np\n",
    "from scipy import stats\n",
    "import pyvinecopulib as pv\n",
    "import graphviz\n",
    "import funsor\n",
    "import pysdtest as stochdom"
   ]
  },
  {
   "cell_type": "code",
   "execution_count": 798,
   "metadata": {},
   "outputs": [],
   "source": [
    "importlib.reload(ut)\n",
    "rng_key = random.PRNGKey(123)\n",
    "pio.renderers.default = \"svg\""
   ]
  },
  {
   "cell_type": "markdown",
   "metadata": {},
   "source": [
    "# Description\n",
    "A family member needs help with a job decision.  There are two alternatives A1 and A2, which send the decision maker on different stochastic journeys to retirement.\n",
    "\n",
    "1. Maintain current employment until one of the following occurs:\n",
    "- your `vestment_date` is reached\n",
    "- you start a new UT state government job other than Lands Program Manager\n",
    "- you are discharged/layed off\n",
    "\n",
    "Meanwhile, seek new employment with the UT state government with effort level `cur_pre_v_ut_effort_level_a` and other kinds of employment (to start after vestment) with effort level `cur_pre_v_non_ut_effort_level_a`.  However, if you're still at your curent position on `vestment_date - 90 days`, then thereafter seek new employment (to start after vestment) somewhere other than the UT state government with effort level `cur_pre_v_non_ut_effort_level_b`. \n",
    "\n",
    "If you receive a non-UT-state-government job offer, then only switch to it once `vestment_date` has been reached.\n",
    "\n",
    "If your `vestment_date` is reached and you have no job offers, then seek employment somewhere other than the UT state government with effort level `post_v_non_ut_effort_level_a` while maintaining current position.\n",
    "\n",
    "If new employment is obtained with the UT state government (other than Lands Program Manager) prior to `vestment_date`, then accept it and start working in the new role ASAP.\n",
    "\n",
    "\n",
    "\n",
    "In any case, maintain whatever new employment is found until retirement on `retirement_date`.\n",
    "\n",
    "\n",
    "If you're still at your curent position on `vestment_date - 100 days`, then actively seek new employment from that date until re-employment with the understanding that you would start the new employment on `vestment_date + 1 day` or shortly thereafter.  In other words, don't start new employment until you reach the year mark.  Nevertheless, actively seek new Utah state government employment before `vestment_date - 100 days` if your subjective probability of being laid off before the year mark rises higher than 50%.  In any case, maintain whatever new employment is found until retirement on `retirement_date`.\n",
    "\n",
    "2. Accept job offer for Lands Program Manager.  Begin working in that new position shortly thereafter until retirement on `retirement_date`."
   ]
  },
  {
   "cell_type": "markdown",
   "metadata": {},
   "source": [
    "## Assumptions\n",
    "- We imagine ourselves at the time of retirement looking back on the outcomes of our decision.  We try to predict *now* how we will feel *then* about those outcomes.\n",
    "- We use multiple-criteria decision analysis (specifically multi-attribute utility theory).  Each alternative is valued across several attributes.  The order of these attributes from most important to least important is:\n",
    "    1. monetary_considerations\n",
    "    2. emotional_intangibles  \n",
    "- We assume that the above set of attributes possesses mutual [additive independence](https://en.wikipedia.org/wiki/Multi-attribute_utility#Additive_independence).  Surrogate weights are given to each attribute using the sum-reciprocal method.\n",
    "\n",
    "> Burk, R. C., & Nehring, R. M. (2023). An empirical comparison of rank-based surrogate weights in additive multiattribute decision analysis. Decision Analysis, 20(1), 55-72.\n",
    "\n",
    "\n",
    "\n"
   ]
  },
  {
   "cell_type": "markdown",
   "metadata": {},
   "source": [
    "Fixed Parameters:\n",
    "\n",
    "- `personal_401k_contribution` = 0.05 (as a proportion of pay). This is for the next year.\n",
    "- `employer_matching_401k_contribution` = 0 (as a proportion of `personal_401k_contribution`)\n",
    "- `tier_2_employer_401k_contribution` = 0.14 (as a proportion of pay). See [this](https://www.urs.org/documents/byfilename/%7CPublic%20Web%20Documents%7CURS%7CDC%7C401k_SPD_SW%7C%7Capplication%7Cpdf/) for more information on 401(k) plans within the Utah Retirement System.\n",
    "- `current_401k_transferrable_funds` = 2737.71\n",
    "- `current_401k_nontransferrable_funds` = 18646.47\n",
    "- `current_debt` = 5000\n",
    "- `utility_of_3_day_weekend` = 100. This is the amount that one 3-day weekend is worth in dollars.\n",
    "- `days_until_retirement` = 5*365\n",
    "- `retirement_date` = 2030-07-01\n",
    "- `vestment_date` = 2025-07-01\n",
    "\n",
    "\n",
    "Random Variables:\n",
    "\n",
    "- `initial_health_of_local_economy`: Given on a scale of 1-7. 1: Terrible. 2: Moderately poor. 3: Slightly poor. 4: Neither good nor bad. 5: Slightly good. 6: Moderately good. 7: Amazing.  Here, local means within commuting distance.\n",
    "- `health_of_local_economy_at_retirement`: Given on a scale of 1-7. 1: Terrible. 2: Moderately poor. 3: Slightly poor. 4: Neither good nor bad. 5: Slightly good. 6: Moderately good. 7: Amazing.\n",
    "- `slope_of_health_of_local_economy = (health_of_local_economy_at_retirement - initial_health_of_local_economy + is_laid_off_factor) / days_until_retirement`\n",
    "- `health_of_local_economy_at_time_t = round(initial_health_of_local_economy + slope_of_health_of_local_economy * t)` where t is the number of days since time 0. But, if `health_of_local_economy_at_time_t < 1`, then `health_of_local_economy_at_time_t = 1`.  Else if `health_of_local_economy_at_time_t > 7`, then `health_of_local_economy_at_time_t = 7`.\n",
    "\n",
    "- `initial_health_of_state_economy`: Given on a scale of 1-7. 1: Terrible. 2: Moderately poor. 3: Slightly poor. 4: Neither good nor bad. 5: Slightly good. 6: Moderately good. 7: Amazing.\n",
    "- `health_of_state_economy_at_retirement`: Given on a scale of 1-7. 1: Terrible. 2: Moderately poor. 3: Slightly poor. 4: Neither good nor bad. 5: Slightly good. 6: Moderately good. 7: Amazing.\n",
    "- `slope_of_health_of_state_economy = (health_of_state_economy_at_retirement - initial_health_of_state_economy + 0.9*is_laid_off_factor) / days_until_retirement`\n",
    "- `health_of_state_economy_at_time_t = round(initial_health_of_state_economy + slope_of_health_of_state_economy * t)` where t is the number of days since time 0. But, if `health_of_state_economy_at_time_t < 1`, then `health_of_state_economy_at_time_t = 1`.  Else if `health_of_state_economy_at_time_t > 7`, then `health_of_state_economy_at_time_t = 7`.\n",
    "\n",
    "- `initial_health_of_national_economy`: Given on a scale of 1-7. 1: Terrible. 2: Moderately poor. 3: Slightly poor. 4: Neither good nor bad. 5: Slightly good. 6: Moderately good. 7: Amazing.\n",
    "- `health_of_national_economy_at_retirement`: Given on a scale of 1-7. 1: Terrible. 2: Moderately poor. 3: Slightly poor. 4: Neither good nor bad. 5: Slightly good. 6: Moderately good. 7: Amazing.\n",
    "- `slope_of_health_of_national_economy = (health_of_national_economy_at_retirement - initial_health_of_national_economy + 0.8*is_laid_off_factor) / days_until_retirement`\n",
    "- `health_of_national_economy_at_time_t = round(initial_health_of_national_economy + slope_of_health_of_national_economy * t)` where t is the number of days since time 0. But, if `health_of_national_economy_at_time_t < 1`, then `health_of_national_economy_at_time_t = 1`.  Else if `health_of_national_economy_at_time_t > 7`, then `health_of_national_economy_at_time_t = 7`.\n",
    "\n",
    "- `initial_financial_health_of_current_employer`: Given on a scale of 1-7. 1: Terrible. 2: Moderately poor. 3: Slightly poor. 4: Neither good nor bad. 5: Slightly good. 6: Moderately good. 7: Amazing.\n",
    "- `financial_health_of_current_employer_at_year_mark`: Given on a scale of 1-7. 1: Terrible. 2: Moderately poor. 3: Slightly poor. 4: Neither good nor bad. 5: Slightly good. 6: Moderately good. 7: Amazing.\n",
    "- `slope_of_financial_health_of_current_employer = (financial_health_of_current_employer_at_year_mark - initial_financial_health_of_current_employer) / 365`\n",
    "\n",
    "- `financial_health_of_current_employer_at_time_t = round(initial_financial_health_of_current_employer + slope_of_financial_health_of_current_employer * t + is_laid_off_factor)` where `t` is the number of days since time 0. But, if `financial_health_of_current_employer_at_time_t < 1`, then `financial_health_of_current_employer_at_time_t = 1`.  Else if `financial_health_of_current_employer_at_time_t > 7`, then `financial_health_of_current_employer_at_time_t = 7`.\n",
    "\n",
    "- `prob_laid_off`: The probability of being laid off from the current position before the one year mark. Note that `prob_laid_off + prob_salary_decrease + prob_salary_increase < 1` with the remaining probability density representing the probability of the current salary staying the same up to the one year mark.\n",
    "- `is_laid_off`: Bernoulli random variable with a value of 1 if you are laid off before the 1-year mark.\n",
    "- `is_laid_off_factor`: Takes a value of -1 if `is_laid_off == 1`; otherwise, takes a value of 1.\n",
    "- `additional_days_employed_in_current_job`: The support for this random variable is positive integers up to 365.\n",
    "\n",
    "- `prob_salary_decrease`: The probability of the current salary being decreased. Note that `prob_laid_off + prob_salary_decrease + prob_salary_increase < 1` with the remaining probability density representing the probability of the current salary staying the same up to the one year mark. \n",
    "- `is_salary_decreased`: Bernoulli random variable with a value of 1 if your salary is decreased before the 1-year mark.\n",
    "\n",
    "- `prob_salary_increase`: The probability of the current salary being increased. Note that `prob_laid_off + prob_salary_decrease + prob_salary_increase < 1` with the remaining probability density representing the probability of the current salary staying the same up to the one year mark.\n",
    "- `is_salary_increased`: Bernoulli random variable with a value of 1 if your salary is increased before the 1-year mark.\n",
    "\n",
    "- `is_salary_constant`: Bernoulli random variable with a value of 1 if your salary remains the same up until the 1-year mark. The probability of success is `1 - (prob_laid_off + prob_salary_decrease + prob_salary_increase)`.\n",
    "\n",
    "- `prob_hire_after_layoff`: The probability of being hired after being prematurely layed off by the current employer.\n",
    "- `days_from_layoff_to_next_hire`: If a layoff occurs, how many days would it take until you are hired for another job?\n",
    "- `prob_hire_after_year_mark`: The probability of being hired after reaching the year mark.\n",
    "\n",
    "- `prob_necessary_move_after_layoff`: The probability that it is necessary to move after being layed off in order to be rehired.\n",
    "- ``\n",
    "- `prob_necessary_move_after_year_mark`: The probability that it is necessary to move in order to continue working for another employer after the year mark.\n",
    "\n",
    "8. `annualized_ror_for_401k_transferrable_funds`: Annualized rate of return is calculated [here](https://en.wikipedia.org/wiki/Rate_of_return#Annualization). This will be used for the next year. \n",
    "9. `annualized_ror_for_401k_nontransferrable_funds`: This will be used for the next year.\n",
    "10. `total_debt_payments_for_next_year`\n",
    "11. `remaining_debt_at_end_of_year`\n",
    "12. `days_until_debt_payoff`\n",
    "13. `cucumulative_wages_earned_upon_retirement`: How much money was made from working since the decision was made to stay on the job?\n",
    "14. `number_of_wage_changes`: How many times is your wage changed before the year is up or you are laid off?\n",
    "15. `days_with_salary`: Random vector with length `number_of_wage_changes + 1`. The components represent the number of days between wage changes.\n",
    "\n",
    "\n",
    "\n",
    "\n",
    "\n",
    "\n"
   ]
  },
  {
   "cell_type": "code",
   "execution_count": null,
   "metadata": {},
   "outputs": [
    {
     "data": {
      "text/plain": [
       "1826"
      ]
     },
     "metadata": {},
     "output_type": "display_data"
    }
   ],
   "source": [
    "vestment_date = date(2025, 7, 1)\n",
    "retirement_date = date(2030, 7, 1)\n",
    "(retirement_date - vestment_date).days"
   ]
  },
  {
   "cell_type": "markdown",
   "metadata": {},
   "source": [
    "## Other Modeling Assumptions"
   ]
  },
  {
   "cell_type": "markdown",
   "metadata": {},
   "source": [
    "For monetary considerations, we use the utility function $u:\\mathbb{R}\\rightarrow\\left(-\\infty, \\infty\\right)$ with \n",
    "\n",
    "$$ u(x) =   \\left\\{\n",
    "\\begin{array}{ll}\n",
    "      x - \\frac{1}{2}x^2, & x<0 \\\\\n",
    "      \\text{ln}\\left(x + 1\\right), & x \\geq 0\n",
    "\\end{array} \n",
    "\\right.  \n",
    "$$"
   ]
  },
  {
   "cell_type": "markdown",
   "metadata": {},
   "source": [
    "# Demonstrations of Probability Distributions that We Will Use in the Analysis"
   ]
  },
  {
   "cell_type": "markdown",
   "metadata": {},
   "source": [
    "## Modified-PERT distribution"
   ]
  },
  {
   "cell_type": "code",
   "execution_count": 807,
   "metadata": {},
   "outputs": [],
   "source": [
    "a = 69.5\n",
    "b = 74\n",
    "c = 76\n",
    "gamma = 1\n",
    "pert = ut.Pert(a, b, c, gamma)\n",
    "# https://num.pyro.ai/en/0.7.1/getting_started.html\n",
    "y = a + pert.sample(key=rng_key, sample_shape=(100_000,))*(c - a)"
   ]
  },
  {
   "cell_type": "code",
   "execution_count": 808,
   "metadata": {},
   "outputs": [
    {
     "data": {
      "image/svg+xml": [
       "<svg class=\"main-svg\" xmlns=\"http://www.w3.org/2000/svg\" xmlns:xlink=\"http://www.w3.org/1999/xlink\" width=\"700\" height=\"500\" style=\"\" viewBox=\"0 0 700 500\"><rect x=\"0\" y=\"0\" width=\"700\" height=\"500\" style=\"fill: rgb(255, 255, 255); fill-opacity: 1;\"/><defs id=\"defs-4c173e\"><g class=\"clips\"><clipPath id=\"clip4c173exyplot\" class=\"plotclip\"><rect width=\"540\" height=\"360\"/></clipPath><clipPath class=\"axesclip\" id=\"clip4c173ex\"><rect x=\"80\" y=\"0\" width=\"540\" height=\"500\"/></clipPath><clipPath class=\"axesclip\" id=\"clip4c173ey\"><rect x=\"0\" y=\"60\" width=\"700\" height=\"360\"/></clipPath><clipPath class=\"axesclip\" id=\"clip4c173exy\"><rect x=\"80\" y=\"60\" width=\"540\" height=\"360\"/></clipPath></g><g class=\"gradients\"/><g class=\"patterns\"/></defs><g class=\"bglayer\"><rect class=\"bg\" x=\"80\" y=\"60\" width=\"540\" height=\"360\" style=\"fill: rgb(229, 236, 246); fill-opacity: 1; stroke-width: 0;\"/></g><g class=\"layer-below\"><g class=\"imagelayer\"/><g class=\"shapelayer\"/></g><g class=\"cartesianlayer\"><g class=\"subplot xy\"><g class=\"layer-subplot\"><g class=\"shapelayer\"/><g class=\"imagelayer\"/></g><g class=\"minor-gridlayer\"><g class=\"x\"/><g class=\"y\"/></g><g class=\"gridlayer\"><g class=\"x\"/><g class=\"y\"><path class=\"ygrid crisp\" transform=\"translate(0,357.76)\" d=\"M80,0h540\" style=\"stroke: rgb(255, 255, 255); stroke-opacity: 1; stroke-width: 1px;\"/><path class=\"ygrid crisp\" transform=\"translate(0,295.52)\" d=\"M80,0h540\" style=\"stroke: rgb(255, 255, 255); stroke-opacity: 1; stroke-width: 1px;\"/><path class=\"ygrid crisp\" transform=\"translate(0,233.28)\" d=\"M80,0h540\" style=\"stroke: rgb(255, 255, 255); stroke-opacity: 1; stroke-width: 1px;\"/><path class=\"ygrid crisp\" transform=\"translate(0,171.05)\" d=\"M80,0h540\" style=\"stroke: rgb(255, 255, 255); stroke-opacity: 1; stroke-width: 1px;\"/><path class=\"ygrid crisp\" transform=\"translate(0,108.81)\" d=\"M80,0h540\" style=\"stroke: rgb(255, 255, 255); stroke-opacity: 1; stroke-width: 1px;\"/></g></g><g class=\"zerolinelayer\"><path class=\"yzl zl crisp\" transform=\"translate(0,420)\" d=\"M80,0h540\" style=\"stroke: rgb(255, 255, 255); stroke-opacity: 1; stroke-width: 2px;\"/></g><g class=\"layer-between\"><g class=\"shapelayer\"/><g class=\"imagelayer\"/></g><path class=\"xlines-below\"/><path class=\"ylines-below\"/><g class=\"overlines-below\"/><g class=\"xaxislayer-below\"/><g class=\"yaxislayer-below\"/><g class=\"overaxes-below\"/><g class=\"plot\" transform=\"translate(80,60)\" clip-path=\"url(#clip4c173exyplot)\"><g class=\"barlayer mlayer\"><g class=\"trace bars\" shape-rendering=\"crispEdges\" style=\"opacity: 1;\"><g class=\"points\"><g class=\"point\"><path d=\"M0,360V348.8H4.15V360Z\" style=\"vector-effect: none; opacity: 1; stroke-width: 0px; fill: rgb(99, 110, 250); fill-opacity: 1;\"/></g><g class=\"point\"><path d=\"M4.15,360V336.35H8.31V360Z\" style=\"vector-effect: none; opacity: 1; stroke-width: 0px; fill: rgb(99, 110, 250); fill-opacity: 1;\"/></g><g class=\"point\"><path d=\"M8.31,360V320.79H12.46V360Z\" style=\"vector-effect: none; opacity: 1; stroke-width: 0px; fill: rgb(99, 110, 250); fill-opacity: 1;\"/></g><g class=\"point\"><path d=\"M12.46,360V314.25H16.62V360Z\" style=\"vector-effect: none; opacity: 1; stroke-width: 0px; fill: rgb(99, 110, 250); fill-opacity: 1;\"/></g><g class=\"point\"><path d=\"M16.62,360V302.43H20.77V360Z\" style=\"vector-effect: none; opacity: 1; stroke-width: 0px; fill: rgb(99, 110, 250); fill-opacity: 1;\"/></g><g class=\"point\"><path d=\"M20.77,360V286.25H24.92V360Z\" style=\"vector-effect: none; opacity: 1; stroke-width: 0px; fill: rgb(99, 110, 250); fill-opacity: 1;\"/></g><g class=\"point\"><path d=\"M24.92,360V290.6H29.08V360Z\" style=\"vector-effect: none; opacity: 1; stroke-width: 0px; fill: rgb(99, 110, 250); fill-opacity: 1;\"/></g><g class=\"point\"><path d=\"M29.08,360V273.49H33.23V360Z\" style=\"vector-effect: none; opacity: 1; stroke-width: 0px; fill: rgb(99, 110, 250); fill-opacity: 1;\"/></g><g class=\"point\"><path d=\"M33.23,360V271.93H37.38V360Z\" style=\"vector-effect: none; opacity: 1; stroke-width: 0px; fill: rgb(99, 110, 250); fill-opacity: 1;\"/></g><g class=\"point\"><path d=\"M37.38,360V273.8H41.54V360Z\" style=\"vector-effect: none; opacity: 1; stroke-width: 0px; fill: rgb(99, 110, 250); fill-opacity: 1;\"/></g><g class=\"point\"><path d=\"M41.54,360V255.44H45.69V360Z\" style=\"vector-effect: none; opacity: 1; stroke-width: 0px; fill: rgb(99, 110, 250); fill-opacity: 1;\"/></g><g class=\"point\"><path d=\"M45.69,360V251.71H49.85V360Z\" style=\"vector-effect: none; opacity: 1; stroke-width: 0px; fill: rgb(99, 110, 250); fill-opacity: 1;\"/></g><g class=\"point\"><path d=\"M49.85,360V246.73H54V360Z\" style=\"vector-effect: none; opacity: 1; stroke-width: 0px; fill: rgb(99, 110, 250); fill-opacity: 1;\"/></g><g class=\"point\"><path d=\"M54,360V242.99H58.15V360Z\" style=\"vector-effect: none; opacity: 1; stroke-width: 0px; fill: rgb(99, 110, 250); fill-opacity: 1;\"/></g><g class=\"point\"><path d=\"M58.15,360V234.9H62.31V360Z\" style=\"vector-effect: none; opacity: 1; stroke-width: 0px; fill: rgb(99, 110, 250); fill-opacity: 1;\"/></g><g class=\"point\"><path d=\"M62.31,360V223.39H66.46V360Z\" style=\"vector-effect: none; opacity: 1; stroke-width: 0px; fill: rgb(99, 110, 250); fill-opacity: 1;\"/></g><g class=\"point\"><path d=\"M66.46,360V219.65H70.62V360Z\" style=\"vector-effect: none; opacity: 1; stroke-width: 0px; fill: rgb(99, 110, 250); fill-opacity: 1;\"/></g><g class=\"point\"><path d=\"M70.62,360V219.03H74.77V360Z\" style=\"vector-effect: none; opacity: 1; stroke-width: 0px; fill: rgb(99, 110, 250); fill-opacity: 1;\"/></g><g class=\"point\"><path d=\"M74.77,360V226.5H78.92V360Z\" style=\"vector-effect: none; opacity: 1; stroke-width: 0px; fill: rgb(99, 110, 250); fill-opacity: 1;\"/></g><g class=\"point\"><path d=\"M78.92,360V216.54H83.08V360Z\" style=\"vector-effect: none; opacity: 1; stroke-width: 0px; fill: rgb(99, 110, 250); fill-opacity: 1;\"/></g><g class=\"point\"><path d=\"M83.08,360V206.89H87.23V360Z\" style=\"vector-effect: none; opacity: 1; stroke-width: 0px; fill: rgb(99, 110, 250); fill-opacity: 1;\"/></g><g class=\"point\"><path d=\"M87.23,360V199.42H91.38V360Z\" style=\"vector-effect: none; opacity: 1; stroke-width: 0px; fill: rgb(99, 110, 250); fill-opacity: 1;\"/></g><g class=\"point\"><path d=\"M91.38,360V195.07H95.54V360Z\" style=\"vector-effect: none; opacity: 1; stroke-width: 0px; fill: rgb(99, 110, 250); fill-opacity: 1;\"/></g><g class=\"point\"><path d=\"M95.54,360V191.65H99.69V360Z\" style=\"vector-effect: none; opacity: 1; stroke-width: 0px; fill: rgb(99, 110, 250); fill-opacity: 1;\"/></g><g class=\"point\"><path d=\"M99.69,360V194.76H103.85V360Z\" style=\"vector-effect: none; opacity: 1; stroke-width: 0px; fill: rgb(99, 110, 250); fill-opacity: 1;\"/></g><g class=\"point\"><path d=\"M103.85,360V182.62H108V360Z\" style=\"vector-effect: none; opacity: 1; stroke-width: 0px; fill: rgb(99, 110, 250); fill-opacity: 1;\"/></g><g class=\"point\"><path d=\"M108,360V171.73H112.15V360Z\" style=\"vector-effect: none; opacity: 1; stroke-width: 0px; fill: rgb(99, 110, 250); fill-opacity: 1;\"/></g><g class=\"point\"><path d=\"M112.15,360V180.44H116.31V360Z\" style=\"vector-effect: none; opacity: 1; stroke-width: 0px; fill: rgb(99, 110, 250); fill-opacity: 1;\"/></g><g class=\"point\"><path d=\"M116.31,360V175.15H120.46V360Z\" style=\"vector-effect: none; opacity: 1; stroke-width: 0px; fill: rgb(99, 110, 250); fill-opacity: 1;\"/></g><g class=\"point\"><path d=\"M120.46,360V163.33H124.62V360Z\" style=\"vector-effect: none; opacity: 1; stroke-width: 0px; fill: rgb(99, 110, 250); fill-opacity: 1;\"/></g><g class=\"point\"><path d=\"M124.62,360V154.3H128.77V360Z\" style=\"vector-effect: none; opacity: 1; stroke-width: 0px; fill: rgb(99, 110, 250); fill-opacity: 1;\"/></g><g class=\"point\"><path d=\"M128.77,360V152.75H132.92V360Z\" style=\"vector-effect: none; opacity: 1; stroke-width: 0px; fill: rgb(99, 110, 250); fill-opacity: 1;\"/></g><g class=\"point\"><path d=\"M132.92,360V148.7H137.08V360Z\" style=\"vector-effect: none; opacity: 1; stroke-width: 0px; fill: rgb(99, 110, 250); fill-opacity: 1;\"/></g><g class=\"point\"><path d=\"M137.08,360V154.3H141.23V360Z\" style=\"vector-effect: none; opacity: 1; stroke-width: 0px; fill: rgb(99, 110, 250); fill-opacity: 1;\"/></g><g class=\"point\"><path d=\"M141.23,360V131.9H145.38V360Z\" style=\"vector-effect: none; opacity: 1; stroke-width: 0px; fill: rgb(99, 110, 250); fill-opacity: 1;\"/></g><g class=\"point\"><path d=\"M145.38,360V141.85H149.54V360Z\" style=\"vector-effect: none; opacity: 1; stroke-width: 0px; fill: rgb(99, 110, 250); fill-opacity: 1;\"/></g><g class=\"point\"><path d=\"M149.54,360V137.81H153.69V360Z\" style=\"vector-effect: none; opacity: 1; stroke-width: 0px; fill: rgb(99, 110, 250); fill-opacity: 1;\"/></g><g class=\"point\"><path d=\"M153.69,360V141.23H157.85V360Z\" style=\"vector-effect: none; opacity: 1; stroke-width: 0px; fill: rgb(99, 110, 250); fill-opacity: 1;\"/></g><g class=\"point\"><path d=\"M157.85,360V140.61H162V360Z\" style=\"vector-effect: none; opacity: 1; stroke-width: 0px; fill: rgb(99, 110, 250); fill-opacity: 1;\"/></g><g class=\"point\"><path d=\"M162,360V121H166.15V360Z\" style=\"vector-effect: none; opacity: 1; stroke-width: 0px; fill: rgb(99, 110, 250); fill-opacity: 1;\"/></g><g class=\"point\"><path d=\"M166.15,360V115.71H170.31V360Z\" style=\"vector-effect: none; opacity: 1; stroke-width: 0px; fill: rgb(99, 110, 250); fill-opacity: 1;\"/></g><g class=\"point\"><path d=\"M170.31,360V141.23H174.46V360Z\" style=\"vector-effect: none; opacity: 1; stroke-width: 0px; fill: rgb(99, 110, 250); fill-opacity: 1;\"/></g><g class=\"point\"><path d=\"M174.46,360V117.27H178.62V360Z\" style=\"vector-effect: none; opacity: 1; stroke-width: 0px; fill: rgb(99, 110, 250); fill-opacity: 1;\"/></g><g class=\"point\"><path d=\"M178.62,360V100.47H182.77V360Z\" style=\"vector-effect: none; opacity: 1; stroke-width: 0px; fill: rgb(99, 110, 250); fill-opacity: 1;\"/></g><g class=\"point\"><path d=\"M182.77,360V107H186.92V360Z\" style=\"vector-effect: none; opacity: 1; stroke-width: 0px; fill: rgb(99, 110, 250); fill-opacity: 1;\"/></g><g class=\"point\"><path d=\"M186.92,360V112.29H191.08V360Z\" style=\"vector-effect: none; opacity: 1; stroke-width: 0px; fill: rgb(99, 110, 250); fill-opacity: 1;\"/></g><g class=\"point\"><path d=\"M191.08,360V106.07H195.23V360Z\" style=\"vector-effect: none; opacity: 1; stroke-width: 0px; fill: rgb(99, 110, 250); fill-opacity: 1;\"/></g><g class=\"point\"><path d=\"M195.23,360V106.69H199.38V360Z\" style=\"vector-effect: none; opacity: 1; stroke-width: 0px; fill: rgb(99, 110, 250); fill-opacity: 1;\"/></g><g class=\"point\"><path d=\"M199.38,360V106.38H203.54V360Z\" style=\"vector-effect: none; opacity: 1; stroke-width: 0px; fill: rgb(99, 110, 250); fill-opacity: 1;\"/></g><g class=\"point\"><path d=\"M203.54,360V104.51H207.69V360Z\" style=\"vector-effect: none; opacity: 1; stroke-width: 0px; fill: rgb(99, 110, 250); fill-opacity: 1;\"/></g><g class=\"point\"><path d=\"M207.69,360V84.28H211.85V360Z\" style=\"vector-effect: none; opacity: 1; stroke-width: 0px; fill: rgb(99, 110, 250); fill-opacity: 1;\"/></g><g class=\"point\"><path d=\"M211.85,360V102.64H216V360Z\" style=\"vector-effect: none; opacity: 1; stroke-width: 0px; fill: rgb(99, 110, 250); fill-opacity: 1;\"/></g><g class=\"point\"><path d=\"M216,360V77.44H220.15V360Z\" style=\"vector-effect: none; opacity: 1; stroke-width: 0px; fill: rgb(99, 110, 250); fill-opacity: 1;\"/></g><g class=\"point\"><path d=\"M220.15,360V92.69H224.31V360Z\" style=\"vector-effect: none; opacity: 1; stroke-width: 0px; fill: rgb(99, 110, 250); fill-opacity: 1;\"/></g><g class=\"point\"><path d=\"M224.31,360V84.6H228.46V360Z\" style=\"vector-effect: none; opacity: 1; stroke-width: 0px; fill: rgb(99, 110, 250); fill-opacity: 1;\"/></g><g class=\"point\"><path d=\"M228.46,360V83.04H232.62V360Z\" style=\"vector-effect: none; opacity: 1; stroke-width: 0px; fill: rgb(99, 110, 250); fill-opacity: 1;\"/></g><g class=\"point\"><path d=\"M232.62,360V83.04H236.77V360Z\" style=\"vector-effect: none; opacity: 1; stroke-width: 0px; fill: rgb(99, 110, 250); fill-opacity: 1;\"/></g><g class=\"point\"><path d=\"M236.77,360V63.75H240.92V360Z\" style=\"vector-effect: none; opacity: 1; stroke-width: 0px; fill: rgb(99, 110, 250); fill-opacity: 1;\"/></g><g class=\"point\"><path d=\"M240.92,360V74.01H245.08V360Z\" style=\"vector-effect: none; opacity: 1; stroke-width: 0px; fill: rgb(99, 110, 250); fill-opacity: 1;\"/></g><g class=\"point\"><path d=\"M245.08,360V53.79H249.23V360Z\" style=\"vector-effect: none; opacity: 1; stroke-width: 0px; fill: rgb(99, 110, 250); fill-opacity: 1;\"/></g><g class=\"point\"><path d=\"M249.23,360V62.5H253.38V360Z\" style=\"vector-effect: none; opacity: 1; stroke-width: 0px; fill: rgb(99, 110, 250); fill-opacity: 1;\"/></g><g class=\"point\"><path d=\"M253.38,360V95.8H257.54V360Z\" style=\"vector-effect: none; opacity: 1; stroke-width: 0px; fill: rgb(99, 110, 250); fill-opacity: 1;\"/></g><g class=\"point\"><path d=\"M257.54,360V72.77H261.69V360Z\" style=\"vector-effect: none; opacity: 1; stroke-width: 0px; fill: rgb(99, 110, 250); fill-opacity: 1;\"/></g><g class=\"point\"><path d=\"M261.69,360V72.46H265.85V360Z\" style=\"vector-effect: none; opacity: 1; stroke-width: 0px; fill: rgb(99, 110, 250); fill-opacity: 1;\"/></g><g class=\"point\"><path d=\"M265.85,360V83.35H270V360Z\" style=\"vector-effect: none; opacity: 1; stroke-width: 0px; fill: rgb(99, 110, 250); fill-opacity: 1;\"/></g><g class=\"point\"><path d=\"M270,360V80.86H274.15V360Z\" style=\"vector-effect: none; opacity: 1; stroke-width: 0px; fill: rgb(99, 110, 250); fill-opacity: 1;\"/></g><g class=\"point\"><path d=\"M274.15,360V58.14H278.31V360Z\" style=\"vector-effect: none; opacity: 1; stroke-width: 0px; fill: rgb(99, 110, 250); fill-opacity: 1;\"/></g><g class=\"point\"><path d=\"M278.31,360V62.81H282.46V360Z\" style=\"vector-effect: none; opacity: 1; stroke-width: 0px; fill: rgb(99, 110, 250); fill-opacity: 1;\"/></g><g class=\"point\"><path d=\"M282.46,360V57.21H286.62V360Z\" style=\"vector-effect: none; opacity: 1; stroke-width: 0px; fill: rgb(99, 110, 250); fill-opacity: 1;\"/></g><g class=\"point\"><path d=\"M286.62,360V64.37H290.77V360Z\" style=\"vector-effect: none; opacity: 1; stroke-width: 0px; fill: rgb(99, 110, 250); fill-opacity: 1;\"/></g><g class=\"point\"><path d=\"M290.77,360V58.45H294.92V360Z\" style=\"vector-effect: none; opacity: 1; stroke-width: 0px; fill: rgb(99, 110, 250); fill-opacity: 1;\"/></g><g class=\"point\"><path d=\"M294.92,360V46.63H299.08V360Z\" style=\"vector-effect: none; opacity: 1; stroke-width: 0px; fill: rgb(99, 110, 250); fill-opacity: 1;\"/></g><g class=\"point\"><path d=\"M299.08,360V53.79H303.23V360Z\" style=\"vector-effect: none; opacity: 1; stroke-width: 0px; fill: rgb(99, 110, 250); fill-opacity: 1;\"/></g><g class=\"point\"><path d=\"M303.23,360V66.55H307.38V360Z\" style=\"vector-effect: none; opacity: 1; stroke-width: 0px; fill: rgb(99, 110, 250); fill-opacity: 1;\"/></g><g class=\"point\"><path d=\"M307.38,360V51.92H311.54V360Z\" style=\"vector-effect: none; opacity: 1; stroke-width: 0px; fill: rgb(99, 110, 250); fill-opacity: 1;\"/></g><g class=\"point\"><path d=\"M311.54,360V50.36H315.69V360Z\" style=\"vector-effect: none; opacity: 1; stroke-width: 0px; fill: rgb(99, 110, 250); fill-opacity: 1;\"/></g><g class=\"point\"><path d=\"M315.69,360V57.83H319.85V360Z\" style=\"vector-effect: none; opacity: 1; stroke-width: 0px; fill: rgb(99, 110, 250); fill-opacity: 1;\"/></g><g class=\"point\"><path d=\"M319.85,360V47.56H324V360Z\" style=\"vector-effect: none; opacity: 1; stroke-width: 0px; fill: rgb(99, 110, 250); fill-opacity: 1;\"/></g><g class=\"point\"><path d=\"M324,360V47.56H328.15V360Z\" style=\"vector-effect: none; opacity: 1; stroke-width: 0px; fill: rgb(99, 110, 250); fill-opacity: 1;\"/></g><g class=\"point\"><path d=\"M328.15,360V63.12H332.31V360Z\" style=\"vector-effect: none; opacity: 1; stroke-width: 0px; fill: rgb(99, 110, 250); fill-opacity: 1;\"/></g><g class=\"point\"><path d=\"M332.31,360V52.54H336.46V360Z\" style=\"vector-effect: none; opacity: 1; stroke-width: 0px; fill: rgb(99, 110, 250); fill-opacity: 1;\"/></g><g class=\"point\"><path d=\"M336.46,360V62.81H340.62V360Z\" style=\"vector-effect: none; opacity: 1; stroke-width: 0px; fill: rgb(99, 110, 250); fill-opacity: 1;\"/></g><g class=\"point\"><path d=\"M340.62,360V18H344.77V360Z\" style=\"vector-effect: none; opacity: 1; stroke-width: 0px; fill: rgb(99, 110, 250); fill-opacity: 1;\"/></g><g class=\"point\"><path d=\"M344.77,360V29.51H348.92V360Z\" style=\"vector-effect: none; opacity: 1; stroke-width: 0px; fill: rgb(99, 110, 250); fill-opacity: 1;\"/></g><g class=\"point\"><path d=\"M348.92,360V56.59H353.08V360Z\" style=\"vector-effect: none; opacity: 1; stroke-width: 0px; fill: rgb(99, 110, 250); fill-opacity: 1;\"/></g><g class=\"point\"><path d=\"M353.08,360V41.65H357.23V360Z\" style=\"vector-effect: none; opacity: 1; stroke-width: 0px; fill: rgb(99, 110, 250); fill-opacity: 1;\"/></g><g class=\"point\"><path d=\"M357.23,360V21.73H361.38V360Z\" style=\"vector-effect: none; opacity: 1; stroke-width: 0px; fill: rgb(99, 110, 250); fill-opacity: 1;\"/></g><g class=\"point\"><path d=\"M361.38,360V52.85H365.54V360Z\" style=\"vector-effect: none; opacity: 1; stroke-width: 0px; fill: rgb(99, 110, 250); fill-opacity: 1;\"/></g><g class=\"point\"><path d=\"M365.54,360V44.76H369.69V360Z\" style=\"vector-effect: none; opacity: 1; stroke-width: 0px; fill: rgb(99, 110, 250); fill-opacity: 1;\"/></g><g class=\"point\"><path d=\"M369.69,360V39.47H373.85V360Z\" style=\"vector-effect: none; opacity: 1; stroke-width: 0px; fill: rgb(99, 110, 250); fill-opacity: 1;\"/></g><g class=\"point\"><path d=\"M373.85,360V33.87H378V360Z\" style=\"vector-effect: none; opacity: 1; stroke-width: 0px; fill: rgb(99, 110, 250); fill-opacity: 1;\"/></g><g class=\"point\"><path d=\"M378,360V41.96H382.15V360Z\" style=\"vector-effect: none; opacity: 1; stroke-width: 0px; fill: rgb(99, 110, 250); fill-opacity: 1;\"/></g><g class=\"point\"><path d=\"M382.15,360V36.05H386.31V360Z\" style=\"vector-effect: none; opacity: 1; stroke-width: 0px; fill: rgb(99, 110, 250); fill-opacity: 1;\"/></g><g class=\"point\"><path d=\"M386.31,360V48.81H390.46V360Z\" style=\"vector-effect: none; opacity: 1; stroke-width: 0px; fill: rgb(99, 110, 250); fill-opacity: 1;\"/></g><g class=\"point\"><path d=\"M390.46,360V22.36H394.62V360Z\" style=\"vector-effect: none; opacity: 1; stroke-width: 0px; fill: rgb(99, 110, 250); fill-opacity: 1;\"/></g><g class=\"point\"><path d=\"M394.62,360V42.27H398.77V360Z\" style=\"vector-effect: none; opacity: 1; stroke-width: 0px; fill: rgb(99, 110, 250); fill-opacity: 1;\"/></g><g class=\"point\"><path d=\"M398.77,360V43.83H402.92V360Z\" style=\"vector-effect: none; opacity: 1; stroke-width: 0px; fill: rgb(99, 110, 250); fill-opacity: 1;\"/></g><g class=\"point\"><path d=\"M402.92,360V41.03H407.08V360Z\" style=\"vector-effect: none; opacity: 1; stroke-width: 0px; fill: rgb(99, 110, 250); fill-opacity: 1;\"/></g><g class=\"point\"><path d=\"M407.08,360V61.57H411.23V360Z\" style=\"vector-effect: none; opacity: 1; stroke-width: 0px; fill: rgb(99, 110, 250); fill-opacity: 1;\"/></g><g class=\"point\"><path d=\"M411.23,360V37.61H415.38V360Z\" style=\"vector-effect: none; opacity: 1; stroke-width: 0px; fill: rgb(99, 110, 250); fill-opacity: 1;\"/></g><g class=\"point\"><path d=\"M415.38,360V39.78H419.54V360Z\" style=\"vector-effect: none; opacity: 1; stroke-width: 0px; fill: rgb(99, 110, 250); fill-opacity: 1;\"/></g><g class=\"point\"><path d=\"M419.54,360V62.81H423.69V360Z\" style=\"vector-effect: none; opacity: 1; stroke-width: 0px; fill: rgb(99, 110, 250); fill-opacity: 1;\"/></g><g class=\"point\"><path d=\"M423.69,360V38.23H427.85V360Z\" style=\"vector-effect: none; opacity: 1; stroke-width: 0px; fill: rgb(99, 110, 250); fill-opacity: 1;\"/></g><g class=\"point\"><path d=\"M427.85,360V48.19H432V360Z\" style=\"vector-effect: none; opacity: 1; stroke-width: 0px; fill: rgb(99, 110, 250); fill-opacity: 1;\"/></g><g class=\"point\"><path d=\"M432,360V49.74H436.15V360Z\" style=\"vector-effect: none; opacity: 1; stroke-width: 0px; fill: rgb(99, 110, 250); fill-opacity: 1;\"/></g><g class=\"point\"><path d=\"M436.15,360V67.48H440.31V360Z\" style=\"vector-effect: none; opacity: 1; stroke-width: 0px; fill: rgb(99, 110, 250); fill-opacity: 1;\"/></g><g class=\"point\"><path d=\"M440.31,360V52.23H444.46V360Z\" style=\"vector-effect: none; opacity: 1; stroke-width: 0px; fill: rgb(99, 110, 250); fill-opacity: 1;\"/></g><g class=\"point\"><path d=\"M444.46,360V44.45H448.62V360Z\" style=\"vector-effect: none; opacity: 1; stroke-width: 0px; fill: rgb(99, 110, 250); fill-opacity: 1;\"/></g><g class=\"point\"><path d=\"M448.62,360V76.82H452.77V360Z\" style=\"vector-effect: none; opacity: 1; stroke-width: 0px; fill: rgb(99, 110, 250); fill-opacity: 1;\"/></g><g class=\"point\"><path d=\"M452.77,360V55.03H456.92V360Z\" style=\"vector-effect: none; opacity: 1; stroke-width: 0px; fill: rgb(99, 110, 250); fill-opacity: 1;\"/></g><g class=\"point\"><path d=\"M456.92,360V76.19H461.08V360Z\" style=\"vector-effect: none; opacity: 1; stroke-width: 0px; fill: rgb(99, 110, 250); fill-opacity: 1;\"/></g><g class=\"point\"><path d=\"M461.08,360V64.06H465.23V360Z\" style=\"vector-effect: none; opacity: 1; stroke-width: 0px; fill: rgb(99, 110, 250); fill-opacity: 1;\"/></g><g class=\"point\"><path d=\"M465.23,360V71.84H469.38V360Z\" style=\"vector-effect: none; opacity: 1; stroke-width: 0px; fill: rgb(99, 110, 250); fill-opacity: 1;\"/></g><g class=\"point\"><path d=\"M469.38,360V64.68H473.54V360Z\" style=\"vector-effect: none; opacity: 1; stroke-width: 0px; fill: rgb(99, 110, 250); fill-opacity: 1;\"/></g><g class=\"point\"><path d=\"M473.54,360V85.53H477.69V360Z\" style=\"vector-effect: none; opacity: 1; stroke-width: 0px; fill: rgb(99, 110, 250); fill-opacity: 1;\"/></g><g class=\"point\"><path d=\"M477.69,360V86.46H481.85V360Z\" style=\"vector-effect: none; opacity: 1; stroke-width: 0px; fill: rgb(99, 110, 250); fill-opacity: 1;\"/></g><g class=\"point\"><path d=\"M481.85,360V102.96H486V360Z\" style=\"vector-effect: none; opacity: 1; stroke-width: 0px; fill: rgb(99, 110, 250); fill-opacity: 1;\"/></g><g class=\"point\"><path d=\"M486,360V102.64H490.15V360Z\" style=\"vector-effect: none; opacity: 1; stroke-width: 0px; fill: rgb(99, 110, 250); fill-opacity: 1;\"/></g><g class=\"point\"><path d=\"M490.15,360V102.96H494.31V360Z\" style=\"vector-effect: none; opacity: 1; stroke-width: 0px; fill: rgb(99, 110, 250); fill-opacity: 1;\"/></g><g class=\"point\"><path d=\"M494.31,360V95.8H498.46V360Z\" style=\"vector-effect: none; opacity: 1; stroke-width: 0px; fill: rgb(99, 110, 250); fill-opacity: 1;\"/></g><g class=\"point\"><path d=\"M498.46,360V113.54H502.62V360Z\" style=\"vector-effect: none; opacity: 1; stroke-width: 0px; fill: rgb(99, 110, 250); fill-opacity: 1;\"/></g><g class=\"point\"><path d=\"M502.62,360V133.14H506.77V360Z\" style=\"vector-effect: none; opacity: 1; stroke-width: 0px; fill: rgb(99, 110, 250); fill-opacity: 1;\"/></g><g class=\"point\"><path d=\"M506.77,360V140.3H510.92V360Z\" style=\"vector-effect: none; opacity: 1; stroke-width: 0px; fill: rgb(99, 110, 250); fill-opacity: 1;\"/></g><g class=\"point\"><path d=\"M510.92,360V123.49H515.08V360Z\" style=\"vector-effect: none; opacity: 1; stroke-width: 0px; fill: rgb(99, 110, 250); fill-opacity: 1;\"/></g><g class=\"point\"><path d=\"M515.08,360V153.37H519.23V360Z\" style=\"vector-effect: none; opacity: 1; stroke-width: 0px; fill: rgb(99, 110, 250); fill-opacity: 1;\"/></g><g class=\"point\"><path d=\"M519.23,360V149.63H523.38V360Z\" style=\"vector-effect: none; opacity: 1; stroke-width: 0px; fill: rgb(99, 110, 250); fill-opacity: 1;\"/></g><g class=\"point\"><path d=\"M523.38,360V176.4H527.54V360Z\" style=\"vector-effect: none; opacity: 1; stroke-width: 0px; fill: rgb(99, 110, 250); fill-opacity: 1;\"/></g><g class=\"point\"><path d=\"M527.54,360V177.64H531.69V360Z\" style=\"vector-effect: none; opacity: 1; stroke-width: 0px; fill: rgb(99, 110, 250); fill-opacity: 1;\"/></g><g class=\"point\"><path d=\"M531.69,360V216.23H535.85V360Z\" style=\"vector-effect: none; opacity: 1; stroke-width: 0px; fill: rgb(99, 110, 250); fill-opacity: 1;\"/></g><g class=\"point\"><path d=\"M535.85,360V267.89H540V360Z\" style=\"vector-effect: none; opacity: 1; stroke-width: 0px; fill: rgb(99, 110, 250); fill-opacity: 1;\"/></g></g></g></g></g><g class=\"overplot\"/><path class=\"xlines-above crisp\" d=\"M0,0\" style=\"fill: none;\"/><path class=\"ylines-above crisp\" d=\"M0,0\" style=\"fill: none;\"/><g class=\"overlines-above\"/><g class=\"xaxislayer-above\"><g class=\"xtick\"><text text-anchor=\"middle\" x=\"0\" y=\"433\" transform=\"translate(121.53999999999999,0)\" style=\"font-family: 'Open Sans', verdana, arial, sans-serif; font-size: 12px; fill: rgb(42, 63, 95); fill-opacity: 1; white-space: pre; opacity: 1;\">70</text></g><g class=\"xtick\"><text text-anchor=\"middle\" x=\"0\" y=\"433\" style=\"font-family: 'Open Sans', verdana, arial, sans-serif; font-size: 12px; fill: rgb(42, 63, 95); fill-opacity: 1; white-space: pre; opacity: 1;\" transform=\"translate(204.62,0)\">71</text></g><g class=\"xtick\"><text text-anchor=\"middle\" x=\"0\" y=\"433\" style=\"font-family: 'Open Sans', verdana, arial, sans-serif; font-size: 12px; fill: rgb(42, 63, 95); fill-opacity: 1; white-space: pre; opacity: 1;\" transform=\"translate(287.69,0)\">72</text></g><g class=\"xtick\"><text text-anchor=\"middle\" x=\"0\" y=\"433\" style=\"font-family: 'Open Sans', verdana, arial, sans-serif; font-size: 12px; fill: rgb(42, 63, 95); fill-opacity: 1; white-space: pre; opacity: 1;\" transform=\"translate(370.77,0)\">73</text></g><g class=\"xtick\"><text text-anchor=\"middle\" x=\"0\" y=\"433\" style=\"font-family: 'Open Sans', verdana, arial, sans-serif; font-size: 12px; fill: rgb(42, 63, 95); fill-opacity: 1; white-space: pre; opacity: 1;\" transform=\"translate(453.85,0)\">74</text></g><g class=\"xtick\"><text text-anchor=\"middle\" x=\"0\" y=\"433\" style=\"font-family: 'Open Sans', verdana, arial, sans-serif; font-size: 12px; fill: rgb(42, 63, 95); fill-opacity: 1; white-space: pre; opacity: 1;\" transform=\"translate(536.9200000000001,0)\">75</text></g><g class=\"xtick\"><text text-anchor=\"middle\" x=\"0\" y=\"433\" style=\"font-family: 'Open Sans', verdana, arial, sans-serif; font-size: 12px; fill: rgb(42, 63, 95); fill-opacity: 1; white-space: pre; opacity: 1;\" transform=\"translate(620,0)\">76</text></g></g><g class=\"yaxislayer-above\"><g class=\"ytick\"><text text-anchor=\"end\" x=\"79\" y=\"4.199999999999999\" transform=\"translate(0,420)\" style=\"font-family: 'Open Sans', verdana, arial, sans-serif; font-size: 12px; fill: rgb(42, 63, 95); fill-opacity: 1; white-space: pre; opacity: 1;\">0</text></g><g class=\"ytick\"><text text-anchor=\"end\" x=\"79\" y=\"4.199999999999999\" style=\"font-family: 'Open Sans', verdana, arial, sans-serif; font-size: 12px; fill: rgb(42, 63, 95); fill-opacity: 1; white-space: pre; opacity: 1;\" transform=\"translate(0,357.76)\">200</text></g><g class=\"ytick\"><text text-anchor=\"end\" x=\"79\" y=\"4.199999999999999\" style=\"font-family: 'Open Sans', verdana, arial, sans-serif; font-size: 12px; fill: rgb(42, 63, 95); fill-opacity: 1; white-space: pre; opacity: 1;\" transform=\"translate(0,295.52)\">400</text></g><g class=\"ytick\"><text text-anchor=\"end\" x=\"79\" y=\"4.199999999999999\" style=\"font-family: 'Open Sans', verdana, arial, sans-serif; font-size: 12px; fill: rgb(42, 63, 95); fill-opacity: 1; white-space: pre; opacity: 1;\" transform=\"translate(0,233.28)\">600</text></g><g class=\"ytick\"><text text-anchor=\"end\" x=\"79\" y=\"4.199999999999999\" style=\"font-family: 'Open Sans', verdana, arial, sans-serif; font-size: 12px; fill: rgb(42, 63, 95); fill-opacity: 1; white-space: pre; opacity: 1;\" transform=\"translate(0,171.05)\">800</text></g><g class=\"ytick\"><text text-anchor=\"end\" x=\"79\" y=\"4.199999999999999\" style=\"font-family: 'Open Sans', verdana, arial, sans-serif; font-size: 12px; fill: rgb(42, 63, 95); fill-opacity: 1; white-space: pre; opacity: 1;\" transform=\"translate(0,108.81)\">1000</text></g></g><g class=\"overaxes-above\"/></g></g><g class=\"polarlayer\"/><g class=\"smithlayer\"/><g class=\"ternarylayer\"/><g class=\"geolayer\"/><g class=\"funnelarealayer\"/><g class=\"pielayer\"/><g class=\"iciclelayer\"/><g class=\"treemaplayer\"/><g class=\"sunburstlayer\"/><g class=\"glimages\"/><defs id=\"topdefs-4c173e\"><g class=\"clips\"/><clipPath id=\"legend4c173e\"><rect width=\"54\" height=\"48\" x=\"0\" y=\"0\"/></clipPath></defs><g class=\"layer-above\"><g class=\"imagelayer\"/><g class=\"shapelayer\"/></g><g class=\"infolayer\"><g class=\"legend\" pointer-events=\"all\" transform=\"translate(630.8,60)\"><rect class=\"bg\" shape-rendering=\"crispEdges\" width=\"54\" height=\"48\" x=\"0\" y=\"0\" style=\"stroke: rgb(68, 68, 68); stroke-opacity: 1; fill: rgb(255, 255, 255); fill-opacity: 1; stroke-width: 0px;\"/><g class=\"scrollbox\" transform=\"\" clip-path=\"url(#legend4c173e)\"><text class=\"legendtitletext\" text-anchor=\"start\" x=\"2\" y=\"18.2\" style=\"font-family: 'Open Sans', verdana, arial, sans-serif; font-size: 14px; fill: rgb(42, 63, 95); fill-opacity: 1; white-space: pre;\">variable</text><g class=\"groups\" transform=\"\"><g class=\"traces\" transform=\"translate(0,32.7)\" style=\"opacity: 1;\"><text class=\"legendtext\" text-anchor=\"start\" x=\"40\" y=\"4.680000000000001\" style=\"font-family: 'Open Sans', verdana, arial, sans-serif; font-size: 12px; fill: rgb(42, 63, 95); fill-opacity: 1; white-space: pre;\">0</text><g class=\"layers\" style=\"opacity: 1;\"><g class=\"legendfill\"/><g class=\"legendlines\"/><g class=\"legendsymbols\"><g class=\"legendpoints\"><path class=\"legendundefined\" d=\"M6,6H-6V-6H6Z\" transform=\"translate(20,0)\" style=\"stroke-width: 0px; fill: rgb(99, 110, 250); fill-opacity: 1;\"/></g></g></g><rect class=\"legendtoggle\" x=\"0\" y=\"-9.5\" width=\"47\" height=\"19\" style=\"fill: rgb(0, 0, 0); fill-opacity: 0;\"/></g></g></g><rect class=\"scrollbar\" rx=\"20\" ry=\"3\" width=\"0\" height=\"0\" x=\"0\" y=\"0\" style=\"fill: rgb(128, 139, 164); fill-opacity: 1;\"/></g><g class=\"g-gtitle\"/><g class=\"g-xtitle\"><text class=\"xtitle\" x=\"350\" y=\"460.3\" text-anchor=\"middle\" style=\"font-family: 'Open Sans', verdana, arial, sans-serif; font-size: 14px; fill: rgb(42, 63, 95); opacity: 1; white-space: pre;\">value</text></g><g class=\"g-ytitle\"><text class=\"ytitle\" transform=\"rotate(-90,32.896875,240)\" x=\"32.896875\" y=\"240\" text-anchor=\"middle\" style=\"font-family: 'Open Sans', verdana, arial, sans-serif; font-size: 14px; fill: rgb(42, 63, 95); opacity: 1; white-space: pre;\">count</text></g></g></svg>"
      ]
     },
     "metadata": {},
     "output_type": "display_data"
    }
   ],
   "source": [
    "px.histogram(y)"
   ]
  },
  {
   "cell_type": "markdown",
   "metadata": {},
   "source": [
    "## JustinDistribution"
   ]
  },
  {
   "cell_type": "code",
   "execution_count": 809,
   "metadata": {},
   "outputs": [
    {
     "data": {
      "image/svg+xml": [
       "<svg class=\"main-svg\" xmlns=\"http://www.w3.org/2000/svg\" xmlns:xlink=\"http://www.w3.org/1999/xlink\" width=\"700\" height=\"500\" style=\"\" viewBox=\"0 0 700 500\"><rect x=\"0\" y=\"0\" width=\"700\" height=\"500\" style=\"fill: rgb(255, 255, 255); fill-opacity: 1;\"/><defs id=\"defs-97b36e\"><g class=\"clips\"><clipPath id=\"clip97b36exyplot\" class=\"plotclip\"><rect width=\"540\" height=\"320\"/></clipPath><clipPath class=\"axesclip\" id=\"clip97b36ex\"><rect x=\"80\" y=\"0\" width=\"540\" height=\"500\"/></clipPath><clipPath class=\"axesclip\" id=\"clip97b36ey\"><rect x=\"0\" y=\"100\" width=\"700\" height=\"320\"/></clipPath><clipPath class=\"axesclip\" id=\"clip97b36exy\"><rect x=\"80\" y=\"100\" width=\"540\" height=\"320\"/></clipPath></g><g class=\"gradients\"/><g class=\"patterns\"/></defs><g class=\"bglayer\"><rect class=\"bg\" x=\"80\" y=\"100\" width=\"540\" height=\"320\" style=\"fill: rgb(229, 236, 246); fill-opacity: 1; stroke-width: 0;\"/></g><g class=\"layer-below\"><g class=\"imagelayer\"/><g class=\"shapelayer\"/></g><g class=\"cartesianlayer\"><g class=\"subplot xy\"><g class=\"layer-subplot\"><g class=\"shapelayer\"/><g class=\"imagelayer\"/></g><g class=\"minor-gridlayer\"><g class=\"x\"/><g class=\"y\"/></g><g class=\"gridlayer\"><g class=\"x\"><path class=\"xgrid crisp\" transform=\"translate(154.18,0)\" d=\"M0,100v320\" style=\"stroke: rgb(255, 255, 255); stroke-opacity: 1; stroke-width: 1px;\"/><path class=\"xgrid crisp\" transform=\"translate(228.35,0)\" d=\"M0,100v320\" style=\"stroke: rgb(255, 255, 255); stroke-opacity: 1; stroke-width: 1px;\"/><path class=\"xgrid crisp\" transform=\"translate(302.53,0)\" d=\"M0,100v320\" style=\"stroke: rgb(255, 255, 255); stroke-opacity: 1; stroke-width: 1px;\"/><path class=\"xgrid crisp\" transform=\"translate(376.7,0)\" d=\"M0,100v320\" style=\"stroke: rgb(255, 255, 255); stroke-opacity: 1; stroke-width: 1px;\"/><path class=\"xgrid crisp\" transform=\"translate(450.88,0)\" d=\"M0,100v320\" style=\"stroke: rgb(255, 255, 255); stroke-opacity: 1; stroke-width: 1px;\"/><path class=\"xgrid crisp\" transform=\"translate(525.05,0)\" d=\"M0,100v320\" style=\"stroke: rgb(255, 255, 255); stroke-opacity: 1; stroke-width: 1px;\"/><path class=\"xgrid crisp\" transform=\"translate(599.23,0)\" d=\"M0,100v320\" style=\"stroke: rgb(255, 255, 255); stroke-opacity: 1; stroke-width: 1px;\"/></g><g class=\"y\"><path class=\"ygrid crisp\" transform=\"translate(0,355.65999999999997)\" d=\"M80,0h540\" style=\"stroke: rgb(255, 255, 255); stroke-opacity: 1; stroke-width: 1px;\"/><path class=\"ygrid crisp\" transform=\"translate(0,307.31)\" d=\"M80,0h540\" style=\"stroke: rgb(255, 255, 255); stroke-opacity: 1; stroke-width: 1px;\"/><path class=\"ygrid crisp\" transform=\"translate(0,258.97)\" d=\"M80,0h540\" style=\"stroke: rgb(255, 255, 255); stroke-opacity: 1; stroke-width: 1px;\"/><path class=\"ygrid crisp\" transform=\"translate(0,210.62)\" d=\"M80,0h540\" style=\"stroke: rgb(255, 255, 255); stroke-opacity: 1; stroke-width: 1px;\"/><path class=\"ygrid crisp\" transform=\"translate(0,162.28)\" d=\"M80,0h540\" style=\"stroke: rgb(255, 255, 255); stroke-opacity: 1; stroke-width: 1px;\"/><path class=\"ygrid crisp\" transform=\"translate(0,113.94)\" d=\"M80,0h540\" style=\"stroke: rgb(255, 255, 255); stroke-opacity: 1; stroke-width: 1px;\"/></g></g><g class=\"zerolinelayer\"><path class=\"xzl zl crisp\" transform=\"translate(80,0)\" d=\"M0,100v320\" style=\"stroke: rgb(255, 255, 255); stroke-opacity: 1; stroke-width: 2px;\"/><path class=\"yzl zl crisp\" transform=\"translate(0,404)\" d=\"M80,0h540\" style=\"stroke: rgb(255, 255, 255); stroke-opacity: 1; stroke-width: 2px;\"/></g><g class=\"layer-between\"><g class=\"shapelayer\"/><g class=\"imagelayer\"/></g><path class=\"xlines-below\"/><path class=\"ylines-below\"/><g class=\"overlines-below\"/><g class=\"xaxislayer-below\"/><g class=\"yaxislayer-below\"/><g class=\"overaxes-below\"/><g class=\"plot\" transform=\"translate(80,100)\" clip-path=\"url(#clip97b36exyplot)\"><g class=\"scatterlayer mlayer\"><g class=\"trace scatter traced181f0\" style=\"stroke-miterlimit: 2; opacity: 1;\"><g class=\"fills\"/><g class=\"errorbars\"/><g class=\"lines\"><path class=\"js-line\" d=\"M0,304L1.48,141.18L2.97,125.2L8.9,43.06L10.38,31.48L13.35,18.97L14.84,16.61L16.32,16L17.8,16.67L20.77,20.61L22.25,23.54L26.7,35.83L28.19,41.27L32.64,62.51L34.12,71.31L40.05,113.51L41.54,125.14L50.44,191.67L51.92,201.05L57.86,231.6L59.34,237.53L63.79,251.76L65.27,255.48L69.73,264.28L71.21,266.57L77.14,273.58L78.63,274.93L86.04,280.26L87.53,281.12L97.91,286.1L99.4,286.7L114.23,291.62L115.71,292.03L133.52,295.98L135,296.24L157.25,299.29L158.74,299.45L186.92,301.58L188.41,301.66L226.98,303.02L228.46,303.05L304.12,303.83L305.6,303.83L440.6,303.99L442.09,303.99L540,304\" style=\"vector-effect: none; fill: none; stroke: rgb(99, 110, 250); stroke-opacity: 1; stroke-width: 2px; opacity: 1;\"/></g><g class=\"points\"/><g class=\"text\"/></g></g></g><g class=\"overplot\"/><path class=\"xlines-above crisp\" d=\"M0,0\" style=\"fill: none;\"/><path class=\"ylines-above crisp\" d=\"M0,0\" style=\"fill: none;\"/><g class=\"overlines-above\"/><g class=\"xaxislayer-above\"><g class=\"xtick\"><text text-anchor=\"middle\" x=\"0\" y=\"433\" transform=\"translate(80,0)\" style=\"font-family: 'Open Sans', verdana, arial, sans-serif; font-size: 12px; fill: rgb(42, 63, 95); fill-opacity: 1; white-space: pre; opacity: 1;\">0</text></g><g class=\"xtick\"><text text-anchor=\"middle\" x=\"0\" y=\"433\" style=\"font-family: 'Open Sans', verdana, arial, sans-serif; font-size: 12px; fill: rgb(42, 63, 95); fill-opacity: 1; white-space: pre; opacity: 1;\" transform=\"translate(154.18,0)\">50</text></g><g class=\"xtick\"><text text-anchor=\"middle\" x=\"0\" y=\"433\" style=\"font-family: 'Open Sans', verdana, arial, sans-serif; font-size: 12px; fill: rgb(42, 63, 95); fill-opacity: 1; white-space: pre; opacity: 1;\" transform=\"translate(228.35,0)\">100</text></g><g class=\"xtick\"><text text-anchor=\"middle\" x=\"0\" y=\"433\" style=\"font-family: 'Open Sans', verdana, arial, sans-serif; font-size: 12px; fill: rgb(42, 63, 95); fill-opacity: 1; white-space: pre; opacity: 1;\" transform=\"translate(302.53,0)\">150</text></g><g class=\"xtick\"><text text-anchor=\"middle\" x=\"0\" y=\"433\" style=\"font-family: 'Open Sans', verdana, arial, sans-serif; font-size: 12px; fill: rgb(42, 63, 95); fill-opacity: 1; white-space: pre; opacity: 1;\" transform=\"translate(376.7,0)\">200</text></g><g class=\"xtick\"><text text-anchor=\"middle\" x=\"0\" y=\"433\" style=\"font-family: 'Open Sans', verdana, arial, sans-serif; font-size: 12px; fill: rgb(42, 63, 95); fill-opacity: 1; white-space: pre; opacity: 1;\" transform=\"translate(450.88,0)\">250</text></g><g class=\"xtick\"><text text-anchor=\"middle\" x=\"0\" y=\"433\" style=\"font-family: 'Open Sans', verdana, arial, sans-serif; font-size: 12px; fill: rgb(42, 63, 95); fill-opacity: 1; white-space: pre; opacity: 1;\" transform=\"translate(525.05,0)\">300</text></g><g class=\"xtick\"><text text-anchor=\"middle\" x=\"0\" y=\"433\" style=\"font-family: 'Open Sans', verdana, arial, sans-serif; font-size: 12px; fill: rgb(42, 63, 95); fill-opacity: 1; white-space: pre; opacity: 1;\" transform=\"translate(599.23,0)\">350</text></g></g><g class=\"yaxislayer-above\"><g class=\"ytick\"><text text-anchor=\"end\" x=\"79\" y=\"4.199999999999999\" transform=\"translate(0,404)\" style=\"font-family: 'Open Sans', verdana, arial, sans-serif; font-size: 12px; fill: rgb(42, 63, 95); fill-opacity: 1; white-space: pre; opacity: 1;\">0</text></g><g class=\"ytick\"><text text-anchor=\"end\" x=\"79\" y=\"4.199999999999999\" style=\"font-family: 'Open Sans', verdana, arial, sans-serif; font-size: 12px; fill: rgb(42, 63, 95); fill-opacity: 1; white-space: pre; opacity: 1;\" transform=\"translate(0,355.65999999999997)\">0.005</text></g><g class=\"ytick\"><text text-anchor=\"end\" x=\"79\" y=\"4.199999999999999\" style=\"font-family: 'Open Sans', verdana, arial, sans-serif; font-size: 12px; fill: rgb(42, 63, 95); fill-opacity: 1; white-space: pre; opacity: 1;\" transform=\"translate(0,307.31)\">0.01</text></g><g class=\"ytick\"><text text-anchor=\"end\" x=\"79\" y=\"4.199999999999999\" style=\"font-family: 'Open Sans', verdana, arial, sans-serif; font-size: 12px; fill: rgb(42, 63, 95); fill-opacity: 1; white-space: pre; opacity: 1;\" transform=\"translate(0,258.97)\">0.015</text></g><g class=\"ytick\"><text text-anchor=\"end\" x=\"79\" y=\"4.199999999999999\" style=\"font-family: 'Open Sans', verdana, arial, sans-serif; font-size: 12px; fill: rgb(42, 63, 95); fill-opacity: 1; white-space: pre; opacity: 1;\" transform=\"translate(0,210.62)\">0.02</text></g><g class=\"ytick\"><text text-anchor=\"end\" x=\"79\" y=\"4.199999999999999\" style=\"font-family: 'Open Sans', verdana, arial, sans-serif; font-size: 12px; fill: rgb(42, 63, 95); fill-opacity: 1; white-space: pre; opacity: 1;\" transform=\"translate(0,162.28)\">0.025</text></g><g class=\"ytick\"><text text-anchor=\"end\" x=\"79\" y=\"4.199999999999999\" style=\"font-family: 'Open Sans', verdana, arial, sans-serif; font-size: 12px; fill: rgb(42, 63, 95); fill-opacity: 1; white-space: pre; opacity: 1;\" transform=\"translate(0,113.94)\">0.03</text></g></g><g class=\"overaxes-above\"/></g></g><g class=\"polarlayer\"/><g class=\"smithlayer\"/><g class=\"ternarylayer\"/><g class=\"geolayer\"/><g class=\"funnelarealayer\"/><g class=\"pielayer\"/><g class=\"iciclelayer\"/><g class=\"treemaplayer\"/><g class=\"sunburstlayer\"/><g class=\"glimages\"/><defs id=\"topdefs-97b36e\"><g class=\"clips\"/></defs><g class=\"layer-above\"><g class=\"imagelayer\"/><g class=\"shapelayer\"/></g><g class=\"infolayer\"><g class=\"g-gtitle\"><text class=\"gtitle\" x=\"35\" y=\"50\" text-anchor=\"start\" dy=\"0em\" style=\"font-family: 'Open Sans', verdana, arial, sans-serif; font-size: 17px; fill: rgb(42, 63, 95); opacity: 1; white-space: pre;\">Holding Times between Jobs</text></g><g class=\"g-xtitle\"><text class=\"xtitle\" x=\"350\" y=\"460.3\" text-anchor=\"middle\" style=\"font-family: 'Open Sans', verdana, arial, sans-serif; font-size: 14px; fill: rgb(42, 63, 95); opacity: 1; white-space: pre;\">Holding Time (days)</text></g><g class=\"g-ytitle\"><text class=\"ytitle\" transform=\"rotate(-90,29.56875,260)\" x=\"29.56875\" y=\"260\" text-anchor=\"middle\" style=\"font-family: 'Open Sans', verdana, arial, sans-serif; font-size: 14px; fill: rgb(42, 63, 95); opacity: 1; white-space: pre;\">Probability Density</text></g></g></svg>"
      ]
     },
     "metadata": {},
     "output_type": "display_data"
    }
   ],
   "source": [
    "justin_dist = JustinDistribution()\n",
    "t=np.arange(365)\n",
    "y = np.exp(justin_dist.log_prob(value=t))\n",
    "px.line(\n",
    "    x=t,\n",
    "    y=y,\n",
    "    title=\"Holding Times between Jobs\",\n",
    "    labels={\n",
    "        \"x\": \"Holding Time (days)\",\n",
    "        \"y\": \"Probability Density\"\n",
    "    }\n",
    ")"
   ]
  },
  {
   "cell_type": "code",
   "execution_count": 803,
   "metadata": {},
   "outputs": [],
   "source": [
    "def failure():\n",
    "    time_to_failure = numpyro.sample(\n",
    "        name=\"time_to_failure\",\n",
    "        fn=JustinDistribution()\n",
    "    )\n",
    "    return time_to_failure"
   ]
  },
  {
   "cell_type": "code",
   "execution_count": 804,
   "metadata": {},
   "outputs": [
    {
     "name": "stderr",
     "output_type": "stream",
     "text": [
      "/tmp/ipykernel_194336/895034763.py:3: UserWarning:\n",
      "\n",
      "There are not enough devices to run parallel chains: expected 4 but got 1. Chains will be drawn sequentially. If you are running MCMC in CPU, consider using `numpyro.set_host_device_count(4)` at the beginning of your program. You can double-check how many devices are available in your system using `jax.local_device_count()`.\n",
      "\n",
      "sample: 100%|██████████| 200/200 [00:01<00:00, 102.17it/s, 1 steps of size 8.28e-01. acc. prob=0.81]\n",
      "sample: 100%|██████████| 200/200 [00:00<00:00, 3009.94it/s, 3 steps of size 7.83e-01. acc. prob=0.93]\n",
      "sample: 100%|██████████| 200/200 [00:00<00:00, 3078.32it/s, 1 steps of size 8.91e-01. acc. prob=0.89]\n",
      "sample: 100%|██████████| 200/200 [00:00<00:00, 2989.63it/s, 1 steps of size 6.42e-01. acc. prob=0.86]\n"
     ]
    }
   ],
   "source": [
    "# Instantiate a `MCMC` object using a NUTS sampler\n",
    "nuts_kernel_for_failure = NUTS(model=failure)\n",
    "mcmc_for_failure = MCMC(\n",
    "        sampler=nuts_kernel_for_failure,\n",
    "        num_warmup=100,\n",
    "        num_samples=100,\n",
    "        num_chains=4\n",
    ")\n",
    "\n",
    "# Run the MCMC sampler and collect samples\n",
    "mcmc_for_failure.run(rng_key=random.PRNGKey(seed=42))"
   ]
  },
  {
   "cell_type": "code",
   "execution_count": 805,
   "metadata": {},
   "outputs": [],
   "source": [
    "failure_samps = mcmc_for_failure.get_samples()"
   ]
  },
  {
   "cell_type": "code",
   "execution_count": 806,
   "metadata": {},
   "outputs": [
    {
     "data": {
      "image/svg+xml": [
       "<svg class=\"main-svg\" xmlns=\"http://www.w3.org/2000/svg\" xmlns:xlink=\"http://www.w3.org/1999/xlink\" width=\"700\" height=\"500\" style=\"\" viewBox=\"0 0 700 500\"><rect x=\"0\" y=\"0\" width=\"700\" height=\"500\" style=\"fill: rgb(255, 255, 255); fill-opacity: 1;\"/><defs id=\"defs-643591\"><g class=\"clips\"><clipPath id=\"clip643591xyplot\" class=\"plotclip\"><rect width=\"540\" height=\"360\"/></clipPath><clipPath class=\"axesclip\" id=\"clip643591x\"><rect x=\"80\" y=\"0\" width=\"540\" height=\"500\"/></clipPath><clipPath class=\"axesclip\" id=\"clip643591y\"><rect x=\"0\" y=\"60\" width=\"700\" height=\"360\"/></clipPath><clipPath class=\"axesclip\" id=\"clip643591xy\"><rect x=\"80\" y=\"60\" width=\"540\" height=\"360\"/></clipPath></g><g class=\"gradients\"/><g class=\"patterns\"/></defs><g class=\"bglayer\"><rect class=\"bg\" x=\"80\" y=\"60\" width=\"540\" height=\"360\" style=\"fill: rgb(229, 236, 246); fill-opacity: 1; stroke-width: 0;\"/></g><g class=\"layer-below\"><g class=\"imagelayer\"/><g class=\"shapelayer\"/></g><g class=\"cartesianlayer\"><g class=\"subplot xy\"><g class=\"layer-subplot\"><g class=\"shapelayer\"/><g class=\"imagelayer\"/></g><g class=\"minor-gridlayer\"><g class=\"x\"/><g class=\"y\"/></g><g class=\"gridlayer\"><g class=\"x\"/><g class=\"y\"><path class=\"ygrid crisp\" transform=\"translate(0,375.58)\" d=\"M80,0h540\" style=\"stroke: rgb(255, 255, 255); stroke-opacity: 1; stroke-width: 1px;\"/><path class=\"ygrid crisp\" transform=\"translate(0,331.17)\" d=\"M80,0h540\" style=\"stroke: rgb(255, 255, 255); stroke-opacity: 1; stroke-width: 1px;\"/><path class=\"ygrid crisp\" transform=\"translate(0,286.75)\" d=\"M80,0h540\" style=\"stroke: rgb(255, 255, 255); stroke-opacity: 1; stroke-width: 1px;\"/><path class=\"ygrid crisp\" transform=\"translate(0,242.34)\" d=\"M80,0h540\" style=\"stroke: rgb(255, 255, 255); stroke-opacity: 1; stroke-width: 1px;\"/><path class=\"ygrid crisp\" transform=\"translate(0,197.92)\" d=\"M80,0h540\" style=\"stroke: rgb(255, 255, 255); stroke-opacity: 1; stroke-width: 1px;\"/><path class=\"ygrid crisp\" transform=\"translate(0,153.51)\" d=\"M80,0h540\" style=\"stroke: rgb(255, 255, 255); stroke-opacity: 1; stroke-width: 1px;\"/><path class=\"ygrid crisp\" transform=\"translate(0,109.09)\" d=\"M80,0h540\" style=\"stroke: rgb(255, 255, 255); stroke-opacity: 1; stroke-width: 1px;\"/><path class=\"ygrid crisp\" transform=\"translate(0,64.68)\" d=\"M80,0h540\" style=\"stroke: rgb(255, 255, 255); stroke-opacity: 1; stroke-width: 1px;\"/></g></g><g class=\"zerolinelayer\"><path class=\"yzl zl crisp\" transform=\"translate(0,420)\" d=\"M80,0h540\" style=\"stroke: rgb(255, 255, 255); stroke-opacity: 1; stroke-width: 2px;\"/></g><g class=\"layer-between\"><g class=\"shapelayer\"/><g class=\"imagelayer\"/></g><path class=\"xlines-below\"/><path class=\"ylines-below\"/><g class=\"overlines-below\"/><g class=\"xaxislayer-below\"/><g class=\"yaxislayer-below\"/><g class=\"overaxes-below\"/><g class=\"plot\" transform=\"translate(80,60)\" clip-path=\"url(#clip643591xyplot)\"><g class=\"barlayer mlayer\"><g class=\"trace bars\" shape-rendering=\"crispEdges\" style=\"opacity: 1;\"><g class=\"points\"><g class=\"point\"><path d=\"M0,360V164.57H15.43V360Z\" style=\"vector-effect: none; opacity: 1; stroke-width: 0px; fill: rgb(99, 110, 250); fill-opacity: 1;\"/></g><g class=\"point\"><path d=\"M15.43,360V18H30.86V360Z\" style=\"vector-effect: none; opacity: 1; stroke-width: 0px; fill: rgb(99, 110, 250); fill-opacity: 1;\"/></g><g class=\"point\"><path d=\"M30.86,360V169.01H46.29V360Z\" style=\"vector-effect: none; opacity: 1; stroke-width: 0px; fill: rgb(99, 110, 250); fill-opacity: 1;\"/></g><g class=\"point\"><path d=\"M46.29,360V124.6H61.71V360Z\" style=\"vector-effect: none; opacity: 1; stroke-width: 0px; fill: rgb(99, 110, 250); fill-opacity: 1;\"/></g><g class=\"point\"><path d=\"M61.71,360V137.92H77.14V360Z\" style=\"vector-effect: none; opacity: 1; stroke-width: 0px; fill: rgb(99, 110, 250); fill-opacity: 1;\"/></g><g class=\"point\"><path d=\"M77.14,360V200.1H92.57V360Z\" style=\"vector-effect: none; opacity: 1; stroke-width: 0px; fill: rgb(99, 110, 250); fill-opacity: 1;\"/></g><g class=\"point\"><path d=\"M92.57,360V244.52H108V360Z\" style=\"vector-effect: none; opacity: 1; stroke-width: 0px; fill: rgb(99, 110, 250); fill-opacity: 1;\"/></g><g class=\"point\"><path d=\"M108,360V275.61H123.43V360Z\" style=\"vector-effect: none; opacity: 1; stroke-width: 0px; fill: rgb(99, 110, 250); fill-opacity: 1;\"/></g><g class=\"point\"><path d=\"M123.43,360V297.82H138.86V360Z\" style=\"vector-effect: none; opacity: 1; stroke-width: 0px; fill: rgb(99, 110, 250); fill-opacity: 1;\"/></g><g class=\"point\"><path d=\"M138.86,360V333.35H154.29V360Z\" style=\"vector-effect: none; opacity: 1; stroke-width: 0px; fill: rgb(99, 110, 250); fill-opacity: 1;\"/></g><g class=\"point\"><path d=\"M154.29,360V328.91H169.71V360Z\" style=\"vector-effect: none; opacity: 1; stroke-width: 0px; fill: rgb(99, 110, 250); fill-opacity: 1;\"/></g><g class=\"point\"><path d=\"M169.71,360V337.79H185.14V360Z\" style=\"vector-effect: none; opacity: 1; stroke-width: 0px; fill: rgb(99, 110, 250); fill-opacity: 1;\"/></g><g class=\"point\"><path d=\"M185.14,360V346.68H200.57V360Z\" style=\"vector-effect: none; opacity: 1; stroke-width: 0px; fill: rgb(99, 110, 250); fill-opacity: 1;\"/></g><g class=\"point\"><path d=\"M200.57,360V355.56H216V360Z\" style=\"vector-effect: none; opacity: 1; stroke-width: 0px; fill: rgb(99, 110, 250); fill-opacity: 1;\"/></g><g class=\"point\"><path d=\"M216,360V355.56H231.43V360Z\" style=\"vector-effect: none; opacity: 1; stroke-width: 0px; fill: rgb(99, 110, 250); fill-opacity: 1;\"/></g><g class=\"point\"><path d=\"M231.43,360V351.12H246.86V360Z\" style=\"vector-effect: none; opacity: 1; stroke-width: 0px; fill: rgb(99, 110, 250); fill-opacity: 1;\"/></g><g class=\"point\"><path d=\"M246.86,360V346.68H262.29V360Z\" style=\"vector-effect: none; opacity: 1; stroke-width: 0px; fill: rgb(99, 110, 250); fill-opacity: 1;\"/></g><g class=\"point\"><path d=\"M262.29,360V346.68H277.71V360Z\" style=\"vector-effect: none; opacity: 1; stroke-width: 0px; fill: rgb(99, 110, 250); fill-opacity: 1;\"/></g><g class=\"point\"><path d=\"M0,0Z\" style=\"vector-effect: none; opacity: 1; stroke-width: 0px; fill: rgb(99, 110, 250); fill-opacity: 1;\"/></g><g class=\"point\"><path d=\"M0,0Z\" style=\"vector-effect: none; opacity: 1; stroke-width: 0px; fill: rgb(99, 110, 250); fill-opacity: 1;\"/></g><g class=\"point\"><path d=\"M308.57,360V351.12H324V360Z\" style=\"vector-effect: none; opacity: 1; stroke-width: 0px; fill: rgb(99, 110, 250); fill-opacity: 1;\"/></g><g class=\"point\"><path d=\"M0,0Z\" style=\"vector-effect: none; opacity: 1; stroke-width: 0px; fill: rgb(99, 110, 250); fill-opacity: 1;\"/></g><g class=\"point\"><path d=\"M339.43,360V355.56H354.86V360Z\" style=\"vector-effect: none; opacity: 1; stroke-width: 0px; fill: rgb(99, 110, 250); fill-opacity: 1;\"/></g><g class=\"point\"><path d=\"M0,0Z\" style=\"vector-effect: none; opacity: 1; stroke-width: 0px; fill: rgb(99, 110, 250); fill-opacity: 1;\"/></g><g class=\"point\"><path d=\"M370.29,360V355.56H385.71V360Z\" style=\"vector-effect: none; opacity: 1; stroke-width: 0px; fill: rgb(99, 110, 250); fill-opacity: 1;\"/></g><g class=\"point\"><path d=\"M385.71,360V355.56H401.14V360Z\" style=\"vector-effect: none; opacity: 1; stroke-width: 0px; fill: rgb(99, 110, 250); fill-opacity: 1;\"/></g><g class=\"point\"><path d=\"M401.14,360V355.56H416.57V360Z\" style=\"vector-effect: none; opacity: 1; stroke-width: 0px; fill: rgb(99, 110, 250); fill-opacity: 1;\"/></g><g class=\"point\"><path d=\"M0,0Z\" style=\"vector-effect: none; opacity: 1; stroke-width: 0px; fill: rgb(99, 110, 250); fill-opacity: 1;\"/></g><g class=\"point\"><path d=\"M0,0Z\" style=\"vector-effect: none; opacity: 1; stroke-width: 0px; fill: rgb(99, 110, 250); fill-opacity: 1;\"/></g><g class=\"point\"><path d=\"M0,0Z\" style=\"vector-effect: none; opacity: 1; stroke-width: 0px; fill: rgb(99, 110, 250); fill-opacity: 1;\"/></g><g class=\"point\"><path d=\"M0,0Z\" style=\"vector-effect: none; opacity: 1; stroke-width: 0px; fill: rgb(99, 110, 250); fill-opacity: 1;\"/></g><g class=\"point\"><path d=\"M0,0Z\" style=\"vector-effect: none; opacity: 1; stroke-width: 0px; fill: rgb(99, 110, 250); fill-opacity: 1;\"/></g><g class=\"point\"><path d=\"M0,0Z\" style=\"vector-effect: none; opacity: 1; stroke-width: 0px; fill: rgb(99, 110, 250); fill-opacity: 1;\"/></g><g class=\"point\"><path d=\"M0,0Z\" style=\"vector-effect: none; opacity: 1; stroke-width: 0px; fill: rgb(99, 110, 250); fill-opacity: 1;\"/></g><g class=\"point\"><path d=\"M524.57,360V355.56H540V360Z\" style=\"vector-effect: none; opacity: 1; stroke-width: 0px; fill: rgb(99, 110, 250); fill-opacity: 1;\"/></g></g></g></g></g><g class=\"overplot\"/><path class=\"xlines-above crisp\" d=\"M0,0\" style=\"fill: none;\"/><path class=\"ylines-above crisp\" d=\"M0,0\" style=\"fill: none;\"/><g class=\"overlines-above\"/><g class=\"xaxislayer-above\"><g class=\"xtick\"><text text-anchor=\"middle\" x=\"0\" y=\"433\" transform=\"translate(80,0)\" style=\"font-family: 'Open Sans', verdana, arial, sans-serif; font-size: 12px; fill: rgb(42, 63, 95); fill-opacity: 1; white-space: pre; opacity: 1;\">0</text></g><g class=\"xtick\"><text text-anchor=\"middle\" x=\"0\" y=\"433\" style=\"font-family: 'Open Sans', verdana, arial, sans-serif; font-size: 12px; fill: rgb(42, 63, 95); fill-opacity: 1; white-space: pre; opacity: 1;\" transform=\"translate(234.29,0)\">50</text></g><g class=\"xtick\"><text text-anchor=\"middle\" x=\"0\" y=\"433\" style=\"font-family: 'Open Sans', verdana, arial, sans-serif; font-size: 12px; fill: rgb(42, 63, 95); fill-opacity: 1; white-space: pre; opacity: 1;\" transform=\"translate(388.57,0)\">100</text></g><g class=\"xtick\"><text text-anchor=\"middle\" x=\"0\" y=\"433\" style=\"font-family: 'Open Sans', verdana, arial, sans-serif; font-size: 12px; fill: rgb(42, 63, 95); fill-opacity: 1; white-space: pre; opacity: 1;\" transform=\"translate(542.86,0)\">150</text></g></g><g class=\"yaxislayer-above\"><g class=\"ytick\"><text text-anchor=\"end\" x=\"79\" y=\"4.199999999999999\" transform=\"translate(0,420)\" style=\"font-family: 'Open Sans', verdana, arial, sans-serif; font-size: 12px; fill: rgb(42, 63, 95); fill-opacity: 1; white-space: pre; opacity: 1;\">0</text></g><g class=\"ytick\"><text text-anchor=\"end\" x=\"79\" y=\"4.199999999999999\" style=\"font-family: 'Open Sans', verdana, arial, sans-serif; font-size: 12px; fill: rgb(42, 63, 95); fill-opacity: 1; white-space: pre; opacity: 1;\" transform=\"translate(0,375.58)\">10</text></g><g class=\"ytick\"><text text-anchor=\"end\" x=\"79\" y=\"4.199999999999999\" style=\"font-family: 'Open Sans', verdana, arial, sans-serif; font-size: 12px; fill: rgb(42, 63, 95); fill-opacity: 1; white-space: pre; opacity: 1;\" transform=\"translate(0,331.17)\">20</text></g><g class=\"ytick\"><text text-anchor=\"end\" x=\"79\" y=\"4.199999999999999\" style=\"font-family: 'Open Sans', verdana, arial, sans-serif; font-size: 12px; fill: rgb(42, 63, 95); fill-opacity: 1; white-space: pre; opacity: 1;\" transform=\"translate(0,286.75)\">30</text></g><g class=\"ytick\"><text text-anchor=\"end\" x=\"79\" y=\"4.199999999999999\" style=\"font-family: 'Open Sans', verdana, arial, sans-serif; font-size: 12px; fill: rgb(42, 63, 95); fill-opacity: 1; white-space: pre; opacity: 1;\" transform=\"translate(0,242.34)\">40</text></g><g class=\"ytick\"><text text-anchor=\"end\" x=\"79\" y=\"4.199999999999999\" style=\"font-family: 'Open Sans', verdana, arial, sans-serif; font-size: 12px; fill: rgb(42, 63, 95); fill-opacity: 1; white-space: pre; opacity: 1;\" transform=\"translate(0,197.92)\">50</text></g><g class=\"ytick\"><text text-anchor=\"end\" x=\"79\" y=\"4.199999999999999\" style=\"font-family: 'Open Sans', verdana, arial, sans-serif; font-size: 12px; fill: rgb(42, 63, 95); fill-opacity: 1; white-space: pre; opacity: 1;\" transform=\"translate(0,153.51)\">60</text></g><g class=\"ytick\"><text text-anchor=\"end\" x=\"79\" y=\"4.199999999999999\" style=\"font-family: 'Open Sans', verdana, arial, sans-serif; font-size: 12px; fill: rgb(42, 63, 95); fill-opacity: 1; white-space: pre; opacity: 1;\" transform=\"translate(0,109.09)\">70</text></g><g class=\"ytick\"><text text-anchor=\"end\" x=\"79\" y=\"4.199999999999999\" style=\"font-family: 'Open Sans', verdana, arial, sans-serif; font-size: 12px; fill: rgb(42, 63, 95); fill-opacity: 1; white-space: pre; opacity: 1;\" transform=\"translate(0,64.68)\">80</text></g></g><g class=\"overaxes-above\"/></g></g><g class=\"polarlayer\"/><g class=\"smithlayer\"/><g class=\"ternarylayer\"/><g class=\"geolayer\"/><g class=\"funnelarealayer\"/><g class=\"pielayer\"/><g class=\"iciclelayer\"/><g class=\"treemaplayer\"/><g class=\"sunburstlayer\"/><g class=\"glimages\"/><defs id=\"topdefs-643591\"><g class=\"clips\"/><clipPath id=\"legend643591\"><rect width=\"54\" height=\"48\" x=\"0\" y=\"0\"/></clipPath></defs><g class=\"layer-above\"><g class=\"imagelayer\"/><g class=\"shapelayer\"/></g><g class=\"infolayer\"><g class=\"legend\" pointer-events=\"all\" transform=\"translate(630.8,60)\"><rect class=\"bg\" shape-rendering=\"crispEdges\" width=\"54\" height=\"48\" x=\"0\" y=\"0\" style=\"stroke: rgb(68, 68, 68); stroke-opacity: 1; fill: rgb(255, 255, 255); fill-opacity: 1; stroke-width: 0px;\"/><g class=\"scrollbox\" transform=\"\" clip-path=\"url(#legend643591)\"><text class=\"legendtitletext\" text-anchor=\"start\" x=\"2\" y=\"18.2\" style=\"font-family: 'Open Sans', verdana, arial, sans-serif; font-size: 14px; fill: rgb(42, 63, 95); fill-opacity: 1; white-space: pre;\">variable</text><g class=\"groups\" transform=\"\"><g class=\"traces\" transform=\"translate(0,32.7)\" style=\"opacity: 1;\"><text class=\"legendtext\" text-anchor=\"start\" x=\"40\" y=\"4.680000000000001\" style=\"font-family: 'Open Sans', verdana, arial, sans-serif; font-size: 12px; fill: rgb(42, 63, 95); fill-opacity: 1; white-space: pre;\">0</text><g class=\"layers\" style=\"opacity: 1;\"><g class=\"legendfill\"/><g class=\"legendlines\"/><g class=\"legendsymbols\"><g class=\"legendpoints\"><path class=\"legendundefined\" d=\"M6,6H-6V-6H6Z\" transform=\"translate(20,0)\" style=\"stroke-width: 0px; fill: rgb(99, 110, 250); fill-opacity: 1;\"/></g></g></g><rect class=\"legendtoggle\" x=\"0\" y=\"-9.5\" width=\"47\" height=\"19\" style=\"fill: rgb(0, 0, 0); fill-opacity: 0;\"/></g></g></g><rect class=\"scrollbar\" rx=\"20\" ry=\"3\" width=\"0\" height=\"0\" x=\"0\" y=\"0\" style=\"fill: rgb(128, 139, 164); fill-opacity: 1;\"/></g><g class=\"g-gtitle\"/><g class=\"g-xtitle\"><text class=\"xtitle\" x=\"350\" y=\"460.3\" text-anchor=\"middle\" style=\"font-family: 'Open Sans', verdana, arial, sans-serif; font-size: 14px; fill: rgb(42, 63, 95); opacity: 1; white-space: pre;\">value</text></g><g class=\"g-ytitle\"><text class=\"ytitle\" transform=\"rotate(-90,46.240625,240)\" x=\"46.240625\" y=\"240\" text-anchor=\"middle\" style=\"font-family: 'Open Sans', verdana, arial, sans-serif; font-size: 14px; fill: rgb(42, 63, 95); opacity: 1; white-space: pre;\">count</text></g></g></svg>"
      ]
     },
     "metadata": {},
     "output_type": "display_data"
    }
   ],
   "source": [
    "px.histogram(failure_samps[\"time_to_failure\"])"
   ]
  },
  {
   "cell_type": "markdown",
   "metadata": {},
   "source": [
    "# Calculate Utility of Alternative A1."
   ]
  },
  {
   "cell_type": "code",
   "execution_count": 470,
   "metadata": {},
   "outputs": [],
   "source": [
    "def a1_utility(\n",
    "    prob_is_laid_off_soon\n",
    "):\n",
    "    \"\"\"Sample from the stochastic utility function\n",
    "\n",
    "    for staying in the current job.\n",
    "\n",
    "    Args:\n",
    "         \n",
    "        prob_is_laid_off_soon: probability of being laid off within the year\n",
    "\n",
    "    Returns:  \n",
    "    \"\"\"\n",
    "    # is_laid_off_current_job_soon is 1 if a layoff occurs in the next \n",
    "    # 12 months; otherwise, it is 0.\n",
    "    # is_laid_off_current_job_soon = numpyro.sample(\n",
    "    #     name=\"is_laid_off_current_job_soon\", \n",
    "    #     fn=dist.Bernoulli(prob_is_laid_off_soon),\n",
    "    #     rng_key=random.PRNGKey(0),\n",
    "    #     infer={\"enumerate\": \"parallel\"}\n",
    "    # )\n",
    "    mixing_dist = dist.Categorical(\n",
    "        probs=jnp.array([prob_is_laid_off_soon, 1 - prob_is_laid_off_soon])\n",
    "    )\n",
    "    # When implementing a mixture distribution in NumPyro, \n",
    "    # the component distributions are required to have\n",
    "    # the same support.\n",
    "    # Do some finagling here to make that a reality.\n",
    "    common_support = np.zeros(shape=(366,))\n",
    "    common_support[365] = 1\n",
    "    common_support_jnp = jnp.array(common_support)\n",
    "    component_dists = [\n",
    "        dist.BetaBinomial(\n",
    "            concentration1=0.5,\n",
    "            concentration0=0.5,\n",
    "            total_count=365\n",
    "        ),\n",
    "        dist.Categorical(\n",
    "            probs=common_support_jnp\n",
    "        )\n",
    "        # dist.TransformedDistribution(\n",
    "        #     base_distribution=dist.Delta(v=1),\n",
    "        #     transforms=dist.transforms.AffineTransform(\n",
    "        #         loc=0,\n",
    "        #         scale=365\n",
    "        #     )    \n",
    "        # )\n",
    "    ]\n",
    "    common_support_2 = dist.constraints.integer_interval(lower_bound=0, upper_bound=365)\n",
    "    beta_binom_mix = MixtureGeneralWithEnumSupport(\n",
    "        mixing_distribution=mixing_dist,\n",
    "        component_distributions=component_dists,\n",
    "        support=common_support_2\n",
    "    )\n",
    "    \n",
    "    \n",
    "    # prop_of_year_employed_current_job = 365 * numpyro.sample(\n",
    "    #     name=\"prop_of_year_employed_current_job\",\n",
    "    #     fn=dist.Beta(0.5, 0.5),\n",
    "    #     rng_key=random.PRNGKey(0)\n",
    "    # )\n",
    "    # additional_days_employed_in_current_job = numpyro.deterministic(\n",
    "    #     name=\"additional_days_employed_in_current_job\",\n",
    "    #     value=jnp.round(prob_is_laid_off_soon \\\n",
    "    #     * prop_of_year_employed_current_job + (1 - prob_is_laid_off_soon) \\\n",
    "    #     * 365)\n",
    "    # )\n",
    "    \n",
    "    # with numpyro.plate(\n",
    "    #     name=\"my_plate\",\n",
    "    #     size=5\n",
    "    # ):\n",
    "    additional_days_employed_in_current_job = numpyro.sample(\n",
    "        name=\"additional_days_employed_in_current_job\",\n",
    "        fn=beta_binom_mix,\n",
    "        # infer={\"enumerate\": \"parallel\"}\n",
    "    )\n",
    "\n",
    "    return additional_days_employed_in_current_job\n",
    "    ##############################\n",
    "    # additional_months_employed_in_current_job = is_laid_off_current_job_soon * 12 * prop_year_employed_current_job\n",
    "    # jnp.where(\n",
    "    #     condition=is_laid_off_current_job_soon,\n",
    "    #     x=\n",
    "    # )\n",
    "    # if laid_off_current_job_soon:\n",
    "    #     # How many months of employment were\n",
    "    #     # captured before the layoff?\n",
    "    #     # arcsine distribution is Beta(0.5, 0.5)\n",
    "    #     # https://en.wikipedia.org/wiki/Arcsine_distribution\n",
    "    #     arcsine_dist = dist.Beta(0.5, 0.5)\n",
    "    #     additional_months_employed_in_current_job = 12 * arcsine_dist.sample(key=rng_key)\n",
    "    # else:\n",
    "    #     additional_months_employed_in_current_job = 12\n",
    "    \n",
    "    # return additional_months_employed_in_current_job"
   ]
  },
  {
   "cell_type": "code",
   "execution_count": null,
   "metadata": {},
   "outputs": [],
   "source": [
    "\n",
    "a1_utility(\n",
    "    prob_is_laid_off_soon=0.3\n",
    ")"
   ]
  },
  {
   "cell_type": "code",
   "execution_count": null,
   "metadata": {},
   "outputs": [
    {
     "data": {
      "image/svg+xml": [
       "<?xml version=\"1.0\" encoding=\"UTF-8\" standalone=\"no\"?>\n",
       "<!DOCTYPE svg PUBLIC \"-//W3C//DTD SVG 1.1//EN\"\n",
       " \"http://www.w3.org/Graphics/SVG/1.1/DTD/svg11.dtd\">\n",
       "<!-- Generated by graphviz version 11.0.0 (20240519.1550)\n",
       " -->\n",
       "<!-- Pages: 1 -->\n",
       "<svg width=\"445pt\" height=\"44pt\"\n",
       " viewBox=\"0.00 0.00 445.02 44.00\" xmlns=\"http://www.w3.org/2000/svg\" xmlns:xlink=\"http://www.w3.org/1999/xlink\">\n",
       "<g id=\"graph0\" class=\"graph\" transform=\"scale(1 1) rotate(0) translate(4 40)\">\n",
       "<polygon fill=\"white\" stroke=\"none\" points=\"-4,4 -4,-40 441.02,-40 441.02,4 -4,4\"/>\n",
       "<!-- additional_days_employed_in_current_job -->\n",
       "<g id=\"node1\" class=\"node\">\n",
       "<title>additional_days_employed_in_current_job</title>\n",
       "<ellipse fill=\"white\" stroke=\"black\" cx=\"218.51\" cy=\"-18\" rx=\"218.51\" ry=\"18\"/>\n",
       "<text text-anchor=\"middle\" x=\"218.51\" y=\"-13.32\" font-family=\"Times,serif\" font-size=\"14.00\">additional_days_employed_in_current_job</text>\n",
       "</g>\n",
       "</g>\n",
       "</svg>\n"
      ],
      "text/plain": [
       "<graphviz.graphs.Digraph at 0x7d1528fb1b20>"
      ]
     },
     "execution_count": 12,
     "metadata": {},
     "output_type": "execute_result"
    }
   ],
   "source": [
    "numpyro.render_model(\n",
    "    model=a1_utility,\n",
    "    model_args=[0.5],\n",
    "    render_params=True\n",
    ")"
   ]
  },
  {
   "cell_type": "code",
   "execution_count": null,
   "metadata": {},
   "outputs": [
    {
     "name": "stderr",
     "output_type": "stream",
     "text": [
      "/tmp/ipykernel_300022/619536135.py:11: UserWarning:\n",
      "\n",
      "There are not enough devices to run parallel chains: expected 4 but got 1. Chains will be drawn sequentially. If you are running MCMC in CPU, consider using `numpyro.set_host_device_count(4)` at the beginning of your program. You can double-check how many devices are available in your system using `jax.local_device_count()`.\n",
      "\n",
      "sample: 100%|██████████| 200/200 [00:03<00:00, 51.52it/s, 1 steps of size 4.65e+18. acc. prob=1.00]\n",
      "sample: 100%|██████████| 200/200 [00:00<00:00, 1843.95it/s, 1 steps of size 4.65e+18. acc. prob=1.00]\n",
      "sample: 100%|██████████| 200/200 [00:00<00:00, 1701.52it/s, 1 steps of size 4.65e+18. acc. prob=1.00]\n",
      "sample: 100%|██████████| 200/200 [00:00<00:00, 1098.31it/s, 1 steps of size 4.65e+18. acc. prob=1.00]\n"
     ]
    }
   ],
   "source": [
    "nuts_kernel = NUTS(model=a1_utility)\n",
    "hmc_kernel = HMC(model=a1_utility)\n",
    "hmc_gibbs = DiscreteHMCGibbs(\n",
    "    inner_kernel=nuts_kernel\n",
    ")\n",
    "\n",
    "mixed_hmc = MixedHMC(\n",
    "    inner_kernel=hmc_kernel   \n",
    ")\n",
    "\n",
    "mcmc = MCMC(\n",
    "        sampler=mixed_hmc,\n",
    "        num_warmup=100,\n",
    "        num_samples=100,\n",
    "        num_chains=4\n",
    ")\n",
    "\n",
    "# Run the MCMC sampler and collect samples\n",
    "mcmc.run(\n",
    "        rng_key=random.PRNGKey(seed=42),\n",
    "        prob_is_laid_off_soon=0.7\n",
    ")"
   ]
  },
  {
   "cell_type": "code",
   "execution_count": null,
   "metadata": {},
   "outputs": [
    {
     "name": "stderr",
     "output_type": "stream",
     "text": [
      "/tmp/ipykernel_300022/1771088140.py:2: UserWarning:\n",
      "\n",
      "There are not enough devices to run parallel chains: expected 4 but got 1. Chains will be drawn sequentially. If you are running MCMC in CPU, consider using `numpyro.set_host_device_count(4)` at the beginning of your program. You can double-check how many devices are available in your system using `jax.local_device_count()`.\n",
      "\n",
      "/tmp/ipykernel_300022/1771088140.py:10: FutureWarning:\n",
      "\n",
      "Some algorithms will automatically enumerate the discrete latent site additional_days_employed_in_current_job of your model. In the future, enumerated sites need to be marked with `infer={'enumerate': 'parallel'}`.\n",
      "\n",
      "sample: 100%|██████████| 200/200 [00:02<00:00, 90.07it/s, 1 steps of size 4.65e+18. acc. prob=1.00] \n",
      "/tmp/ipykernel_300022/1771088140.py:10: FutureWarning:\n",
      "\n",
      "Some algorithms will automatically enumerate the discrete latent site additional_days_employed_in_current_job of your model. In the future, enumerated sites need to be marked with `infer={'enumerate': 'parallel'}`.\n",
      "\n",
      "sample: 100%|██████████| 200/200 [00:00<00:00, 1899.96it/s, 1 steps of size 4.65e+18. acc. prob=1.00]\n",
      "/tmp/ipykernel_300022/1771088140.py:10: FutureWarning:\n",
      "\n",
      "Some algorithms will automatically enumerate the discrete latent site additional_days_employed_in_current_job of your model. In the future, enumerated sites need to be marked with `infer={'enumerate': 'parallel'}`.\n",
      "\n",
      "sample: 100%|██████████| 200/200 [00:00<00:00, 1629.95it/s, 1 steps of size 4.65e+18. acc. prob=1.00]\n",
      "/tmp/ipykernel_300022/1771088140.py:10: FutureWarning:\n",
      "\n",
      "Some algorithms will automatically enumerate the discrete latent site additional_days_employed_in_current_job of your model. In the future, enumerated sites need to be marked with `infer={'enumerate': 'parallel'}`.\n",
      "\n",
      "sample: 100%|██████████| 200/200 [00:00<00:00, 1201.52it/s, 1 steps of size 4.65e+18. acc. prob=1.00]\n"
     ]
    }
   ],
   "source": [
    "# Instantiate a `MCMC` object using a NUTS sampler\n",
    "mcmc = MCMC(\n",
    "        sampler=nuts_kernel,\n",
    "        num_warmup=100,\n",
    "        num_samples=100,\n",
    "        num_chains=4\n",
    ")\n",
    "\n",
    "# Run the MCMC sampler and collect samples\n",
    "mcmc.run(\n",
    "        rng_key=random.PRNGKey(seed=42),\n",
    "        prob_is_laid_off_soon=0.7\n",
    ")"
   ]
  },
  {
   "cell_type": "code",
   "execution_count": null,
   "metadata": {},
   "outputs": [],
   "source": [
    "samples = mcmc.get_samples()"
   ]
  },
  {
   "cell_type": "code",
   "execution_count": null,
   "metadata": {},
   "outputs": [
    {
     "data": {
      "text/plain": [
       "{'additional_days_employed_in_current_job': Array([365, 365, 237,   6, 365,   5,  34, 365, 365,  48, 202,   0, 365,\n",
       "        365, 362, 365,  34, 116,   0, 365, 365,  17, 365, 136,  56,  55,\n",
       "        196, 360, 362, 345, 365, 347, 294, 191, 215, 134, 146, 365, 365,\n",
       "        351, 365,   1, 232, 365, 157, 365,  95, 284,  58,  20, 325,   3,\n",
       "         41,  21, 365, 118,  14, 362,   2, 350,   0,   4,   1, 365, 255,\n",
       "         12, 365,  11, 191, 214, 167, 365,  87, 365, 207, 365, 365, 365,\n",
       "        365, 365, 365, 326,  94, 353, 287,   1,  29, 204, 210, 273, 365,\n",
       "        314,  14, 365, 365, 180, 330,  56, 235, 365, 365,  18, 365, 365,\n",
       "         29,  27, 365,  80, 154, 365,  28,   6, 118, 250,  61, 214, 364,\n",
       "         99, 365, 365, 365, 298,   1, 365, 346, 202, 173, 365, 365, 365,\n",
       "        365, 365, 365,   0, 365, 338, 150, 365, 188, 365, 365, 320,  20,\n",
       "          3,  13, 365, 217, 365, 157, 258, 338, 365, 132, 216, 197, 112,\n",
       "        365, 365, 247,  34, 254, 300, 364, 365, 360, 365, 189, 365, 365,\n",
       "        251, 300, 365,  64, 365, 365, 303,   3,  90, 359, 357, 156, 186,\n",
       "        365, 365, 365, 144, 278, 340, 146, 192, 287, 365, 365, 218,  19,\n",
       "         10, 314,   1, 227, 365, 255, 324, 196, 365, 344, 344, 347,  20,\n",
       "        334,  10, 260, 365, 365,  15, 365, 365, 361, 337, 360, 269, 365,\n",
       "          3, 311, 365, 365, 360, 365, 365, 365, 105, 365, 254, 352, 365,\n",
       "        365, 365, 355, 365,   4, 148, 275, 365, 365,  14, 365,  73, 153,\n",
       "         14,  74, 362, 365, 365, 362, 190, 365, 365,  78, 365, 130, 365,\n",
       "        365, 104, 121, 362, 365, 346,  10, 287, 304, 365,  15, 365, 251,\n",
       "        166,   4, 365,   9, 354, 160,  53, 207, 257,  20, 365,  31,  89,\n",
       "        365, 163, 365,  38,  86, 365,  25, 365, 161, 336, 365, 365,  65,\n",
       "        104, 365,  39,  73, 342, 290, 365,   2, 361,  35,   5, 353,   0,\n",
       "        343, 293,  54, 365, 365, 361, 365, 365,  58, 327, 365,   2,   5,\n",
       "        365, 256, 365, 365, 365, 365,  92, 356, 186,  20, 132, 331, 365,\n",
       "        183, 358, 189,   9, 310, 331, 365,  60,  70, 365, 307,  90, 365,\n",
       "        328, 365, 278,   1, 248,   3,   1, 295, 365, 365, 365, 224, 365,\n",
       "        223, 300, 331, 365, 357, 211,  65,  64, 365, 241, 365,  20, 365,\n",
       "        365,  20, 132,   1, 365, 347, 365, 202, 328, 172, 365, 150, 208,\n",
       "         50, 365, 113, 320,  30, 365,   1, 265, 351, 365], dtype=int32)}"
      ]
     },
     "execution_count": 19,
     "metadata": {},
     "output_type": "execute_result"
    }
   ],
   "source": [
    "samples"
   ]
  },
  {
   "cell_type": "code",
   "execution_count": null,
   "metadata": {},
   "outputs": [
    {
     "data": {
      "application/vnd.plotly.v1+json": {
       "config": {
        "plotlyServerURL": "https://plot.ly"
       },
       "data": [
        {
         "alignmentgroup": "True",
         "bingroup": "x",
         "hovertemplate": "variable=0<br>value=%{x}<br>count=%{y}<extra></extra>",
         "legendgroup": "0",
         "marker": {
          "color": "#636efa",
          "pattern": {
           "shape": ""
          }
         },
         "name": "0",
         "offsetgroup": "0",
         "orientation": "v",
         "showlegend": true,
         "type": "histogram",
         "x": [
          365,
          365,
          237,
          6,
          365,
          5,
          34,
          365,
          365,
          48,
          202,
          0,
          365,
          365,
          362,
          365,
          34,
          116,
          0,
          365,
          365,
          17,
          365,
          136,
          56,
          55,
          196,
          360,
          362,
          345,
          365,
          347,
          294,
          191,
          215,
          134,
          146,
          365,
          365,
          351,
          365,
          1,
          232,
          365,
          157,
          365,
          95,
          284,
          58,
          20,
          325,
          3,
          41,
          21,
          365,
          118,
          14,
          362,
          2,
          350,
          0,
          4,
          1,
          365,
          255,
          12,
          365,
          11,
          191,
          214,
          167,
          365,
          87,
          365,
          207,
          365,
          365,
          365,
          365,
          365,
          365,
          326,
          94,
          353,
          287,
          1,
          29,
          204,
          210,
          273,
          365,
          314,
          14,
          365,
          365,
          180,
          330,
          56,
          235,
          365,
          365,
          18,
          365,
          365,
          29,
          27,
          365,
          80,
          154,
          365,
          28,
          6,
          118,
          250,
          61,
          214,
          364,
          99,
          365,
          365,
          365,
          298,
          1,
          365,
          346,
          202,
          173,
          365,
          365,
          365,
          365,
          365,
          365,
          0,
          365,
          338,
          150,
          365,
          188,
          365,
          365,
          320,
          20,
          3,
          13,
          365,
          217,
          365,
          157,
          258,
          338,
          365,
          132,
          216,
          197,
          112,
          365,
          365,
          247,
          34,
          254,
          300,
          364,
          365,
          360,
          365,
          189,
          365,
          365,
          251,
          300,
          365,
          64,
          365,
          365,
          303,
          3,
          90,
          359,
          357,
          156,
          186,
          365,
          365,
          365,
          144,
          278,
          340,
          146,
          192,
          287,
          365,
          365,
          218,
          19,
          10,
          314,
          1,
          227,
          365,
          255,
          324,
          196,
          365,
          344,
          344,
          347,
          20,
          334,
          10,
          260,
          365,
          365,
          15,
          365,
          365,
          361,
          337,
          360,
          269,
          365,
          3,
          311,
          365,
          365,
          360,
          365,
          365,
          365,
          105,
          365,
          254,
          352,
          365,
          365,
          365,
          355,
          365,
          4,
          148,
          275,
          365,
          365,
          14,
          365,
          73,
          153,
          14,
          74,
          362,
          365,
          365,
          362,
          190,
          365,
          365,
          78,
          365,
          130,
          365,
          365,
          104,
          121,
          362,
          365,
          346,
          10,
          287,
          304,
          365,
          15,
          365,
          251,
          166,
          4,
          365,
          9,
          354,
          160,
          53,
          207,
          257,
          20,
          365,
          31,
          89,
          365,
          163,
          365,
          38,
          86,
          365,
          25,
          365,
          161,
          336,
          365,
          365,
          65,
          104,
          365,
          39,
          73,
          342,
          290,
          365,
          2,
          361,
          35,
          5,
          353,
          0,
          343,
          293,
          54,
          365,
          365,
          361,
          365,
          365,
          58,
          327,
          365,
          2,
          5,
          365,
          256,
          365,
          365,
          365,
          365,
          92,
          356,
          186,
          20,
          132,
          331,
          365,
          183,
          358,
          189,
          9,
          310,
          331,
          365,
          60,
          70,
          365,
          307,
          90,
          365,
          328,
          365,
          278,
          1,
          248,
          3,
          1,
          295,
          365,
          365,
          365,
          224,
          365,
          223,
          300,
          331,
          365,
          357,
          211,
          65,
          64,
          365,
          241,
          365,
          20,
          365,
          365,
          20,
          132,
          1,
          365,
          347,
          365,
          202,
          328,
          172,
          365,
          150,
          208,
          50,
          365,
          113,
          320,
          30,
          365,
          1,
          265,
          351,
          365
         ],
         "xaxis": "x",
         "yaxis": "y"
        }
       ],
       "layout": {
        "barmode": "relative",
        "legend": {
         "title": {
          "text": "variable"
         },
         "tracegroupgap": 0
        },
        "margin": {
         "t": 60
        },
        "template": {
         "data": {
          "bar": [
           {
            "error_x": {
             "color": "#2a3f5f"
            },
            "error_y": {
             "color": "#2a3f5f"
            },
            "marker": {
             "line": {
              "color": "#E5ECF6",
              "width": 0.5
             },
             "pattern": {
              "fillmode": "overlay",
              "size": 10,
              "solidity": 0.2
             }
            },
            "type": "bar"
           }
          ],
          "barpolar": [
           {
            "marker": {
             "line": {
              "color": "#E5ECF6",
              "width": 0.5
             },
             "pattern": {
              "fillmode": "overlay",
              "size": 10,
              "solidity": 0.2
             }
            },
            "type": "barpolar"
           }
          ],
          "carpet": [
           {
            "aaxis": {
             "endlinecolor": "#2a3f5f",
             "gridcolor": "white",
             "linecolor": "white",
             "minorgridcolor": "white",
             "startlinecolor": "#2a3f5f"
            },
            "baxis": {
             "endlinecolor": "#2a3f5f",
             "gridcolor": "white",
             "linecolor": "white",
             "minorgridcolor": "white",
             "startlinecolor": "#2a3f5f"
            },
            "type": "carpet"
           }
          ],
          "choropleth": [
           {
            "colorbar": {
             "outlinewidth": 0,
             "ticks": ""
            },
            "type": "choropleth"
           }
          ],
          "contour": [
           {
            "colorbar": {
             "outlinewidth": 0,
             "ticks": ""
            },
            "colorscale": [
             [
              0,
              "#0d0887"
             ],
             [
              0.1111111111111111,
              "#46039f"
             ],
             [
              0.2222222222222222,
              "#7201a8"
             ],
             [
              0.3333333333333333,
              "#9c179e"
             ],
             [
              0.4444444444444444,
              "#bd3786"
             ],
             [
              0.5555555555555556,
              "#d8576b"
             ],
             [
              0.6666666666666666,
              "#ed7953"
             ],
             [
              0.7777777777777778,
              "#fb9f3a"
             ],
             [
              0.8888888888888888,
              "#fdca26"
             ],
             [
              1,
              "#f0f921"
             ]
            ],
            "type": "contour"
           }
          ],
          "contourcarpet": [
           {
            "colorbar": {
             "outlinewidth": 0,
             "ticks": ""
            },
            "type": "contourcarpet"
           }
          ],
          "heatmap": [
           {
            "colorbar": {
             "outlinewidth": 0,
             "ticks": ""
            },
            "colorscale": [
             [
              0,
              "#0d0887"
             ],
             [
              0.1111111111111111,
              "#46039f"
             ],
             [
              0.2222222222222222,
              "#7201a8"
             ],
             [
              0.3333333333333333,
              "#9c179e"
             ],
             [
              0.4444444444444444,
              "#bd3786"
             ],
             [
              0.5555555555555556,
              "#d8576b"
             ],
             [
              0.6666666666666666,
              "#ed7953"
             ],
             [
              0.7777777777777778,
              "#fb9f3a"
             ],
             [
              0.8888888888888888,
              "#fdca26"
             ],
             [
              1,
              "#f0f921"
             ]
            ],
            "type": "heatmap"
           }
          ],
          "heatmapgl": [
           {
            "colorbar": {
             "outlinewidth": 0,
             "ticks": ""
            },
            "colorscale": [
             [
              0,
              "#0d0887"
             ],
             [
              0.1111111111111111,
              "#46039f"
             ],
             [
              0.2222222222222222,
              "#7201a8"
             ],
             [
              0.3333333333333333,
              "#9c179e"
             ],
             [
              0.4444444444444444,
              "#bd3786"
             ],
             [
              0.5555555555555556,
              "#d8576b"
             ],
             [
              0.6666666666666666,
              "#ed7953"
             ],
             [
              0.7777777777777778,
              "#fb9f3a"
             ],
             [
              0.8888888888888888,
              "#fdca26"
             ],
             [
              1,
              "#f0f921"
             ]
            ],
            "type": "heatmapgl"
           }
          ],
          "histogram": [
           {
            "marker": {
             "pattern": {
              "fillmode": "overlay",
              "size": 10,
              "solidity": 0.2
             }
            },
            "type": "histogram"
           }
          ],
          "histogram2d": [
           {
            "colorbar": {
             "outlinewidth": 0,
             "ticks": ""
            },
            "colorscale": [
             [
              0,
              "#0d0887"
             ],
             [
              0.1111111111111111,
              "#46039f"
             ],
             [
              0.2222222222222222,
              "#7201a8"
             ],
             [
              0.3333333333333333,
              "#9c179e"
             ],
             [
              0.4444444444444444,
              "#bd3786"
             ],
             [
              0.5555555555555556,
              "#d8576b"
             ],
             [
              0.6666666666666666,
              "#ed7953"
             ],
             [
              0.7777777777777778,
              "#fb9f3a"
             ],
             [
              0.8888888888888888,
              "#fdca26"
             ],
             [
              1,
              "#f0f921"
             ]
            ],
            "type": "histogram2d"
           }
          ],
          "histogram2dcontour": [
           {
            "colorbar": {
             "outlinewidth": 0,
             "ticks": ""
            },
            "colorscale": [
             [
              0,
              "#0d0887"
             ],
             [
              0.1111111111111111,
              "#46039f"
             ],
             [
              0.2222222222222222,
              "#7201a8"
             ],
             [
              0.3333333333333333,
              "#9c179e"
             ],
             [
              0.4444444444444444,
              "#bd3786"
             ],
             [
              0.5555555555555556,
              "#d8576b"
             ],
             [
              0.6666666666666666,
              "#ed7953"
             ],
             [
              0.7777777777777778,
              "#fb9f3a"
             ],
             [
              0.8888888888888888,
              "#fdca26"
             ],
             [
              1,
              "#f0f921"
             ]
            ],
            "type": "histogram2dcontour"
           }
          ],
          "mesh3d": [
           {
            "colorbar": {
             "outlinewidth": 0,
             "ticks": ""
            },
            "type": "mesh3d"
           }
          ],
          "parcoords": [
           {
            "line": {
             "colorbar": {
              "outlinewidth": 0,
              "ticks": ""
             }
            },
            "type": "parcoords"
           }
          ],
          "pie": [
           {
            "automargin": true,
            "type": "pie"
           }
          ],
          "scatter": [
           {
            "fillpattern": {
             "fillmode": "overlay",
             "size": 10,
             "solidity": 0.2
            },
            "type": "scatter"
           }
          ],
          "scatter3d": [
           {
            "line": {
             "colorbar": {
              "outlinewidth": 0,
              "ticks": ""
             }
            },
            "marker": {
             "colorbar": {
              "outlinewidth": 0,
              "ticks": ""
             }
            },
            "type": "scatter3d"
           }
          ],
          "scattercarpet": [
           {
            "marker": {
             "colorbar": {
              "outlinewidth": 0,
              "ticks": ""
             }
            },
            "type": "scattercarpet"
           }
          ],
          "scattergeo": [
           {
            "marker": {
             "colorbar": {
              "outlinewidth": 0,
              "ticks": ""
             }
            },
            "type": "scattergeo"
           }
          ],
          "scattergl": [
           {
            "marker": {
             "colorbar": {
              "outlinewidth": 0,
              "ticks": ""
             }
            },
            "type": "scattergl"
           }
          ],
          "scattermapbox": [
           {
            "marker": {
             "colorbar": {
              "outlinewidth": 0,
              "ticks": ""
             }
            },
            "type": "scattermapbox"
           }
          ],
          "scatterpolar": [
           {
            "marker": {
             "colorbar": {
              "outlinewidth": 0,
              "ticks": ""
             }
            },
            "type": "scatterpolar"
           }
          ],
          "scatterpolargl": [
           {
            "marker": {
             "colorbar": {
              "outlinewidth": 0,
              "ticks": ""
             }
            },
            "type": "scatterpolargl"
           }
          ],
          "scatterternary": [
           {
            "marker": {
             "colorbar": {
              "outlinewidth": 0,
              "ticks": ""
             }
            },
            "type": "scatterternary"
           }
          ],
          "surface": [
           {
            "colorbar": {
             "outlinewidth": 0,
             "ticks": ""
            },
            "colorscale": [
             [
              0,
              "#0d0887"
             ],
             [
              0.1111111111111111,
              "#46039f"
             ],
             [
              0.2222222222222222,
              "#7201a8"
             ],
             [
              0.3333333333333333,
              "#9c179e"
             ],
             [
              0.4444444444444444,
              "#bd3786"
             ],
             [
              0.5555555555555556,
              "#d8576b"
             ],
             [
              0.6666666666666666,
              "#ed7953"
             ],
             [
              0.7777777777777778,
              "#fb9f3a"
             ],
             [
              0.8888888888888888,
              "#fdca26"
             ],
             [
              1,
              "#f0f921"
             ]
            ],
            "type": "surface"
           }
          ],
          "table": [
           {
            "cells": {
             "fill": {
              "color": "#EBF0F8"
             },
             "line": {
              "color": "white"
             }
            },
            "header": {
             "fill": {
              "color": "#C8D4E3"
             },
             "line": {
              "color": "white"
             }
            },
            "type": "table"
           }
          ]
         },
         "layout": {
          "annotationdefaults": {
           "arrowcolor": "#2a3f5f",
           "arrowhead": 0,
           "arrowwidth": 1
          },
          "autotypenumbers": "strict",
          "coloraxis": {
           "colorbar": {
            "outlinewidth": 0,
            "ticks": ""
           }
          },
          "colorscale": {
           "diverging": [
            [
             0,
             "#8e0152"
            ],
            [
             0.1,
             "#c51b7d"
            ],
            [
             0.2,
             "#de77ae"
            ],
            [
             0.3,
             "#f1b6da"
            ],
            [
             0.4,
             "#fde0ef"
            ],
            [
             0.5,
             "#f7f7f7"
            ],
            [
             0.6,
             "#e6f5d0"
            ],
            [
             0.7,
             "#b8e186"
            ],
            [
             0.8,
             "#7fbc41"
            ],
            [
             0.9,
             "#4d9221"
            ],
            [
             1,
             "#276419"
            ]
           ],
           "sequential": [
            [
             0,
             "#0d0887"
            ],
            [
             0.1111111111111111,
             "#46039f"
            ],
            [
             0.2222222222222222,
             "#7201a8"
            ],
            [
             0.3333333333333333,
             "#9c179e"
            ],
            [
             0.4444444444444444,
             "#bd3786"
            ],
            [
             0.5555555555555556,
             "#d8576b"
            ],
            [
             0.6666666666666666,
             "#ed7953"
            ],
            [
             0.7777777777777778,
             "#fb9f3a"
            ],
            [
             0.8888888888888888,
             "#fdca26"
            ],
            [
             1,
             "#f0f921"
            ]
           ],
           "sequentialminus": [
            [
             0,
             "#0d0887"
            ],
            [
             0.1111111111111111,
             "#46039f"
            ],
            [
             0.2222222222222222,
             "#7201a8"
            ],
            [
             0.3333333333333333,
             "#9c179e"
            ],
            [
             0.4444444444444444,
             "#bd3786"
            ],
            [
             0.5555555555555556,
             "#d8576b"
            ],
            [
             0.6666666666666666,
             "#ed7953"
            ],
            [
             0.7777777777777778,
             "#fb9f3a"
            ],
            [
             0.8888888888888888,
             "#fdca26"
            ],
            [
             1,
             "#f0f921"
            ]
           ]
          },
          "colorway": [
           "#636efa",
           "#EF553B",
           "#00cc96",
           "#ab63fa",
           "#FFA15A",
           "#19d3f3",
           "#FF6692",
           "#B6E880",
           "#FF97FF",
           "#FECB52"
          ],
          "font": {
           "color": "#2a3f5f"
          },
          "geo": {
           "bgcolor": "white",
           "lakecolor": "white",
           "landcolor": "#E5ECF6",
           "showlakes": true,
           "showland": true,
           "subunitcolor": "white"
          },
          "hoverlabel": {
           "align": "left"
          },
          "hovermode": "closest",
          "mapbox": {
           "style": "light"
          },
          "paper_bgcolor": "white",
          "plot_bgcolor": "#E5ECF6",
          "polar": {
           "angularaxis": {
            "gridcolor": "white",
            "linecolor": "white",
            "ticks": ""
           },
           "bgcolor": "#E5ECF6",
           "radialaxis": {
            "gridcolor": "white",
            "linecolor": "white",
            "ticks": ""
           }
          },
          "scene": {
           "xaxis": {
            "backgroundcolor": "#E5ECF6",
            "gridcolor": "white",
            "gridwidth": 2,
            "linecolor": "white",
            "showbackground": true,
            "ticks": "",
            "zerolinecolor": "white"
           },
           "yaxis": {
            "backgroundcolor": "#E5ECF6",
            "gridcolor": "white",
            "gridwidth": 2,
            "linecolor": "white",
            "showbackground": true,
            "ticks": "",
            "zerolinecolor": "white"
           },
           "zaxis": {
            "backgroundcolor": "#E5ECF6",
            "gridcolor": "white",
            "gridwidth": 2,
            "linecolor": "white",
            "showbackground": true,
            "ticks": "",
            "zerolinecolor": "white"
           }
          },
          "shapedefaults": {
           "line": {
            "color": "#2a3f5f"
           }
          },
          "ternary": {
           "aaxis": {
            "gridcolor": "white",
            "linecolor": "white",
            "ticks": ""
           },
           "baxis": {
            "gridcolor": "white",
            "linecolor": "white",
            "ticks": ""
           },
           "bgcolor": "#E5ECF6",
           "caxis": {
            "gridcolor": "white",
            "linecolor": "white",
            "ticks": ""
           }
          },
          "title": {
           "x": 0.05
          },
          "xaxis": {
           "automargin": true,
           "gridcolor": "white",
           "linecolor": "white",
           "ticks": "",
           "title": {
            "standoff": 15
           },
           "zerolinecolor": "white",
           "zerolinewidth": 2
          },
          "yaxis": {
           "automargin": true,
           "gridcolor": "white",
           "linecolor": "white",
           "ticks": "",
           "title": {
            "standoff": 15
           },
           "zerolinecolor": "white",
           "zerolinewidth": 2
          }
         }
        },
        "xaxis": {
         "anchor": "y",
         "domain": [
          0,
          1
         ],
         "title": {
          "text": "value"
         }
        },
        "yaxis": {
         "anchor": "x",
         "domain": [
          0,
          1
         ],
         "title": {
          "text": "count"
         }
        }
       }
      }
     },
     "metadata": {},
     "output_type": "display_data"
    }
   ],
   "source": [
    "px.histogram(samples[\"additional_days_employed_in_current_job\"])"
   ]
  }
 ],
 "metadata": {
  "kernelspec": {
   "display_name": "job_decision",
   "language": "python",
   "name": "python3"
  },
  "language_info": {
   "codemirror_mode": {
    "name": "ipython",
    "version": 3
   },
   "file_extension": ".py",
   "mimetype": "text/x-python",
   "name": "python",
   "nbconvert_exporter": "python",
   "pygments_lexer": "ipython3",
   "version": "3.12.4"
  }
 },
 "nbformat": 4,
 "nbformat_minor": 2
}
