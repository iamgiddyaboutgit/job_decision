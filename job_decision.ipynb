{
 "cells": [
  {
   "cell_type": "markdown",
   "metadata": {},
   "source": [
    "# Calculate utilities of two job decisions.\n"
   ]
  },
  {
   "cell_type": "code",
   "execution_count": 164,
   "metadata": {},
   "outputs": [],
   "source": [
    "import numpyro\n",
    "import numpyro.distributions as dist\n",
    "from numpyro.infer import DiscreteHMCGibbs, MCMC, NUTS, MixedHMC, HMC\n",
    "from jax import random\n",
    "import jax.numpy as jnp\n",
    "import plotly.express as px\n",
    "import numpy as np\n",
    "from scipy import stats\n",
    "import pyvinecopulib as pv\n",
    "import graphviz\n",
    "import funsor"
   ]
  },
  {
   "cell_type": "code",
   "execution_count": 157,
   "metadata": {},
   "outputs": [],
   "source": [
    "rng_key = random.PRNGKey(123)\n"
   ]
  },
  {
   "cell_type": "code",
   "execution_count": null,
   "metadata": {},
   "outputs": [],
   "source": [
    "# https://realpython.com/python-super/#an-overview-of-pythons-super-function\n",
    "class Pert(dist.Beta):\n",
    "    \"\"\"Class for modified-PERT distribution\n",
    "    with parameters\n",
    "    a: min\n",
    "    b: mode\n",
    "    c: max\n",
    "    gamma: Lower values of gamma make for a\n",
    "        distribution that is less peaked \n",
    "        at the mode.\n",
    "    \"\"\"\n",
    "    def __init__(self, a, b, c, gamma=4):\n",
    "        # https://pubsonline.informs.org/doi/epdf/10.1287/ited.1080.0013\n",
    "        # Davis 2008 formula for conversion\n",
    "        # between PERT and beta distributions\n",
    "        # https://en.wikipedia.org/wiki/PERT_distribution#The_modified-PERT_distribution\n",
    "        mu = (a + gamma * b + c)/(gamma + 2)\n",
    "        # https://reference.wolfram.com/language/ref/PERTDistribution.html\n",
    "        sigma_squared = (c - a - b*gamma + c*gamma)*(c + b*gamma - a * (1 + gamma))/((2 + gamma)**2 * (3 + gamma))\n",
    "        alpha_plus_beta = (mu - a)*(c - mu)/sigma_squared - 1 \n",
    "        alpha = (mu - a)/(c - a)*alpha_plus_beta\n",
    "        beta = (c - mu)/(c - a)*alpha_plus_beta\n",
    "        concentration1 = alpha\n",
    "        concentration0 = beta\n",
    "        super().__init__(concentration1, concentration0)"
   ]
  },
  {
   "cell_type": "code",
   "execution_count": null,
   "metadata": {},
   "outputs": [],
   "source": [
    "a = 69.5\n",
    "b = 74\n",
    "c = 76\n",
    "gamma = 1\n",
    "pert = Pert(a, b, c, gamma)\n",
    "# https://num.pyro.ai/en/0.7.1/getting_started.html\n",
    "y = a + pert.sample(key=rng_key, sample_shape=(100_000,))*(c - a)"
   ]
  },
  {
   "cell_type": "code",
   "execution_count": null,
   "metadata": {},
   "outputs": [],
   "source": [
    "fig = px.histogram(y)\n",
    "fig.show()"
   ]
  },
  {
   "cell_type": "markdown",
   "metadata": {},
   "source": [
    "Use vine copulas to work in high dimensions.\n",
    "https://stats.stackexchange.com/a/580780/242887"
   ]
  },
  {
   "cell_type": "code",
   "execution_count": null,
   "metadata": {},
   "outputs": [],
   "source": [
    "# Specify pair-copulas\n",
    "bicop = pv.Bicop(pv.BicopFamily.bb1, 90, [3, 2])\n",
    "# https://vinecopulib.github.io/pyvinecopulib/_generate/pyvinecopulib.Vinecop.__init__.html\n",
    "pair_copulas = [[bicop, bicop], [bicop]]\n",
    "\n",
    "# Specify R-vine matrix\n",
    "mat = np.array([[1, 1, 1], [2, 2, 0], [3, 0, 0]])\n",
    "\n",
    "# Set-up a vine copula\n",
    "cop = pv.Vinecop(\n",
    "    matrix=mat, \n",
    "    pair_copulas=pair_copulas,\n",
    "    var_types=[\"c\", \"d\", \"d\"]\n",
    ")\n",
    "print(cop)"
   ]
  },
  {
   "cell_type": "code",
   "execution_count": null,
   "metadata": {},
   "outputs": [],
   "source": [
    "# https://en.wikipedia.org/wiki/Copula_(probability_theory)#Families_of_copulas\n",
    "x, y, z = pycop.simulation.simu_archimedean(\n",
    "    family=\"clayton\",\n",
    "    n=3,\n",
    "    m=1000,\n",
    "    theta=3\n",
    ")"
   ]
  },
  {
   "cell_type": "code",
   "execution_count": null,
   "metadata": {},
   "outputs": [],
   "source": [
    "px.scatter(x=x, y=y)"
   ]
  },
  {
   "cell_type": "code",
   "execution_count": null,
   "metadata": {},
   "outputs": [],
   "source": [
    "px.scatter(x=y, y=z)"
   ]
  },
  {
   "cell_type": "code",
   "execution_count": null,
   "metadata": {},
   "outputs": [],
   "source": [
    "u_1 = stats.beta.ppf(\n",
    "    q=randoms_from_copula[0, :],\n",
    "    a=2,\n",
    "    b=3\n",
    ")\n",
    "\n",
    "u_2 = stats.beta.ppf(\n",
    "    q=randoms_from_copula[1, :],\n",
    "    a=2,\n",
    "    b=30\n",
    ")"
   ]
  },
  {
   "cell_type": "code",
   "execution_count": null,
   "metadata": {},
   "outputs": [],
   "source": [
    "np.corrcoef(u_1, u_2)"
   ]
  },
  {
   "cell_type": "code",
   "execution_count": null,
   "metadata": {},
   "outputs": [],
   "source": [
    "np.corrcoef(randoms_from_copula[0, :], randoms_from_copula[1, :])"
   ]
  },
  {
   "cell_type": "markdown",
   "metadata": {},
   "source": [
    "# Calculate Utility of Decision A: Keep Current Employment for One More Year"
   ]
  },
  {
   "cell_type": "markdown",
   "metadata": {},
   "source": [
    "Fixed Parameters:\n",
    "\n",
    "- `personal_401k_contribution` = 0.05 (as a proportion of pay). This is for the next year.\n",
    "- `employer_matching_401k_contribution` = 0 (as a proportion of `personal_401k_contribution`)\n",
    "- `tier_2_employer_401k_contribution` = 0.14 (as a proportion of pay). See [this](https://www.urs.org/documents/byfilename/%7CPublic%20Web%20Documents%7CURS%7CDC%7C401k_SPD_SW%7C%7Capplication%7Cpdf/) for more information on 401(k) plans within the Utah Retirement System.\n",
    "- `current_401k_transferrable_funds` = 2737.71\n",
    "- `current_401k_nontransferrable_funds` = 18646.47\n",
    "- `current_debt` = 5000\n",
    "- `utility_of_3_day_weekend` = 100. This is the amount that one 3-day weekend is worth in dollars.\n",
    "- `days_until_retirement` = 5*365\n",
    "\n",
    "Random Variables:\n",
    "\n",
    "- `initial_health_of_local_economy`: Given on a scale of 1-7. 1: Terrible. 2: Moderately poor. 3: Slightly poor. 4: Neither good nor bad. 5: Slightly good. 6: Moderately good. 7: Amazing.  Here, local means within commuting distance.\n",
    "- `health_of_local_economy_at_retirement`: Given on a scale of 1-7. 1: Terrible. 2: Moderately poor. 3: Slightly poor. 4: Neither good nor bad. 5: Slightly good. 6: Moderately good. 7: Amazing.\n",
    "- `slope_of_health_of_local_economy = (health_of_local_economy_at_retirement - initial_health_of_local_economy + is_laid_off_factor) / days_until_retirement`\n",
    "- `health_of_local_economy_at_time_t = round(initial_health_of_local_economy + slope_of_health_of_local_economy * t)` where t is the number of days since time 0. But, if `health_of_local_economy_at_time_t < 1`, then `health_of_local_economy_at_time_t = 1`.  Else if `health_of_local_economy_at_time_t > 7`, then `health_of_local_economy_at_time_t = 7`.\n",
    "\n",
    "- `initial_health_of_state_economy`: Given on a scale of 1-7. 1: Terrible. 2: Moderately poor. 3: Slightly poor. 4: Neither good nor bad. 5: Slightly good. 6: Moderately good. 7: Amazing.\n",
    "- `health_of_state_economy_at_retirement`: Given on a scale of 1-7. 1: Terrible. 2: Moderately poor. 3: Slightly poor. 4: Neither good nor bad. 5: Slightly good. 6: Moderately good. 7: Amazing.\n",
    "- `slope_of_health_of_state_economy = (health_of_state_economy_at_retirement - initial_health_of_state_economy + 0.9*is_laid_off_factor) / days_until_retirement`\n",
    "- `health_of_state_economy_at_time_t = round(initial_health_of_state_economy + slope_of_health_of_state_economy * t)` where t is the number of days since time 0. But, if `health_of_state_economy_at_time_t < 1`, then `health_of_state_economy_at_time_t = 1`.  Else if `health_of_state_economy_at_time_t > 7`, then `health_of_state_economy_at_time_t = 7`.\n",
    "\n",
    "- `initial_health_of_national_economy`: Given on a scale of 1-7. 1: Terrible. 2: Moderately poor. 3: Slightly poor. 4: Neither good nor bad. 5: Slightly good. 6: Moderately good. 7: Amazing.\n",
    "- `health_of_national_economy_at_retirement`: Given on a scale of 1-7. 1: Terrible. 2: Moderately poor. 3: Slightly poor. 4: Neither good nor bad. 5: Slightly good. 6: Moderately good. 7: Amazing.\n",
    "- `slope_of_health_of_national_economy = (health_of_national_economy_at_retirement - initial_health_of_national_economy + 0.8*is_laid_off_factor) / days_until_retirement`\n",
    "- `health_of_national_economy_at_time_t = round(initial_health_of_national_economy + slope_of_health_of_national_economy * t)` where t is the number of days since time 0. But, if `health_of_national_economy_at_time_t < 1`, then `health_of_national_economy_at_time_t = 1`.  Else if `health_of_national_economy_at_time_t > 7`, then `health_of_national_economy_at_time_t = 7`.\n",
    "\n",
    "- `initial_financial_health_of_current_employer`: Given on a scale of 1-7. 1: Terrible. 2: Moderately poor. 3: Slightly poor. 4: Neither good nor bad. 5: Slightly good. 6: Moderately good. 7: Amazing.\n",
    "- `financial_health_of_current_employer_at_year_mark`: Given on a scale of 1-7. 1: Terrible. 2: Moderately poor. 3: Slightly poor. 4: Neither good nor bad. 5: Slightly good. 6: Moderately good. 7: Amazing.\n",
    "- `slope_of_financial_health_of_current_employer = (financial_health_of_current_employer_at_year_mark - initial_financial_health_of_current_employer) / 365`\n",
    "- `financial_health_of_current_employer`: This is influenced by `initial_financial_health_of_current_employer`, `financial_health_of_current_employer_at_year_mark`, `is_laid_off`, and `days_from_layoff_to_next_hire`. It can be computed via simple linear regression with some adjustments for the other variables.\n",
    "\n",
    "- `prob_laid_off`: The probability of being laid off from the current position before the one year mark. Note that `prob_laid_off + prob_salary_decrease + prob_salary_increase < 1` with the remaining probability density representing the probability of the current salary staying the same up to the one year mark.\n",
    "- `is_laid_off`: Bernoulli random variable with a value of 1 if you are laid off before the 1-year mark.\n",
    "- `is_laid_off_factor`: Takes a value of -1 if `is_laid_off == 1`; otherwise, takes a value of 1.\n",
    "- `additional_days_employed_in_current_job`: The support for this random variable is positive integers up to 365.\n",
    "\n",
    "- `prob_salary_decrease`: The probability of the current salary being decreased. Note that `prob_laid_off + prob_salary_decrease + prob_salary_increase < 1` with the remaining probability density representing the probability of the current salary staying the same up to the one year mark. \n",
    "- `is_salary_decreased`: Bernoulli random variable with a value of 1 if your salary is decreased before the 1-year mark.\n",
    "\n",
    "- `prob_salary_increase`: The probability of the current salary being increased. Note that `prob_laid_off + prob_salary_decrease + prob_salary_increase < 1` with the remaining probability density representing the probability of the current salary staying the same up to the one year mark.\n",
    "- `is_salary_increased`: Bernoulli random variable with a value of 1 if your salary is increased before the 1-year mark.\n",
    "\n",
    "- `is_salary_constant`: Bernoulli random variable with a value of 1 if your salary remains the same up until the 1-year mark. The probability of success is `1 - (prob_laid_off + prob_salary_decrease + prob_salary_increase)`.\n",
    "\n",
    "- `prob_hire_after_layoff`: The probability of being hired after being prematurely layed off by the current employer.\n",
    "- `days_from_layoff_to_next_hire`: If a layoff occurs, how many days would it take until you are hired for another job?\n",
    "- `prob_hire_after_year_mark`: The probability of being hired after reaching the year mark.\n",
    "\n",
    "- `prob_necessary_move_after_layoff`: The probability that it is necessary to move after being layed off in order to be rehired.\n",
    "- ``\n",
    "- `prob_necessary_move_after_year_mark`: The probability that it is necessary to move in order to continue working for another employer after the year mark.\n",
    "\n",
    "8. `annualized_ror_for_401k_transferrable_funds`: Annualized rate of return is calculated [here](https://en.wikipedia.org/wiki/Rate_of_return#Annualization). This will be used for the next year. \n",
    "9. `annualized_ror_for_401k_nontransferrable_funds`: This will be used for the next year.\n",
    "10. `total_debt_payments_for_next_year`\n",
    "11. `remaining_debt_at_end_of_year`\n",
    "12. `days_until_debt_payoff`\n",
    "13. `cucumulative_wages_earned_upon_retirement`: How much money was made from working since the decision was made to stay on the job?\n",
    "14. `number_of_wage_changes`: How many times is your wage changed before the year is up or you are laid off?\n",
    "15. `days_with_salary`: Random vector with length `number_of_wage_changes + 1`. The components represent the number of days between wage changes.\n",
    "\n",
    "\n",
    "\n",
    "\n",
    "\n",
    "\n"
   ]
  },
  {
   "cell_type": "markdown",
   "metadata": {},
   "source": [
    "## Practice with NumPyro"
   ]
  },
  {
   "cell_type": "code",
   "execution_count": 56,
   "metadata": {},
   "outputs": [
    {
     "data": {
      "text/plain": [
       "Array(0, dtype=int32)"
      ]
     },
     "execution_count": 56,
     "metadata": {},
     "output_type": "execute_result"
    }
   ],
   "source": [
    "prob_is_laid_off_soon = 0.9\n",
    "mixing_dist = dist.Categorical(\n",
    "        probs=jnp.array([prob_is_laid_off_soon, 1 - prob_is_laid_off_soon])\n",
    "    )\n",
    "mixing_dist.sample(key=random.PRNGKey(99367018))"
   ]
  },
  {
   "cell_type": "code",
   "execution_count": 78,
   "metadata": {},
   "outputs": [],
   "source": [
    "d = dist.BetaBinomial(\n",
    "    concentration1=0.5,\n",
    "    concentration0=0.5,\n",
    "    total_count=365\n",
    ")"
   ]
  },
  {
   "cell_type": "code",
   "execution_count": 84,
   "metadata": {},
   "outputs": [
    {
     "data": {
      "text/plain": [
       "Real()"
      ]
     },
     "execution_count": 84,
     "metadata": {},
     "output_type": "execute_result"
    }
   ],
   "source": [
    "d.support"
   ]
  },
  {
   "cell_type": "code",
   "execution_count": 72,
   "metadata": {},
   "outputs": [],
   "source": [
    "ss = d.sample(key=random.PRNGKey(967018), sample_shape=(1000,))"
   ]
  },
  {
   "cell_type": "code",
   "execution_count": 73,
   "metadata": {},
   "outputs": [
    {
     "data": {
      "application/vnd.plotly.v1+json": {
       "config": {
        "plotlyServerURL": "https://plot.ly"
       },
       "data": [
        {
         "alignmentgroup": "True",
         "bingroup": "x",
         "hovertemplate": "variable=0<br>value=%{x}<br>count=%{y}<extra></extra>",
         "legendgroup": "0",
         "marker": {
          "color": "#636efa",
          "pattern": {
           "shape": ""
          }
         },
         "name": "0",
         "offsetgroup": "0",
         "orientation": "v",
         "showlegend": true,
         "type": "histogram",
         "x": [
          90,
          365,
          199,
          23,
          340,
          40,
          8,
          3,
          132,
          44,
          262,
          310,
          351,
          54,
          347,
          54,
          90,
          287,
          157,
          3,
          267,
          353,
          287,
          209,
          66,
          182,
          208,
          269,
          346,
          358,
          345,
          156,
          212,
          182,
          10,
          346,
          200,
          8,
          16,
          217,
          235,
          365,
          256,
          320,
          365,
          177,
          63,
          43,
          12,
          344,
          279,
          19,
          301,
          335,
          45,
          33,
          225,
          351,
          73,
          265,
          337,
          7,
          54,
          363,
          235,
          161,
          316,
          225,
          226,
          352,
          349,
          94,
          220,
          365,
          97,
          352,
          12,
          2,
          334,
          28,
          337,
          46,
          277,
          213,
          108,
          17,
          155,
          323,
          202,
          181,
          1,
          8,
          125,
          59,
          346,
          302,
          163,
          181,
          97,
          70,
          154,
          365,
          46,
          68,
          41,
          102,
          2,
          293,
          2,
          47,
          325,
          192,
          98,
          316,
          183,
          45,
          326,
          183,
          3,
          352,
          324,
          116,
          365,
          342,
          75,
          357,
          250,
          134,
          202,
          332,
          5,
          193,
          213,
          137,
          257,
          253,
          19,
          352,
          338,
          231,
          363,
          365,
          77,
          134,
          237,
          205,
          88,
          340,
          74,
          242,
          12,
          349,
          295,
          133,
          209,
          358,
          231,
          363,
          27,
          1,
          63,
          295,
          185,
          250,
          342,
          114,
          245,
          96,
          354,
          359,
          44,
          363,
          228,
          132,
          131,
          346,
          4,
          345,
          313,
          314,
          133,
          8,
          15,
          349,
          365,
          0,
          327,
          293,
          150,
          222,
          108,
          23,
          87,
          236,
          151,
          356,
          58,
          100,
          10,
          28,
          354,
          116,
          137,
          9,
          56,
          41,
          339,
          0,
          33,
          3,
          301,
          207,
          24,
          0,
          26,
          55,
          64,
          33,
          187,
          341,
          350,
          149,
          145,
          32,
          32,
          100,
          49,
          163,
          344,
          51,
          154,
          29,
          360,
          326,
          76,
          117,
          0,
          348,
          301,
          225,
          360,
          8,
          304,
          293,
          339,
          32,
          348,
          139,
          188,
          161,
          246,
          220,
          139,
          1,
          64,
          265,
          209,
          12,
          14,
          82,
          207,
          149,
          241,
          2,
          336,
          356,
          312,
          365,
          304,
          15,
          38,
          203,
          45,
          33,
          166,
          253,
          359,
          283,
          108,
          0,
          268,
          158,
          4,
          145,
          285,
          128,
          217,
          7,
          103,
          68,
          78,
          60,
          362,
          22,
          14,
          365,
          329,
          99,
          203,
          71,
          252,
          343,
          267,
          44,
          362,
          365,
          360,
          35,
          349,
          257,
          63,
          301,
          357,
          178,
          69,
          253,
          0,
          330,
          171,
          286,
          298,
          173,
          108,
          327,
          359,
          113,
          21,
          204,
          3,
          190,
          225,
          128,
          363,
          329,
          289,
          268,
          326,
          360,
          361,
          364,
          354,
          22,
          218,
          21,
          363,
          228,
          5,
          57,
          37,
          12,
          56,
          293,
          361,
          71,
          75,
          68,
          256,
          333,
          64,
          100,
          32,
          14,
          0,
          286,
          45,
          10,
          319,
          69,
          316,
          253,
          42,
          184,
          325,
          235,
          99,
          261,
          69,
          239,
          364,
          1,
          210,
          277,
          260,
          23,
          105,
          4,
          102,
          138,
          96,
          316,
          217,
          211,
          209,
          28,
          183,
          352,
          269,
          106,
          365,
          176,
          4,
          37,
          342,
          332,
          46,
          334,
          355,
          159,
          308,
          202,
          4,
          104,
          35,
          92,
          7,
          30,
          0,
          111,
          193,
          357,
          1,
          174,
          174,
          4,
          4,
          350,
          342,
          323,
          25,
          265,
          2,
          353,
          262,
          299,
          2,
          183,
          5,
          342,
          34,
          360,
          246,
          41,
          171,
          328,
          365,
          32,
          228,
          140,
          30,
          77,
          104,
          350,
          170,
          208,
          144,
          176,
          11,
          0,
          218,
          365,
          269,
          340,
          39,
          282,
          116,
          33,
          63,
          142,
          353,
          5,
          44,
          306,
          6,
          359,
          53,
          211,
          39,
          348,
          2,
          365,
          203,
          116,
          116,
          353,
          97,
          108,
          364,
          235,
          94,
          353,
          21,
          23,
          250,
          237,
          244,
          82,
          183,
          293,
          289,
          7,
          335,
          217,
          323,
          182,
          332,
          6,
          7,
          110,
          38,
          287,
          354,
          342,
          14,
          309,
          333,
          106,
          136,
          50,
          342,
          116,
          350,
          230,
          305,
          363,
          362,
          285,
          75,
          346,
          257,
          40,
          347,
          356,
          1,
          7,
          192,
          86,
          310,
          113,
          62,
          1,
          356,
          225,
          247,
          10,
          169,
          28,
          229,
          251,
          129,
          62,
          248,
          48,
          306,
          250,
          311,
          36,
          111,
          343,
          178,
          278,
          340,
          52,
          87,
          0,
          99,
          160,
          308,
          315,
          93,
          116,
          323,
          131,
          360,
          1,
          302,
          66,
          269,
          306,
          69,
          94,
          281,
          104,
          331,
          354,
          122,
          163,
          317,
          355,
          277,
          56,
          0,
          331,
          282,
          362,
          222,
          67,
          15,
          239,
          21,
          123,
          299,
          225,
          186,
          9,
          222,
          10,
          365,
          81,
          363,
          353,
          123,
          0,
          143,
          59,
          154,
          351,
          53,
          7,
          71,
          10,
          8,
          8,
          278,
          257,
          364,
          306,
          122,
          51,
          90,
          127,
          16,
          8,
          364,
          250,
          90,
          249,
          166,
          358,
          362,
          252,
          360,
          209,
          129,
          230,
          33,
          212,
          158,
          0,
          194,
          178,
          37,
          7,
          253,
          316,
          150,
          0,
          197,
          50,
          266,
          337,
          323,
          89,
          179,
          342,
          342,
          16,
          295,
          87,
          358,
          340,
          47,
          126,
          154,
          238,
          101,
          308,
          345,
          89,
          89,
          207,
          327,
          15,
          86,
          345,
          184,
          79,
          361,
          2,
          216,
          67,
          29,
          5,
          354,
          13,
          212,
          312,
          151,
          78,
          189,
          334,
          98,
          102,
          56,
          365,
          14,
          347,
          250,
          103,
          271,
          326,
          268,
          58,
          260,
          2,
          155,
          272,
          328,
          3,
          365,
          133,
          53,
          104,
          344,
          274,
          330,
          195,
          332,
          336,
          199,
          0,
          219,
          24,
          349,
          4,
          333,
          276,
          50,
          6,
          330,
          359,
          94,
          206,
          266,
          336,
          193,
          22,
          354,
          115,
          1,
          83,
          21,
          191,
          1,
          219,
          319,
          34,
          32,
          361,
          2,
          193,
          345,
          364,
          363,
          230,
          93,
          142,
          1,
          186,
          365,
          360,
          20,
          3,
          68,
          211,
          39,
          13,
          0,
          11,
          183,
          344,
          336,
          206,
          346,
          187,
          334,
          114,
          339,
          20,
          0,
          213,
          93,
          74,
          308,
          360,
          361,
          106,
          361,
          352,
          354,
          365,
          57,
          301,
          229,
          303,
          365,
          42,
          365,
          133,
          350,
          87,
          193,
          21,
          17,
          188,
          316,
          0,
          301,
          245,
          303,
          248,
          341,
          95,
          87,
          318,
          7,
          18,
          298,
          25,
          143,
          305,
          324,
          254,
          109,
          212,
          86,
          358,
          140,
          279,
          338,
          281,
          78,
          254,
          42,
          312,
          158,
          347,
          149,
          315,
          253,
          206,
          337,
          6,
          309,
          243,
          52,
          326,
          118,
          49,
          358,
          309,
          200,
          325,
          357,
          257,
          117,
          78,
          124,
          0,
          352,
          10,
          154,
          178,
          341,
          2,
          8,
          29,
          218,
          344,
          115,
          72,
          151,
          113,
          30,
          11,
          195,
          199,
          274,
          322,
          307,
          364,
          359,
          230,
          280,
          19,
          360,
          356,
          195,
          1,
          358,
          351,
          348,
          1,
          358,
          5,
          43,
          281,
          222,
          100,
          76,
          21,
          234,
          361,
          280,
          357,
          360,
          43,
          27,
          251,
          152,
          192,
          272,
          353,
          0,
          1,
          232,
          7,
          355,
          66,
          3,
          196,
          180,
          199,
          254,
          41,
          150,
          297,
          1,
          324,
          1,
          282,
          279,
          151,
          0,
          200,
          135,
          43,
          347,
          365,
          307,
          308,
          210,
          108,
          3,
          0,
          44,
          3,
          110,
          85,
          285,
          288,
          126,
          217,
          104,
          161,
          304,
          342,
          117,
          272,
          165,
          303,
          157,
          249,
          0,
          31,
          59,
          68,
          53,
          265,
          365,
          171,
          359,
          303,
          360,
          66,
          7,
          0,
          284,
          108,
          93,
          56,
          17,
          89,
          177,
          1,
          268,
          334,
          299,
          304,
          196,
          309
         ],
         "xaxis": "x",
         "yaxis": "y"
        }
       ],
       "layout": {
        "barmode": "relative",
        "legend": {
         "title": {
          "text": "variable"
         },
         "tracegroupgap": 0
        },
        "margin": {
         "t": 60
        },
        "template": {
         "data": {
          "bar": [
           {
            "error_x": {
             "color": "#2a3f5f"
            },
            "error_y": {
             "color": "#2a3f5f"
            },
            "marker": {
             "line": {
              "color": "#E5ECF6",
              "width": 0.5
             },
             "pattern": {
              "fillmode": "overlay",
              "size": 10,
              "solidity": 0.2
             }
            },
            "type": "bar"
           }
          ],
          "barpolar": [
           {
            "marker": {
             "line": {
              "color": "#E5ECF6",
              "width": 0.5
             },
             "pattern": {
              "fillmode": "overlay",
              "size": 10,
              "solidity": 0.2
             }
            },
            "type": "barpolar"
           }
          ],
          "carpet": [
           {
            "aaxis": {
             "endlinecolor": "#2a3f5f",
             "gridcolor": "white",
             "linecolor": "white",
             "minorgridcolor": "white",
             "startlinecolor": "#2a3f5f"
            },
            "baxis": {
             "endlinecolor": "#2a3f5f",
             "gridcolor": "white",
             "linecolor": "white",
             "minorgridcolor": "white",
             "startlinecolor": "#2a3f5f"
            },
            "type": "carpet"
           }
          ],
          "choropleth": [
           {
            "colorbar": {
             "outlinewidth": 0,
             "ticks": ""
            },
            "type": "choropleth"
           }
          ],
          "contour": [
           {
            "colorbar": {
             "outlinewidth": 0,
             "ticks": ""
            },
            "colorscale": [
             [
              0,
              "#0d0887"
             ],
             [
              0.1111111111111111,
              "#46039f"
             ],
             [
              0.2222222222222222,
              "#7201a8"
             ],
             [
              0.3333333333333333,
              "#9c179e"
             ],
             [
              0.4444444444444444,
              "#bd3786"
             ],
             [
              0.5555555555555556,
              "#d8576b"
             ],
             [
              0.6666666666666666,
              "#ed7953"
             ],
             [
              0.7777777777777778,
              "#fb9f3a"
             ],
             [
              0.8888888888888888,
              "#fdca26"
             ],
             [
              1,
              "#f0f921"
             ]
            ],
            "type": "contour"
           }
          ],
          "contourcarpet": [
           {
            "colorbar": {
             "outlinewidth": 0,
             "ticks": ""
            },
            "type": "contourcarpet"
           }
          ],
          "heatmap": [
           {
            "colorbar": {
             "outlinewidth": 0,
             "ticks": ""
            },
            "colorscale": [
             [
              0,
              "#0d0887"
             ],
             [
              0.1111111111111111,
              "#46039f"
             ],
             [
              0.2222222222222222,
              "#7201a8"
             ],
             [
              0.3333333333333333,
              "#9c179e"
             ],
             [
              0.4444444444444444,
              "#bd3786"
             ],
             [
              0.5555555555555556,
              "#d8576b"
             ],
             [
              0.6666666666666666,
              "#ed7953"
             ],
             [
              0.7777777777777778,
              "#fb9f3a"
             ],
             [
              0.8888888888888888,
              "#fdca26"
             ],
             [
              1,
              "#f0f921"
             ]
            ],
            "type": "heatmap"
           }
          ],
          "heatmapgl": [
           {
            "colorbar": {
             "outlinewidth": 0,
             "ticks": ""
            },
            "colorscale": [
             [
              0,
              "#0d0887"
             ],
             [
              0.1111111111111111,
              "#46039f"
             ],
             [
              0.2222222222222222,
              "#7201a8"
             ],
             [
              0.3333333333333333,
              "#9c179e"
             ],
             [
              0.4444444444444444,
              "#bd3786"
             ],
             [
              0.5555555555555556,
              "#d8576b"
             ],
             [
              0.6666666666666666,
              "#ed7953"
             ],
             [
              0.7777777777777778,
              "#fb9f3a"
             ],
             [
              0.8888888888888888,
              "#fdca26"
             ],
             [
              1,
              "#f0f921"
             ]
            ],
            "type": "heatmapgl"
           }
          ],
          "histogram": [
           {
            "marker": {
             "pattern": {
              "fillmode": "overlay",
              "size": 10,
              "solidity": 0.2
             }
            },
            "type": "histogram"
           }
          ],
          "histogram2d": [
           {
            "colorbar": {
             "outlinewidth": 0,
             "ticks": ""
            },
            "colorscale": [
             [
              0,
              "#0d0887"
             ],
             [
              0.1111111111111111,
              "#46039f"
             ],
             [
              0.2222222222222222,
              "#7201a8"
             ],
             [
              0.3333333333333333,
              "#9c179e"
             ],
             [
              0.4444444444444444,
              "#bd3786"
             ],
             [
              0.5555555555555556,
              "#d8576b"
             ],
             [
              0.6666666666666666,
              "#ed7953"
             ],
             [
              0.7777777777777778,
              "#fb9f3a"
             ],
             [
              0.8888888888888888,
              "#fdca26"
             ],
             [
              1,
              "#f0f921"
             ]
            ],
            "type": "histogram2d"
           }
          ],
          "histogram2dcontour": [
           {
            "colorbar": {
             "outlinewidth": 0,
             "ticks": ""
            },
            "colorscale": [
             [
              0,
              "#0d0887"
             ],
             [
              0.1111111111111111,
              "#46039f"
             ],
             [
              0.2222222222222222,
              "#7201a8"
             ],
             [
              0.3333333333333333,
              "#9c179e"
             ],
             [
              0.4444444444444444,
              "#bd3786"
             ],
             [
              0.5555555555555556,
              "#d8576b"
             ],
             [
              0.6666666666666666,
              "#ed7953"
             ],
             [
              0.7777777777777778,
              "#fb9f3a"
             ],
             [
              0.8888888888888888,
              "#fdca26"
             ],
             [
              1,
              "#f0f921"
             ]
            ],
            "type": "histogram2dcontour"
           }
          ],
          "mesh3d": [
           {
            "colorbar": {
             "outlinewidth": 0,
             "ticks": ""
            },
            "type": "mesh3d"
           }
          ],
          "parcoords": [
           {
            "line": {
             "colorbar": {
              "outlinewidth": 0,
              "ticks": ""
             }
            },
            "type": "parcoords"
           }
          ],
          "pie": [
           {
            "automargin": true,
            "type": "pie"
           }
          ],
          "scatter": [
           {
            "fillpattern": {
             "fillmode": "overlay",
             "size": 10,
             "solidity": 0.2
            },
            "type": "scatter"
           }
          ],
          "scatter3d": [
           {
            "line": {
             "colorbar": {
              "outlinewidth": 0,
              "ticks": ""
             }
            },
            "marker": {
             "colorbar": {
              "outlinewidth": 0,
              "ticks": ""
             }
            },
            "type": "scatter3d"
           }
          ],
          "scattercarpet": [
           {
            "marker": {
             "colorbar": {
              "outlinewidth": 0,
              "ticks": ""
             }
            },
            "type": "scattercarpet"
           }
          ],
          "scattergeo": [
           {
            "marker": {
             "colorbar": {
              "outlinewidth": 0,
              "ticks": ""
             }
            },
            "type": "scattergeo"
           }
          ],
          "scattergl": [
           {
            "marker": {
             "colorbar": {
              "outlinewidth": 0,
              "ticks": ""
             }
            },
            "type": "scattergl"
           }
          ],
          "scattermapbox": [
           {
            "marker": {
             "colorbar": {
              "outlinewidth": 0,
              "ticks": ""
             }
            },
            "type": "scattermapbox"
           }
          ],
          "scatterpolar": [
           {
            "marker": {
             "colorbar": {
              "outlinewidth": 0,
              "ticks": ""
             }
            },
            "type": "scatterpolar"
           }
          ],
          "scatterpolargl": [
           {
            "marker": {
             "colorbar": {
              "outlinewidth": 0,
              "ticks": ""
             }
            },
            "type": "scatterpolargl"
           }
          ],
          "scatterternary": [
           {
            "marker": {
             "colorbar": {
              "outlinewidth": 0,
              "ticks": ""
             }
            },
            "type": "scatterternary"
           }
          ],
          "surface": [
           {
            "colorbar": {
             "outlinewidth": 0,
             "ticks": ""
            },
            "colorscale": [
             [
              0,
              "#0d0887"
             ],
             [
              0.1111111111111111,
              "#46039f"
             ],
             [
              0.2222222222222222,
              "#7201a8"
             ],
             [
              0.3333333333333333,
              "#9c179e"
             ],
             [
              0.4444444444444444,
              "#bd3786"
             ],
             [
              0.5555555555555556,
              "#d8576b"
             ],
             [
              0.6666666666666666,
              "#ed7953"
             ],
             [
              0.7777777777777778,
              "#fb9f3a"
             ],
             [
              0.8888888888888888,
              "#fdca26"
             ],
             [
              1,
              "#f0f921"
             ]
            ],
            "type": "surface"
           }
          ],
          "table": [
           {
            "cells": {
             "fill": {
              "color": "#EBF0F8"
             },
             "line": {
              "color": "white"
             }
            },
            "header": {
             "fill": {
              "color": "#C8D4E3"
             },
             "line": {
              "color": "white"
             }
            },
            "type": "table"
           }
          ]
         },
         "layout": {
          "annotationdefaults": {
           "arrowcolor": "#2a3f5f",
           "arrowhead": 0,
           "arrowwidth": 1
          },
          "autotypenumbers": "strict",
          "coloraxis": {
           "colorbar": {
            "outlinewidth": 0,
            "ticks": ""
           }
          },
          "colorscale": {
           "diverging": [
            [
             0,
             "#8e0152"
            ],
            [
             0.1,
             "#c51b7d"
            ],
            [
             0.2,
             "#de77ae"
            ],
            [
             0.3,
             "#f1b6da"
            ],
            [
             0.4,
             "#fde0ef"
            ],
            [
             0.5,
             "#f7f7f7"
            ],
            [
             0.6,
             "#e6f5d0"
            ],
            [
             0.7,
             "#b8e186"
            ],
            [
             0.8,
             "#7fbc41"
            ],
            [
             0.9,
             "#4d9221"
            ],
            [
             1,
             "#276419"
            ]
           ],
           "sequential": [
            [
             0,
             "#0d0887"
            ],
            [
             0.1111111111111111,
             "#46039f"
            ],
            [
             0.2222222222222222,
             "#7201a8"
            ],
            [
             0.3333333333333333,
             "#9c179e"
            ],
            [
             0.4444444444444444,
             "#bd3786"
            ],
            [
             0.5555555555555556,
             "#d8576b"
            ],
            [
             0.6666666666666666,
             "#ed7953"
            ],
            [
             0.7777777777777778,
             "#fb9f3a"
            ],
            [
             0.8888888888888888,
             "#fdca26"
            ],
            [
             1,
             "#f0f921"
            ]
           ],
           "sequentialminus": [
            [
             0,
             "#0d0887"
            ],
            [
             0.1111111111111111,
             "#46039f"
            ],
            [
             0.2222222222222222,
             "#7201a8"
            ],
            [
             0.3333333333333333,
             "#9c179e"
            ],
            [
             0.4444444444444444,
             "#bd3786"
            ],
            [
             0.5555555555555556,
             "#d8576b"
            ],
            [
             0.6666666666666666,
             "#ed7953"
            ],
            [
             0.7777777777777778,
             "#fb9f3a"
            ],
            [
             0.8888888888888888,
             "#fdca26"
            ],
            [
             1,
             "#f0f921"
            ]
           ]
          },
          "colorway": [
           "#636efa",
           "#EF553B",
           "#00cc96",
           "#ab63fa",
           "#FFA15A",
           "#19d3f3",
           "#FF6692",
           "#B6E880",
           "#FF97FF",
           "#FECB52"
          ],
          "font": {
           "color": "#2a3f5f"
          },
          "geo": {
           "bgcolor": "white",
           "lakecolor": "white",
           "landcolor": "#E5ECF6",
           "showlakes": true,
           "showland": true,
           "subunitcolor": "white"
          },
          "hoverlabel": {
           "align": "left"
          },
          "hovermode": "closest",
          "mapbox": {
           "style": "light"
          },
          "paper_bgcolor": "white",
          "plot_bgcolor": "#E5ECF6",
          "polar": {
           "angularaxis": {
            "gridcolor": "white",
            "linecolor": "white",
            "ticks": ""
           },
           "bgcolor": "#E5ECF6",
           "radialaxis": {
            "gridcolor": "white",
            "linecolor": "white",
            "ticks": ""
           }
          },
          "scene": {
           "xaxis": {
            "backgroundcolor": "#E5ECF6",
            "gridcolor": "white",
            "gridwidth": 2,
            "linecolor": "white",
            "showbackground": true,
            "ticks": "",
            "zerolinecolor": "white"
           },
           "yaxis": {
            "backgroundcolor": "#E5ECF6",
            "gridcolor": "white",
            "gridwidth": 2,
            "linecolor": "white",
            "showbackground": true,
            "ticks": "",
            "zerolinecolor": "white"
           },
           "zaxis": {
            "backgroundcolor": "#E5ECF6",
            "gridcolor": "white",
            "gridwidth": 2,
            "linecolor": "white",
            "showbackground": true,
            "ticks": "",
            "zerolinecolor": "white"
           }
          },
          "shapedefaults": {
           "line": {
            "color": "#2a3f5f"
           }
          },
          "ternary": {
           "aaxis": {
            "gridcolor": "white",
            "linecolor": "white",
            "ticks": ""
           },
           "baxis": {
            "gridcolor": "white",
            "linecolor": "white",
            "ticks": ""
           },
           "bgcolor": "#E5ECF6",
           "caxis": {
            "gridcolor": "white",
            "linecolor": "white",
            "ticks": ""
           }
          },
          "title": {
           "x": 0.05
          },
          "xaxis": {
           "automargin": true,
           "gridcolor": "white",
           "linecolor": "white",
           "ticks": "",
           "title": {
            "standoff": 15
           },
           "zerolinecolor": "white",
           "zerolinewidth": 2
          },
          "yaxis": {
           "automargin": true,
           "gridcolor": "white",
           "linecolor": "white",
           "ticks": "",
           "title": {
            "standoff": 15
           },
           "zerolinecolor": "white",
           "zerolinewidth": 2
          }
         }
        },
        "xaxis": {
         "anchor": "y",
         "domain": [
          0,
          1
         ],
         "title": {
          "text": "value"
         }
        },
        "yaxis": {
         "anchor": "x",
         "domain": [
          0,
          1
         ],
         "title": {
          "text": "count"
         }
        }
       }
      }
     },
     "metadata": {},
     "output_type": "display_data"
    }
   ],
   "source": [
    "px.histogram(ss)"
   ]
  },
  {
   "cell_type": "code",
   "execution_count": 203,
   "metadata": {},
   "outputs": [],
   "source": [
    "# https://realpython.com/python-super/#an-overview-of-pythons-super-function\n",
    "# https://github.com/transferwise/tw-experimentation/blob/578b030b3d6ef09d67c0d5ed0921c95703363507/tw_experimentation/bayes/numpyro_monkeypatch.py#L71\n",
    "class MixtureGeneralWithEnumSupport(dist.MixtureGeneral):\n",
    "    @property\n",
    "    def has_enumerate_support(self):\n",
    "        return True\n",
    "\n",
    "    def enumerate_support(self, expand=True):\n",
    "        return self.component_distributions[0].enumerate_support(expand=expand)"
   ]
  },
  {
   "cell_type": "code",
   "execution_count": 204,
   "metadata": {},
   "outputs": [],
   "source": [
    "prob_is_laid_off_soon = 0.4\n",
    "mixing_dist = dist.Categorical(\n",
    "    probs=jnp.array([prob_is_laid_off_soon, 1 - prob_is_laid_off_soon])\n",
    ")\n",
    "# When implementing a mixture distribution in NumPyro, \n",
    "# the component distributions are required to have\n",
    "# the same support.\n",
    "# Do some finagling here to make that a reality.\n",
    "common_support = np.zeros(shape=(366,))\n",
    "common_support[365] = 1\n",
    "common_support_jnp = jnp.array(common_support)\n",
    "component_dists = [\n",
    "    dist.BetaBinomial(\n",
    "        concentration1=0.5,\n",
    "        concentration0=0.5,\n",
    "        total_count=365\n",
    "    ),\n",
    "    dist.Categorical(\n",
    "        probs=common_support_jnp\n",
    "    )\n",
    "    # dist.TransformedDistribution(\n",
    "    #     base_distribution=dist.Delta(v=1),\n",
    "    #     transforms=dist.transforms.AffineTransform(\n",
    "    #         loc=0,\n",
    "    #         scale=365\n",
    "    #     )    \n",
    "    # )\n",
    "]\n",
    "common_support_2 = dist.constraints.integer_interval(lower_bound=0, upper_bound=365)\n",
    "beta_binom_mix = MixtureGeneralWithEnumSupport(\n",
    "    mixing_distribution=mixing_dist,\n",
    "    component_distributions=component_dists,\n",
    "    support=common_support_2\n",
    ")"
   ]
  },
  {
   "cell_type": "code",
   "execution_count": 205,
   "metadata": {},
   "outputs": [
    {
     "data": {
      "text/plain": [
       "Array(128, dtype=int32)"
      ]
     },
     "execution_count": 205,
     "metadata": {},
     "output_type": "execute_result"
    }
   ],
   "source": [
    "beta_binom_mix.sample(key=random.PRNGKey(0))"
   ]
  },
  {
   "cell_type": "code",
   "execution_count": 206,
   "metadata": {},
   "outputs": [
    {
     "data": {
      "text/plain": [
       "Array([  0,   1,   2,   3,   4,   5,   6,   7,   8,   9,  10,  11,  12,\n",
       "        13,  14,  15,  16,  17,  18,  19,  20,  21,  22,  23,  24,  25,\n",
       "        26,  27,  28,  29,  30,  31,  32,  33,  34,  35,  36,  37,  38,\n",
       "        39,  40,  41,  42,  43,  44,  45,  46,  47,  48,  49,  50,  51,\n",
       "        52,  53,  54,  55,  56,  57,  58,  59,  60,  61,  62,  63,  64,\n",
       "        65,  66,  67,  68,  69,  70,  71,  72,  73,  74,  75,  76,  77,\n",
       "        78,  79,  80,  81,  82,  83,  84,  85,  86,  87,  88,  89,  90,\n",
       "        91,  92,  93,  94,  95,  96,  97,  98,  99, 100, 101, 102, 103,\n",
       "       104, 105, 106, 107, 108, 109, 110, 111, 112, 113, 114, 115, 116,\n",
       "       117, 118, 119, 120, 121, 122, 123, 124, 125, 126, 127, 128, 129,\n",
       "       130, 131, 132, 133, 134, 135, 136, 137, 138, 139, 140, 141, 142,\n",
       "       143, 144, 145, 146, 147, 148, 149, 150, 151, 152, 153, 154, 155,\n",
       "       156, 157, 158, 159, 160, 161, 162, 163, 164, 165, 166, 167, 168,\n",
       "       169, 170, 171, 172, 173, 174, 175, 176, 177, 178, 179, 180, 181,\n",
       "       182, 183, 184, 185, 186, 187, 188, 189, 190, 191, 192, 193, 194,\n",
       "       195, 196, 197, 198, 199, 200, 201, 202, 203, 204, 205, 206, 207,\n",
       "       208, 209, 210, 211, 212, 213, 214, 215, 216, 217, 218, 219, 220,\n",
       "       221, 222, 223, 224, 225, 226, 227, 228, 229, 230, 231, 232, 233,\n",
       "       234, 235, 236, 237, 238, 239, 240, 241, 242, 243, 244, 245, 246,\n",
       "       247, 248, 249, 250, 251, 252, 253, 254, 255, 256, 257, 258, 259,\n",
       "       260, 261, 262, 263, 264, 265, 266, 267, 268, 269, 270, 271, 272,\n",
       "       273, 274, 275, 276, 277, 278, 279, 280, 281, 282, 283, 284, 285,\n",
       "       286, 287, 288, 289, 290, 291, 292, 293, 294, 295, 296, 297, 298,\n",
       "       299, 300, 301, 302, 303, 304, 305, 306, 307, 308, 309, 310, 311,\n",
       "       312, 313, 314, 315, 316, 317, 318, 319, 320, 321, 322, 323, 324,\n",
       "       325, 326, 327, 328, 329, 330, 331, 332, 333, 334, 335, 336, 337,\n",
       "       338, 339, 340, 341, 342, 343, 344, 345, 346, 347, 348, 349, 350,\n",
       "       351, 352, 353, 354, 355, 356, 357, 358, 359, 360, 361, 362, 363,\n",
       "       364, 365], dtype=int32)"
      ]
     },
     "execution_count": 206,
     "metadata": {},
     "output_type": "execute_result"
    }
   ],
   "source": [
    "beta_binom_mix.enumerate_support()"
   ]
  },
  {
   "cell_type": "code",
   "execution_count": 176,
   "metadata": {},
   "outputs": [
    {
     "data": {
      "text/plain": [
       "True"
      ]
     },
     "execution_count": 176,
     "metadata": {},
     "output_type": "execute_result"
    }
   ],
   "source": [
    "dist.BetaBinomial(\n",
    "        concentration1=0.5,\n",
    "        concentration0=0.5,\n",
    "        total_count=365\n",
    "    ).has_enumerate_support"
   ]
  },
  {
   "cell_type": "code",
   "execution_count": 191,
   "metadata": {},
   "outputs": [
    {
     "data": {
      "text/plain": [
       "Array([0, 1], dtype=int32)"
      ]
     },
     "execution_count": 191,
     "metadata": {},
     "output_type": "execute_result"
    }
   ],
   "source": [
    "dist.Categorical(\n",
    "        probs=jnp.array([prob_is_laid_off_soon, 1 - prob_is_laid_off_soon])\n",
    "    ).enumerate_support()"
   ]
  },
  {
   "cell_type": "code",
   "execution_count": 227,
   "metadata": {},
   "outputs": [],
   "source": [
    "def stay_utility(\n",
    "    prob_is_laid_off_soon\n",
    "):\n",
    "    \"\"\"Sample from the stochastic utility function\n",
    "\n",
    "    for staying in the current job.\n",
    "\n",
    "    Args:\n",
    "         \n",
    "        prob_is_laid_off_soon: probability of being laid off within the year\n",
    "\n",
    "    Returns:  \n",
    "    \"\"\"\n",
    "    # is_laid_off_current_job_soon is 1 if a layoff occurs in the next \n",
    "    # 12 months; otherwise, it is 0.\n",
    "    # is_laid_off_current_job_soon = numpyro.sample(\n",
    "    #     name=\"is_laid_off_current_job_soon\", \n",
    "    #     fn=dist.Bernoulli(prob_is_laid_off_soon),\n",
    "    #     rng_key=random.PRNGKey(0),\n",
    "    #     infer={\"enumerate\": \"parallel\"}\n",
    "    # )\n",
    "    mixing_dist = dist.Categorical(\n",
    "        probs=jnp.array([prob_is_laid_off_soon, 1 - prob_is_laid_off_soon])\n",
    "    )\n",
    "    # When implementing a mixture distribution in NumPyro, \n",
    "    # the component distributions are required to have\n",
    "    # the same support.\n",
    "    # Do some finagling here to make that a reality.\n",
    "    common_support = np.zeros(shape=(366,))\n",
    "    common_support[365] = 1\n",
    "    common_support_jnp = jnp.array(common_support)\n",
    "    component_dists = [\n",
    "        dist.BetaBinomial(\n",
    "            concentration1=0.5,\n",
    "            concentration0=0.5,\n",
    "            total_count=365\n",
    "        ),\n",
    "        dist.Categorical(\n",
    "            probs=common_support_jnp\n",
    "        )\n",
    "        # dist.TransformedDistribution(\n",
    "        #     base_distribution=dist.Delta(v=1),\n",
    "        #     transforms=dist.transforms.AffineTransform(\n",
    "        #         loc=0,\n",
    "        #         scale=365\n",
    "        #     )    \n",
    "        # )\n",
    "    ]\n",
    "    common_support_2 = dist.constraints.integer_interval(lower_bound=0, upper_bound=365)\n",
    "    beta_binom_mix = MixtureGeneralWithEnumSupport(\n",
    "        mixing_distribution=mixing_dist,\n",
    "        component_distributions=component_dists,\n",
    "        support=common_support_2\n",
    "    )\n",
    "    \n",
    "    \n",
    "    # prop_of_year_employed_current_job = 365 * numpyro.sample(\n",
    "    #     name=\"prop_of_year_employed_current_job\",\n",
    "    #     fn=dist.Beta(0.5, 0.5),\n",
    "    #     rng_key=random.PRNGKey(0)\n",
    "    # )\n",
    "    # additional_days_employed_in_current_job = numpyro.deterministic(\n",
    "    #     name=\"additional_days_employed_in_current_job\",\n",
    "    #     value=jnp.round(prob_is_laid_off_soon \\\n",
    "    #     * prop_of_year_employed_current_job + (1 - prob_is_laid_off_soon) \\\n",
    "    #     * 365)\n",
    "    # )\n",
    "    \n",
    "    # with numpyro.plate(\n",
    "    #     name=\"my_plate\",\n",
    "    #     size=5\n",
    "    # ):\n",
    "    additional_days_employed_in_current_job = numpyro.sample(\n",
    "        name=\"additional_days_employed_in_current_job\",\n",
    "        fn=beta_binom_mix,\n",
    "        # infer={\"enumerate\": \"parallel\"}\n",
    "    )\n",
    "\n",
    "    return additional_days_employed_in_current_job\n",
    "    ##############################\n",
    "    # additional_months_employed_in_current_job = is_laid_off_current_job_soon * 12 * prop_year_employed_current_job\n",
    "    # jnp.where(\n",
    "    #     condition=is_laid_off_current_job_soon,\n",
    "    #     x=\n",
    "    # )\n",
    "    # if laid_off_current_job_soon:\n",
    "    #     # How many months of employment were\n",
    "    #     # captured before the layoff?\n",
    "    #     # arcsine distribution is Beta(0.5, 0.5)\n",
    "    #     # https://en.wikipedia.org/wiki/Arcsine_distribution\n",
    "    #     arcsine_dist = dist.Beta(0.5, 0.5)\n",
    "    #     additional_months_employed_in_current_job = 12 * arcsine_dist.sample(key=rng_key)\n",
    "    # else:\n",
    "    #     additional_months_employed_in_current_job = 12\n",
    "    \n",
    "    # return additional_months_employed_in_current_job"
   ]
  },
  {
   "cell_type": "code",
   "execution_count": null,
   "metadata": {},
   "outputs": [],
   "source": [
    "\n",
    "stay_utility(\n",
    "    prob_is_laid_off_soon=0.3\n",
    ")"
   ]
  },
  {
   "cell_type": "code",
   "execution_count": 209,
   "metadata": {},
   "outputs": [
    {
     "data": {
      "image/svg+xml": [
       "<?xml version=\"1.0\" encoding=\"UTF-8\" standalone=\"no\"?>\n",
       "<!DOCTYPE svg PUBLIC \"-//W3C//DTD SVG 1.1//EN\"\n",
       " \"http://www.w3.org/Graphics/SVG/1.1/DTD/svg11.dtd\">\n",
       "<!-- Generated by graphviz version 11.0.0 (20240519.1550)\n",
       " -->\n",
       "<!-- Pages: 1 -->\n",
       "<svg width=\"478pt\" height=\"101pt\"\n",
       " viewBox=\"0.00 0.00 478.00 101.25\" xmlns=\"http://www.w3.org/2000/svg\" xmlns:xlink=\"http://www.w3.org/1999/xlink\">\n",
       "<g id=\"graph0\" class=\"graph\" transform=\"scale(1 1) rotate(0) translate(4 97.25)\">\n",
       "<polygon fill=\"white\" stroke=\"none\" points=\"-4,4 -4,-97.25 474,-97.25 474,4 -4,4\"/>\n",
       "<g id=\"clust1\" class=\"cluster\">\n",
       "<title>cluster_my_plate</title>\n",
       "<polygon fill=\"none\" stroke=\"black\" points=\"8,-8 8,-85.25 462,-85.25 462,-8 8,-8\"/>\n",
       "<text text-anchor=\"middle\" x=\"421.75\" y=\"-15.95\" font-family=\"Times,serif\" font-size=\"14.00\">my_plate</text>\n",
       "</g>\n",
       "<!-- additional_days_employed_in_current_job -->\n",
       "<g id=\"node1\" class=\"node\">\n",
       "<title>additional_days_employed_in_current_job</title>\n",
       "<ellipse fill=\"white\" stroke=\"black\" cx=\"235\" cy=\"-59.25\" rx=\"218.51\" ry=\"18\"/>\n",
       "<text text-anchor=\"middle\" x=\"235\" y=\"-54.58\" font-family=\"Times,serif\" font-size=\"14.00\">additional_days_employed_in_current_job</text>\n",
       "</g>\n",
       "</g>\n",
       "</svg>\n"
      ],
      "text/plain": [
       "<graphviz.graphs.Digraph at 0x750a6e677ad0>"
      ]
     },
     "execution_count": 209,
     "metadata": {},
     "output_type": "execute_result"
    }
   ],
   "source": [
    "numpyro.render_model(\n",
    "    model=stay_utility,\n",
    "    model_args=[0.5],\n",
    "    render_params=True\n",
    ")"
   ]
  },
  {
   "cell_type": "code",
   "execution_count": 239,
   "metadata": {},
   "outputs": [
    {
     "name": "stderr",
     "output_type": "stream",
     "text": [
      "/tmp/ipykernel_192521/619536135.py:11: UserWarning:\n",
      "\n",
      "There are not enough devices to run parallel chains: expected 4 but got 1. Chains will be drawn sequentially. If you are running MCMC in CPU, consider using `numpyro.set_host_device_count(4)` at the beginning of your program. You can double-check how many devices are available in your system using `jax.local_device_count()`.\n",
      "\n",
      "sample: 100%|██████████| 200/200 [00:03<00:00, 50.29it/s, 1 steps of size 4.65e+18. acc. prob=1.00]\n",
      "sample: 100%|██████████| 200/200 [00:00<00:00, 1127.56it/s, 1 steps of size 4.65e+18. acc. prob=1.00]\n",
      "sample: 100%|██████████| 200/200 [00:00<00:00, 1152.43it/s, 1 steps of size 4.65e+18. acc. prob=1.00]\n",
      "sample: 100%|██████████| 200/200 [00:00<00:00, 1179.38it/s, 1 steps of size 4.65e+18. acc. prob=1.00]\n"
     ]
    }
   ],
   "source": [
    "nuts_kernel = NUTS(model=stay_utility)\n",
    "hmc_kernel = HMC(model=stay_utility)\n",
    "hmc_gibbs = DiscreteHMCGibbs(\n",
    "    inner_kernel=nuts_kernel\n",
    ")\n",
    "\n",
    "mixed_hmc = MixedHMC(\n",
    "    inner_kernel=hmc_kernel   \n",
    ")\n",
    "\n",
    "mcmc = MCMC(\n",
    "        sampler=mixed_hmc,\n",
    "        num_warmup=100,\n",
    "        num_samples=100,\n",
    "        num_chains=4\n",
    ")\n",
    "\n",
    "# Run the MCMC sampler and collect samples\n",
    "mcmc.run(\n",
    "        rng_key=random.PRNGKey(seed=42),\n",
    "        prob_is_laid_off_soon=0.7\n",
    ")"
   ]
  },
  {
   "cell_type": "code",
   "execution_count": 236,
   "metadata": {},
   "outputs": [
    {
     "name": "stderr",
     "output_type": "stream",
     "text": [
      "/tmp/ipykernel_192521/1771088140.py:2: UserWarning:\n",
      "\n",
      "There are not enough devices to run parallel chains: expected 4 but got 1. Chains will be drawn sequentially. If you are running MCMC in CPU, consider using `numpyro.set_host_device_count(4)` at the beginning of your program. You can double-check how many devices are available in your system using `jax.local_device_count()`.\n",
      "\n",
      "/tmp/ipykernel_192521/1771088140.py:10: FutureWarning:\n",
      "\n",
      "Some algorithms will automatically enumerate the discrete latent site additional_days_employed_in_current_job of your model. In the future, enumerated sites need to be marked with `infer={'enumerate': 'parallel'}`.\n",
      "\n",
      "sample: 100%|██████████| 200/200 [00:01<00:00, 111.31it/s, 1 steps of size 4.65e+18. acc. prob=1.00]\n",
      "/tmp/ipykernel_192521/1771088140.py:10: FutureWarning:\n",
      "\n",
      "Some algorithms will automatically enumerate the discrete latent site additional_days_employed_in_current_job of your model. In the future, enumerated sites need to be marked with `infer={'enumerate': 'parallel'}`.\n",
      "\n",
      "sample: 100%|██████████| 200/200 [00:00<00:00, 988.42it/s, 1 steps of size 4.65e+18. acc. prob=1.00] \n",
      "/tmp/ipykernel_192521/1771088140.py:10: FutureWarning:\n",
      "\n",
      "Some algorithms will automatically enumerate the discrete latent site additional_days_employed_in_current_job of your model. In the future, enumerated sites need to be marked with `infer={'enumerate': 'parallel'}`.\n",
      "\n",
      "sample: 100%|██████████| 200/200 [00:00<00:00, 1053.31it/s, 1 steps of size 4.65e+18. acc. prob=1.00]\n",
      "/tmp/ipykernel_192521/1771088140.py:10: FutureWarning:\n",
      "\n",
      "Some algorithms will automatically enumerate the discrete latent site additional_days_employed_in_current_job of your model. In the future, enumerated sites need to be marked with `infer={'enumerate': 'parallel'}`.\n",
      "\n",
      "sample: 100%|██████████| 200/200 [00:00<00:00, 1221.43it/s, 1 steps of size 4.65e+18. acc. prob=1.00]\n"
     ]
    }
   ],
   "source": [
    "# Instantiate a `MCMC` object using a NUTS sampler\n",
    "mcmc = MCMC(\n",
    "        sampler=nuts_kernel,\n",
    "        num_warmup=100,\n",
    "        num_samples=100,\n",
    "        num_chains=4\n",
    ")\n",
    "\n",
    "# Run the MCMC sampler and collect samples\n",
    "mcmc.run(\n",
    "        rng_key=random.PRNGKey(seed=42),\n",
    "        prob_is_laid_off_soon=0.7\n",
    ")"
   ]
  },
  {
   "cell_type": "code",
   "execution_count": 240,
   "metadata": {},
   "outputs": [],
   "source": [
    "samples = mcmc.get_samples()"
   ]
  },
  {
   "cell_type": "code",
   "execution_count": 241,
   "metadata": {},
   "outputs": [
    {
     "data": {
      "text/plain": [
       "{'additional_days_employed_in_current_job': Array([365, 365, 237,   6, 365,   5,  34, 365, 365,  48, 202,   0, 365,\n",
       "        365, 362, 365,  34, 116,   0, 365, 365,  17, 365, 136,  56,  55,\n",
       "        196, 360, 362, 345, 365, 347, 294, 191, 215, 134, 146, 365, 365,\n",
       "        351, 365,   1, 232, 365, 157, 365,  95, 284,  58,  20, 325,   3,\n",
       "         41,  21, 365, 118,  14, 362,   2, 350,   0,   4,   1, 365, 255,\n",
       "         12, 365,  11, 191, 214, 167, 365,  87, 365, 207, 365, 365, 365,\n",
       "        365, 365, 365, 326,  94, 353, 287,   1,  29, 204, 210, 273, 365,\n",
       "        314,  14, 365, 365, 180, 330,  56, 235, 365, 365,  18, 365, 365,\n",
       "         29,  27, 365,  80, 154, 365,  28,   6, 118, 250,  61, 214, 364,\n",
       "         99, 365, 365, 365, 298,   1, 365, 346, 202, 173, 365, 365, 365,\n",
       "        365, 365, 365,   0, 365, 338, 150, 365, 188, 365, 365, 320,  20,\n",
       "          3,  13, 365, 217, 365, 157, 258, 338, 365, 132, 216, 197, 112,\n",
       "        365, 365, 247,  34, 254, 300, 364, 365, 360, 365, 189, 365, 365,\n",
       "        251, 300, 365,  64, 365, 365, 303,   3,  90, 359, 357, 156, 186,\n",
       "        365, 365, 365, 144, 278, 340, 146, 192, 287, 365, 365, 218,  19,\n",
       "         10, 314,   1, 227, 365, 255, 324, 196, 365, 344, 344, 347,  20,\n",
       "        334,  10, 260, 365, 365,  15, 365, 365, 361, 337, 360, 269, 365,\n",
       "          3, 311, 365, 365, 360, 365, 365, 365, 105, 365, 254, 352, 365,\n",
       "        365, 365, 355, 365,   4, 148, 275, 365, 365,  14, 365,  73, 153,\n",
       "         14,  74, 362, 365, 365, 362, 190, 365, 365,  78, 365, 130, 365,\n",
       "        365, 104, 121, 362, 365, 346,  10, 287, 304, 365,  15, 365, 251,\n",
       "        166,   4, 365,   9, 354, 160,  53, 207, 257,  20, 365,  31,  89,\n",
       "        365, 163, 365,  38,  86, 365,  25, 365, 161, 336, 365, 365,  65,\n",
       "        104, 365,  39,  73, 342, 290, 365,   2, 361,  35,   5, 353,   0,\n",
       "        343, 293,  54, 365, 365, 361, 365, 365,  58, 327, 365,   2,   5,\n",
       "        365, 256, 365, 365, 365, 365,  92, 356, 186,  20, 132, 331, 365,\n",
       "        183, 358, 189,   9, 310, 331, 365,  60,  70, 365, 307,  90, 365,\n",
       "        328, 365, 278,   1, 248,   3,   1, 295, 365, 365, 365, 224, 365,\n",
       "        223, 300, 331, 365, 357, 211,  65,  64, 365, 241, 365,  20, 365,\n",
       "        365,  20, 132,   1, 365, 347, 365, 202, 328, 172, 365, 150, 208,\n",
       "         50, 365, 113, 320,  30, 365,   1, 265, 351, 365], dtype=int32)}"
      ]
     },
     "execution_count": 241,
     "metadata": {},
     "output_type": "execute_result"
    }
   ],
   "source": [
    "samples"
   ]
  },
  {
   "cell_type": "code",
   "execution_count": 242,
   "metadata": {},
   "outputs": [
    {
     "data": {
      "application/vnd.plotly.v1+json": {
       "config": {
        "plotlyServerURL": "https://plot.ly"
       },
       "data": [
        {
         "alignmentgroup": "True",
         "bingroup": "x",
         "hovertemplate": "variable=0<br>value=%{x}<br>count=%{y}<extra></extra>",
         "legendgroup": "0",
         "marker": {
          "color": "#636efa",
          "pattern": {
           "shape": ""
          }
         },
         "name": "0",
         "offsetgroup": "0",
         "orientation": "v",
         "showlegend": true,
         "type": "histogram",
         "x": [
          365,
          365,
          237,
          6,
          365,
          5,
          34,
          365,
          365,
          48,
          202,
          0,
          365,
          365,
          362,
          365,
          34,
          116,
          0,
          365,
          365,
          17,
          365,
          136,
          56,
          55,
          196,
          360,
          362,
          345,
          365,
          347,
          294,
          191,
          215,
          134,
          146,
          365,
          365,
          351,
          365,
          1,
          232,
          365,
          157,
          365,
          95,
          284,
          58,
          20,
          325,
          3,
          41,
          21,
          365,
          118,
          14,
          362,
          2,
          350,
          0,
          4,
          1,
          365,
          255,
          12,
          365,
          11,
          191,
          214,
          167,
          365,
          87,
          365,
          207,
          365,
          365,
          365,
          365,
          365,
          365,
          326,
          94,
          353,
          287,
          1,
          29,
          204,
          210,
          273,
          365,
          314,
          14,
          365,
          365,
          180,
          330,
          56,
          235,
          365,
          365,
          18,
          365,
          365,
          29,
          27,
          365,
          80,
          154,
          365,
          28,
          6,
          118,
          250,
          61,
          214,
          364,
          99,
          365,
          365,
          365,
          298,
          1,
          365,
          346,
          202,
          173,
          365,
          365,
          365,
          365,
          365,
          365,
          0,
          365,
          338,
          150,
          365,
          188,
          365,
          365,
          320,
          20,
          3,
          13,
          365,
          217,
          365,
          157,
          258,
          338,
          365,
          132,
          216,
          197,
          112,
          365,
          365,
          247,
          34,
          254,
          300,
          364,
          365,
          360,
          365,
          189,
          365,
          365,
          251,
          300,
          365,
          64,
          365,
          365,
          303,
          3,
          90,
          359,
          357,
          156,
          186,
          365,
          365,
          365,
          144,
          278,
          340,
          146,
          192,
          287,
          365,
          365,
          218,
          19,
          10,
          314,
          1,
          227,
          365,
          255,
          324,
          196,
          365,
          344,
          344,
          347,
          20,
          334,
          10,
          260,
          365,
          365,
          15,
          365,
          365,
          361,
          337,
          360,
          269,
          365,
          3,
          311,
          365,
          365,
          360,
          365,
          365,
          365,
          105,
          365,
          254,
          352,
          365,
          365,
          365,
          355,
          365,
          4,
          148,
          275,
          365,
          365,
          14,
          365,
          73,
          153,
          14,
          74,
          362,
          365,
          365,
          362,
          190,
          365,
          365,
          78,
          365,
          130,
          365,
          365,
          104,
          121,
          362,
          365,
          346,
          10,
          287,
          304,
          365,
          15,
          365,
          251,
          166,
          4,
          365,
          9,
          354,
          160,
          53,
          207,
          257,
          20,
          365,
          31,
          89,
          365,
          163,
          365,
          38,
          86,
          365,
          25,
          365,
          161,
          336,
          365,
          365,
          65,
          104,
          365,
          39,
          73,
          342,
          290,
          365,
          2,
          361,
          35,
          5,
          353,
          0,
          343,
          293,
          54,
          365,
          365,
          361,
          365,
          365,
          58,
          327,
          365,
          2,
          5,
          365,
          256,
          365,
          365,
          365,
          365,
          92,
          356,
          186,
          20,
          132,
          331,
          365,
          183,
          358,
          189,
          9,
          310,
          331,
          365,
          60,
          70,
          365,
          307,
          90,
          365,
          328,
          365,
          278,
          1,
          248,
          3,
          1,
          295,
          365,
          365,
          365,
          224,
          365,
          223,
          300,
          331,
          365,
          357,
          211,
          65,
          64,
          365,
          241,
          365,
          20,
          365,
          365,
          20,
          132,
          1,
          365,
          347,
          365,
          202,
          328,
          172,
          365,
          150,
          208,
          50,
          365,
          113,
          320,
          30,
          365,
          1,
          265,
          351,
          365
         ],
         "xaxis": "x",
         "yaxis": "y"
        }
       ],
       "layout": {
        "barmode": "relative",
        "legend": {
         "title": {
          "text": "variable"
         },
         "tracegroupgap": 0
        },
        "margin": {
         "t": 60
        },
        "template": {
         "data": {
          "bar": [
           {
            "error_x": {
             "color": "#2a3f5f"
            },
            "error_y": {
             "color": "#2a3f5f"
            },
            "marker": {
             "line": {
              "color": "#E5ECF6",
              "width": 0.5
             },
             "pattern": {
              "fillmode": "overlay",
              "size": 10,
              "solidity": 0.2
             }
            },
            "type": "bar"
           }
          ],
          "barpolar": [
           {
            "marker": {
             "line": {
              "color": "#E5ECF6",
              "width": 0.5
             },
             "pattern": {
              "fillmode": "overlay",
              "size": 10,
              "solidity": 0.2
             }
            },
            "type": "barpolar"
           }
          ],
          "carpet": [
           {
            "aaxis": {
             "endlinecolor": "#2a3f5f",
             "gridcolor": "white",
             "linecolor": "white",
             "minorgridcolor": "white",
             "startlinecolor": "#2a3f5f"
            },
            "baxis": {
             "endlinecolor": "#2a3f5f",
             "gridcolor": "white",
             "linecolor": "white",
             "minorgridcolor": "white",
             "startlinecolor": "#2a3f5f"
            },
            "type": "carpet"
           }
          ],
          "choropleth": [
           {
            "colorbar": {
             "outlinewidth": 0,
             "ticks": ""
            },
            "type": "choropleth"
           }
          ],
          "contour": [
           {
            "colorbar": {
             "outlinewidth": 0,
             "ticks": ""
            },
            "colorscale": [
             [
              0,
              "#0d0887"
             ],
             [
              0.1111111111111111,
              "#46039f"
             ],
             [
              0.2222222222222222,
              "#7201a8"
             ],
             [
              0.3333333333333333,
              "#9c179e"
             ],
             [
              0.4444444444444444,
              "#bd3786"
             ],
             [
              0.5555555555555556,
              "#d8576b"
             ],
             [
              0.6666666666666666,
              "#ed7953"
             ],
             [
              0.7777777777777778,
              "#fb9f3a"
             ],
             [
              0.8888888888888888,
              "#fdca26"
             ],
             [
              1,
              "#f0f921"
             ]
            ],
            "type": "contour"
           }
          ],
          "contourcarpet": [
           {
            "colorbar": {
             "outlinewidth": 0,
             "ticks": ""
            },
            "type": "contourcarpet"
           }
          ],
          "heatmap": [
           {
            "colorbar": {
             "outlinewidth": 0,
             "ticks": ""
            },
            "colorscale": [
             [
              0,
              "#0d0887"
             ],
             [
              0.1111111111111111,
              "#46039f"
             ],
             [
              0.2222222222222222,
              "#7201a8"
             ],
             [
              0.3333333333333333,
              "#9c179e"
             ],
             [
              0.4444444444444444,
              "#bd3786"
             ],
             [
              0.5555555555555556,
              "#d8576b"
             ],
             [
              0.6666666666666666,
              "#ed7953"
             ],
             [
              0.7777777777777778,
              "#fb9f3a"
             ],
             [
              0.8888888888888888,
              "#fdca26"
             ],
             [
              1,
              "#f0f921"
             ]
            ],
            "type": "heatmap"
           }
          ],
          "heatmapgl": [
           {
            "colorbar": {
             "outlinewidth": 0,
             "ticks": ""
            },
            "colorscale": [
             [
              0,
              "#0d0887"
             ],
             [
              0.1111111111111111,
              "#46039f"
             ],
             [
              0.2222222222222222,
              "#7201a8"
             ],
             [
              0.3333333333333333,
              "#9c179e"
             ],
             [
              0.4444444444444444,
              "#bd3786"
             ],
             [
              0.5555555555555556,
              "#d8576b"
             ],
             [
              0.6666666666666666,
              "#ed7953"
             ],
             [
              0.7777777777777778,
              "#fb9f3a"
             ],
             [
              0.8888888888888888,
              "#fdca26"
             ],
             [
              1,
              "#f0f921"
             ]
            ],
            "type": "heatmapgl"
           }
          ],
          "histogram": [
           {
            "marker": {
             "pattern": {
              "fillmode": "overlay",
              "size": 10,
              "solidity": 0.2
             }
            },
            "type": "histogram"
           }
          ],
          "histogram2d": [
           {
            "colorbar": {
             "outlinewidth": 0,
             "ticks": ""
            },
            "colorscale": [
             [
              0,
              "#0d0887"
             ],
             [
              0.1111111111111111,
              "#46039f"
             ],
             [
              0.2222222222222222,
              "#7201a8"
             ],
             [
              0.3333333333333333,
              "#9c179e"
             ],
             [
              0.4444444444444444,
              "#bd3786"
             ],
             [
              0.5555555555555556,
              "#d8576b"
             ],
             [
              0.6666666666666666,
              "#ed7953"
             ],
             [
              0.7777777777777778,
              "#fb9f3a"
             ],
             [
              0.8888888888888888,
              "#fdca26"
             ],
             [
              1,
              "#f0f921"
             ]
            ],
            "type": "histogram2d"
           }
          ],
          "histogram2dcontour": [
           {
            "colorbar": {
             "outlinewidth": 0,
             "ticks": ""
            },
            "colorscale": [
             [
              0,
              "#0d0887"
             ],
             [
              0.1111111111111111,
              "#46039f"
             ],
             [
              0.2222222222222222,
              "#7201a8"
             ],
             [
              0.3333333333333333,
              "#9c179e"
             ],
             [
              0.4444444444444444,
              "#bd3786"
             ],
             [
              0.5555555555555556,
              "#d8576b"
             ],
             [
              0.6666666666666666,
              "#ed7953"
             ],
             [
              0.7777777777777778,
              "#fb9f3a"
             ],
             [
              0.8888888888888888,
              "#fdca26"
             ],
             [
              1,
              "#f0f921"
             ]
            ],
            "type": "histogram2dcontour"
           }
          ],
          "mesh3d": [
           {
            "colorbar": {
             "outlinewidth": 0,
             "ticks": ""
            },
            "type": "mesh3d"
           }
          ],
          "parcoords": [
           {
            "line": {
             "colorbar": {
              "outlinewidth": 0,
              "ticks": ""
             }
            },
            "type": "parcoords"
           }
          ],
          "pie": [
           {
            "automargin": true,
            "type": "pie"
           }
          ],
          "scatter": [
           {
            "fillpattern": {
             "fillmode": "overlay",
             "size": 10,
             "solidity": 0.2
            },
            "type": "scatter"
           }
          ],
          "scatter3d": [
           {
            "line": {
             "colorbar": {
              "outlinewidth": 0,
              "ticks": ""
             }
            },
            "marker": {
             "colorbar": {
              "outlinewidth": 0,
              "ticks": ""
             }
            },
            "type": "scatter3d"
           }
          ],
          "scattercarpet": [
           {
            "marker": {
             "colorbar": {
              "outlinewidth": 0,
              "ticks": ""
             }
            },
            "type": "scattercarpet"
           }
          ],
          "scattergeo": [
           {
            "marker": {
             "colorbar": {
              "outlinewidth": 0,
              "ticks": ""
             }
            },
            "type": "scattergeo"
           }
          ],
          "scattergl": [
           {
            "marker": {
             "colorbar": {
              "outlinewidth": 0,
              "ticks": ""
             }
            },
            "type": "scattergl"
           }
          ],
          "scattermapbox": [
           {
            "marker": {
             "colorbar": {
              "outlinewidth": 0,
              "ticks": ""
             }
            },
            "type": "scattermapbox"
           }
          ],
          "scatterpolar": [
           {
            "marker": {
             "colorbar": {
              "outlinewidth": 0,
              "ticks": ""
             }
            },
            "type": "scatterpolar"
           }
          ],
          "scatterpolargl": [
           {
            "marker": {
             "colorbar": {
              "outlinewidth": 0,
              "ticks": ""
             }
            },
            "type": "scatterpolargl"
           }
          ],
          "scatterternary": [
           {
            "marker": {
             "colorbar": {
              "outlinewidth": 0,
              "ticks": ""
             }
            },
            "type": "scatterternary"
           }
          ],
          "surface": [
           {
            "colorbar": {
             "outlinewidth": 0,
             "ticks": ""
            },
            "colorscale": [
             [
              0,
              "#0d0887"
             ],
             [
              0.1111111111111111,
              "#46039f"
             ],
             [
              0.2222222222222222,
              "#7201a8"
             ],
             [
              0.3333333333333333,
              "#9c179e"
             ],
             [
              0.4444444444444444,
              "#bd3786"
             ],
             [
              0.5555555555555556,
              "#d8576b"
             ],
             [
              0.6666666666666666,
              "#ed7953"
             ],
             [
              0.7777777777777778,
              "#fb9f3a"
             ],
             [
              0.8888888888888888,
              "#fdca26"
             ],
             [
              1,
              "#f0f921"
             ]
            ],
            "type": "surface"
           }
          ],
          "table": [
           {
            "cells": {
             "fill": {
              "color": "#EBF0F8"
             },
             "line": {
              "color": "white"
             }
            },
            "header": {
             "fill": {
              "color": "#C8D4E3"
             },
             "line": {
              "color": "white"
             }
            },
            "type": "table"
           }
          ]
         },
         "layout": {
          "annotationdefaults": {
           "arrowcolor": "#2a3f5f",
           "arrowhead": 0,
           "arrowwidth": 1
          },
          "autotypenumbers": "strict",
          "coloraxis": {
           "colorbar": {
            "outlinewidth": 0,
            "ticks": ""
           }
          },
          "colorscale": {
           "diverging": [
            [
             0,
             "#8e0152"
            ],
            [
             0.1,
             "#c51b7d"
            ],
            [
             0.2,
             "#de77ae"
            ],
            [
             0.3,
             "#f1b6da"
            ],
            [
             0.4,
             "#fde0ef"
            ],
            [
             0.5,
             "#f7f7f7"
            ],
            [
             0.6,
             "#e6f5d0"
            ],
            [
             0.7,
             "#b8e186"
            ],
            [
             0.8,
             "#7fbc41"
            ],
            [
             0.9,
             "#4d9221"
            ],
            [
             1,
             "#276419"
            ]
           ],
           "sequential": [
            [
             0,
             "#0d0887"
            ],
            [
             0.1111111111111111,
             "#46039f"
            ],
            [
             0.2222222222222222,
             "#7201a8"
            ],
            [
             0.3333333333333333,
             "#9c179e"
            ],
            [
             0.4444444444444444,
             "#bd3786"
            ],
            [
             0.5555555555555556,
             "#d8576b"
            ],
            [
             0.6666666666666666,
             "#ed7953"
            ],
            [
             0.7777777777777778,
             "#fb9f3a"
            ],
            [
             0.8888888888888888,
             "#fdca26"
            ],
            [
             1,
             "#f0f921"
            ]
           ],
           "sequentialminus": [
            [
             0,
             "#0d0887"
            ],
            [
             0.1111111111111111,
             "#46039f"
            ],
            [
             0.2222222222222222,
             "#7201a8"
            ],
            [
             0.3333333333333333,
             "#9c179e"
            ],
            [
             0.4444444444444444,
             "#bd3786"
            ],
            [
             0.5555555555555556,
             "#d8576b"
            ],
            [
             0.6666666666666666,
             "#ed7953"
            ],
            [
             0.7777777777777778,
             "#fb9f3a"
            ],
            [
             0.8888888888888888,
             "#fdca26"
            ],
            [
             1,
             "#f0f921"
            ]
           ]
          },
          "colorway": [
           "#636efa",
           "#EF553B",
           "#00cc96",
           "#ab63fa",
           "#FFA15A",
           "#19d3f3",
           "#FF6692",
           "#B6E880",
           "#FF97FF",
           "#FECB52"
          ],
          "font": {
           "color": "#2a3f5f"
          },
          "geo": {
           "bgcolor": "white",
           "lakecolor": "white",
           "landcolor": "#E5ECF6",
           "showlakes": true,
           "showland": true,
           "subunitcolor": "white"
          },
          "hoverlabel": {
           "align": "left"
          },
          "hovermode": "closest",
          "mapbox": {
           "style": "light"
          },
          "paper_bgcolor": "white",
          "plot_bgcolor": "#E5ECF6",
          "polar": {
           "angularaxis": {
            "gridcolor": "white",
            "linecolor": "white",
            "ticks": ""
           },
           "bgcolor": "#E5ECF6",
           "radialaxis": {
            "gridcolor": "white",
            "linecolor": "white",
            "ticks": ""
           }
          },
          "scene": {
           "xaxis": {
            "backgroundcolor": "#E5ECF6",
            "gridcolor": "white",
            "gridwidth": 2,
            "linecolor": "white",
            "showbackground": true,
            "ticks": "",
            "zerolinecolor": "white"
           },
           "yaxis": {
            "backgroundcolor": "#E5ECF6",
            "gridcolor": "white",
            "gridwidth": 2,
            "linecolor": "white",
            "showbackground": true,
            "ticks": "",
            "zerolinecolor": "white"
           },
           "zaxis": {
            "backgroundcolor": "#E5ECF6",
            "gridcolor": "white",
            "gridwidth": 2,
            "linecolor": "white",
            "showbackground": true,
            "ticks": "",
            "zerolinecolor": "white"
           }
          },
          "shapedefaults": {
           "line": {
            "color": "#2a3f5f"
           }
          },
          "ternary": {
           "aaxis": {
            "gridcolor": "white",
            "linecolor": "white",
            "ticks": ""
           },
           "baxis": {
            "gridcolor": "white",
            "linecolor": "white",
            "ticks": ""
           },
           "bgcolor": "#E5ECF6",
           "caxis": {
            "gridcolor": "white",
            "linecolor": "white",
            "ticks": ""
           }
          },
          "title": {
           "x": 0.05
          },
          "xaxis": {
           "automargin": true,
           "gridcolor": "white",
           "linecolor": "white",
           "ticks": "",
           "title": {
            "standoff": 15
           },
           "zerolinecolor": "white",
           "zerolinewidth": 2
          },
          "yaxis": {
           "automargin": true,
           "gridcolor": "white",
           "linecolor": "white",
           "ticks": "",
           "title": {
            "standoff": 15
           },
           "zerolinecolor": "white",
           "zerolinewidth": 2
          }
         }
        },
        "xaxis": {
         "anchor": "y",
         "domain": [
          0,
          1
         ],
         "title": {
          "text": "value"
         }
        },
        "yaxis": {
         "anchor": "x",
         "domain": [
          0,
          1
         ],
         "title": {
          "text": "count"
         }
        }
       }
      }
     },
     "metadata": {},
     "output_type": "display_data"
    }
   ],
   "source": [
    "px.histogram(samples[\"additional_days_employed_in_current_job\"])"
   ]
  },
  {
   "cell_type": "code",
   "execution_count": null,
   "metadata": {},
   "outputs": [],
   "source": [
    "numpyro.sample(name=\"u\", fn=stay_utility)"
   ]
  },
  {
   "cell_type": "code",
   "execution_count": null,
   "metadata": {},
   "outputs": [],
   "source": [
    "copula = dist.GaussianCopulaBeta(np.array([2, 3]), np.array([4, 5]), np.array([[0.8]]))"
   ]
  },
  {
   "cell_type": "code",
   "execution_count": null,
   "metadata": {},
   "outputs": [],
   "source": [
    "copula.sample(key=rng_key)"
   ]
  },
  {
   "cell_type": "code",
   "execution_count": null,
   "metadata": {},
   "outputs": [],
   "source": [
    "v = stay_utility(a=a, b=b, c=c, gamma=1.9, rng_key=rng_key)"
   ]
  },
  {
   "cell_type": "code",
   "execution_count": null,
   "metadata": {},
   "outputs": [],
   "source": [
    "fig = px.histogram(v)\n",
    "fig.show()"
   ]
  }
 ],
 "metadata": {
  "kernelspec": {
   "display_name": "job_decision",
   "language": "python",
   "name": "python3"
  },
  "language_info": {
   "codemirror_mode": {
    "name": "ipython",
    "version": 3
   },
   "file_extension": ".py",
   "mimetype": "text/x-python",
   "name": "python",
   "nbconvert_exporter": "python",
   "pygments_lexer": "ipython3",
   "version": "3.12.4"
  }
 },
 "nbformat": 4,
 "nbformat_minor": 2
}
